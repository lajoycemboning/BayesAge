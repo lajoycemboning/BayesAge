{
 "cells": [
  {
   "cell_type": "markdown",
   "metadata": {},
   "source": [
    "# Multiple Tau Value Analysis Using Leave 10 Out Cross Validation"
   ]
  },
  {
   "cell_type": "code",
   "execution_count": 27,
   "metadata": {},
   "outputs": [],
   "source": [
    "import pandas as pd\n",
    "import numpy as np\n",
    "import os\n",
    "os.chdir(\"/Users/lajoyce/Documents/genomics/epiage/BayesAge\")"
   ]
  },
  {
   "cell_type": "code",
   "execution_count": 28,
   "metadata": {},
   "outputs": [],
   "source": [
    "import BayesAge"
   ]
  },
  {
   "cell_type": "markdown",
   "metadata": {},
   "source": [
    "## Construct Reference for the left out matrices"
   ]
  },
  {
   "cell_type": "code",
   "execution_count": 29,
   "metadata": {},
   "outputs": [],
   "source": [
    "from BayesAge import construct_reference"
   ]
  },
  {
   "cell_type": "code",
   "execution_count": 7,
   "metadata": {},
   "outputs": [
    {
     "data": {
      "text/html": [
       "<div>\n",
       "<style scoped>\n",
       "    .dataframe tbody tr th:only-of-type {\n",
       "        vertical-align: middle;\n",
       "    }\n",
       "\n",
       "    .dataframe tbody tr th {\n",
       "        vertical-align: top;\n",
       "    }\n",
       "\n",
       "    .dataframe thead th {\n",
       "        text-align: right;\n",
       "    }\n",
       "</style>\n",
       "<table border=\"1\" class=\"dataframe\">\n",
       "  <thead>\n",
       "    <tr style=\"text-align: right;\">\n",
       "      <th></th>\n",
       "      <th>sampleID</th>\n",
       "      <th>chr1_100424052</th>\n",
       "      <th>chr1_100424116</th>\n",
       "      <th>chr1_100718749</th>\n",
       "      <th>chr1_100718777</th>\n",
       "      <th>chr1_100719693</th>\n",
       "      <th>chr1_100719742</th>\n",
       "      <th>chr1_100719744</th>\n",
       "      <th>chr1_100719756</th>\n",
       "      <th>chr1_100719847</th>\n",
       "      <th>...</th>\n",
       "      <th>chrX_70133602</th>\n",
       "      <th>chrX_70133614</th>\n",
       "      <th>chrX_72573198</th>\n",
       "      <th>chrX_72573200</th>\n",
       "      <th>chrX_72573216</th>\n",
       "      <th>chrX_91434796</th>\n",
       "      <th>chrX_91434801</th>\n",
       "      <th>chrX_91434803</th>\n",
       "      <th>chrX_91434826</th>\n",
       "      <th>Age</th>\n",
       "    </tr>\n",
       "  </thead>\n",
       "  <tbody>\n",
       "    <tr>\n",
       "      <th>0</th>\n",
       "      <td>P41019081704087</td>\n",
       "      <td>0.093842</td>\n",
       "      <td>0.026515</td>\n",
       "      <td>0.006906</td>\n",
       "      <td>0.174535</td>\n",
       "      <td>0.319149</td>\n",
       "      <td>0.697318</td>\n",
       "      <td>0.483591</td>\n",
       "      <td>0.336207</td>\n",
       "      <td>0.306792</td>\n",
       "      <td>...</td>\n",
       "      <td>0.003676</td>\n",
       "      <td>0.000000</td>\n",
       "      <td>0.002294</td>\n",
       "      <td>0.008830</td>\n",
       "      <td>0.001996</td>\n",
       "      <td>0.000000</td>\n",
       "      <td>0.018405</td>\n",
       "      <td>0.011905</td>\n",
       "      <td>0.045161</td>\n",
       "      <td>34.0</td>\n",
       "    </tr>\n",
       "    <tr>\n",
       "      <th>1</th>\n",
       "      <td>P41019081704090</td>\n",
       "      <td>0.010256</td>\n",
       "      <td>0.000000</td>\n",
       "      <td>0.000000</td>\n",
       "      <td>0.235808</td>\n",
       "      <td>0.460432</td>\n",
       "      <td>0.796334</td>\n",
       "      <td>0.675676</td>\n",
       "      <td>0.520737</td>\n",
       "      <td>0.512941</td>\n",
       "      <td>...</td>\n",
       "      <td>0.442708</td>\n",
       "      <td>0.423913</td>\n",
       "      <td>0.216117</td>\n",
       "      <td>0.282609</td>\n",
       "      <td>0.081356</td>\n",
       "      <td>0.189944</td>\n",
       "      <td>0.182796</td>\n",
       "      <td>0.126316</td>\n",
       "      <td>0.225806</td>\n",
       "      <td>46.0</td>\n",
       "    </tr>\n",
       "    <tr>\n",
       "      <th>2</th>\n",
       "      <td>P41019081704100</td>\n",
       "      <td>0.325843</td>\n",
       "      <td>0.010204</td>\n",
       "      <td>0.038961</td>\n",
       "      <td>0.226776</td>\n",
       "      <td>0.682594</td>\n",
       "      <td>0.790660</td>\n",
       "      <td>0.724473</td>\n",
       "      <td>0.550918</td>\n",
       "      <td>0.646091</td>\n",
       "      <td>...</td>\n",
       "      <td>0.423963</td>\n",
       "      <td>0.228856</td>\n",
       "      <td>0.211356</td>\n",
       "      <td>0.389571</td>\n",
       "      <td>0.167082</td>\n",
       "      <td>0.127072</td>\n",
       "      <td>0.237838</td>\n",
       "      <td>0.088083</td>\n",
       "      <td>0.148352</td>\n",
       "      <td>47.0</td>\n",
       "    </tr>\n",
       "    <tr>\n",
       "      <th>3</th>\n",
       "      <td>P41019081704106</td>\n",
       "      <td>0.117647</td>\n",
       "      <td>0.034274</td>\n",
       "      <td>0.054332</td>\n",
       "      <td>0.157618</td>\n",
       "      <td>0.399802</td>\n",
       "      <td>0.780488</td>\n",
       "      <td>0.532505</td>\n",
       "      <td>0.465587</td>\n",
       "      <td>0.429896</td>\n",
       "      <td>...</td>\n",
       "      <td>0.326284</td>\n",
       "      <td>0.355224</td>\n",
       "      <td>0.244514</td>\n",
       "      <td>0.376582</td>\n",
       "      <td>0.181440</td>\n",
       "      <td>0.132000</td>\n",
       "      <td>0.083019</td>\n",
       "      <td>0.136364</td>\n",
       "      <td>0.094862</td>\n",
       "      <td>38.0</td>\n",
       "    </tr>\n",
       "    <tr>\n",
       "      <th>4</th>\n",
       "      <td>P41019081704110</td>\n",
       "      <td>0.059937</td>\n",
       "      <td>0.002123</td>\n",
       "      <td>0.065421</td>\n",
       "      <td>0.318108</td>\n",
       "      <td>0.456140</td>\n",
       "      <td>0.743389</td>\n",
       "      <td>0.686081</td>\n",
       "      <td>0.520548</td>\n",
       "      <td>0.552632</td>\n",
       "      <td>...</td>\n",
       "      <td>0.000000</td>\n",
       "      <td>0.000000</td>\n",
       "      <td>0.017483</td>\n",
       "      <td>0.016892</td>\n",
       "      <td>0.003106</td>\n",
       "      <td>0.009569</td>\n",
       "      <td>0.000000</td>\n",
       "      <td>0.000000</td>\n",
       "      <td>0.000000</td>\n",
       "      <td>50.0</td>\n",
       "    </tr>\n",
       "  </tbody>\n",
       "</table>\n",
       "<p>5 rows × 46519 columns</p>\n",
       "</div>"
      ],
      "text/plain": [
       "          sampleID  chr1_100424052  chr1_100424116  chr1_100718749  \\\n",
       "0  P41019081704087        0.093842        0.026515        0.006906   \n",
       "1  P41019081704090        0.010256        0.000000        0.000000   \n",
       "2  P41019081704100        0.325843        0.010204        0.038961   \n",
       "3  P41019081704106        0.117647        0.034274        0.054332   \n",
       "4  P41019081704110        0.059937        0.002123        0.065421   \n",
       "\n",
       "   chr1_100718777  chr1_100719693  chr1_100719742  chr1_100719744  \\\n",
       "0        0.174535        0.319149        0.697318        0.483591   \n",
       "1        0.235808        0.460432        0.796334        0.675676   \n",
       "2        0.226776        0.682594        0.790660        0.724473   \n",
       "3        0.157618        0.399802        0.780488        0.532505   \n",
       "4        0.318108        0.456140        0.743389        0.686081   \n",
       "\n",
       "   chr1_100719756  chr1_100719847  ...  chrX_70133602  chrX_70133614  \\\n",
       "0        0.336207        0.306792  ...       0.003676       0.000000   \n",
       "1        0.520737        0.512941  ...       0.442708       0.423913   \n",
       "2        0.550918        0.646091  ...       0.423963       0.228856   \n",
       "3        0.465587        0.429896  ...       0.326284       0.355224   \n",
       "4        0.520548        0.552632  ...       0.000000       0.000000   \n",
       "\n",
       "   chrX_72573198  chrX_72573200  chrX_72573216  chrX_91434796  chrX_91434801  \\\n",
       "0       0.002294       0.008830       0.001996       0.000000       0.018405   \n",
       "1       0.216117       0.282609       0.081356       0.189944       0.182796   \n",
       "2       0.211356       0.389571       0.167082       0.127072       0.237838   \n",
       "3       0.244514       0.376582       0.181440       0.132000       0.083019   \n",
       "4       0.017483       0.016892       0.003106       0.009569       0.000000   \n",
       "\n",
       "   chrX_91434803  chrX_91434826   Age  \n",
       "0       0.011905       0.045161  34.0  \n",
       "1       0.126316       0.225806  46.0  \n",
       "2       0.088083       0.148352  47.0  \n",
       "3       0.136364       0.094862  38.0  \n",
       "4       0.000000       0.000000  50.0  \n",
       "\n",
       "[5 rows x 46519 columns]"
      ]
     },
     "execution_count": 7,
     "metadata": {},
     "output_type": "execute_result"
    }
   ],
   "source": [
    "df = pd.read_csv(\"/Users/lajoyce/Documents/genomics/epiage/BayesAge/data/split/train/1.csv\", sep=\"\\t\")\n",
    "\n",
    "df.head(5)"
   ]
  },
  {
   "cell_type": "code",
   "execution_count": 30,
   "metadata": {},
   "outputs": [
    {
     "name": "stdout",
     "output_type": "stream",
     "text": [
      "['6.csv', '7.csv', '5.csv', '4.csv', '1.csv', '3.csv', '2.csv', '10.csv', '9.csv', '8.csv']\n"
     ]
    }
   ],
   "source": [
    "matrices_to_train = os.listdir(\"/Users/lajoyce/Documents/genomics/epiage/BayesAge/data/split/train\")\n",
    "\n",
    "print(matrices_to_train)"
   ]
  },
  {
   "cell_type": "markdown",
   "metadata": {},
   "source": [
    "##### Tau = 0.1"
   ]
  },
  {
   "cell_type": "code",
   "execution_count": 9,
   "metadata": {},
   "outputs": [
    {
     "name": "stdout",
     "output_type": "stream",
     "text": [
      "\n",
      "Reference model dataset written to '/Users/lajoyce/Documents/genomics/epiage/BayesAge/data/split/reference/tau_point_one/'\n",
      "Report file generated at '/Users/lajoyce/Documents/genomics/epiage/BayesAge/data/split/reference/tau_point_one/.report.txt'\n",
      "-----------------------------------------------------\n",
      "\n",
      "\n",
      "\n",
      "Time to run construct reference: 208.359 seconds\n",
      "\n",
      " The reference is constructed and saved!\n",
      "\n",
      "Reference model dataset written to '/Users/lajoyce/Documents/genomics/epiage/BayesAge/data/split/reference/tau_point_one/'\n",
      "Report file generated at '/Users/lajoyce/Documents/genomics/epiage/BayesAge/data/split/reference/tau_point_one/.report.txt'\n",
      "-----------------------------------------------------\n",
      "\n",
      "\n",
      "\n",
      "Time to run construct reference: 200.479 seconds\n",
      "\n",
      " The reference is constructed and saved!\n",
      "\n",
      "Reference model dataset written to '/Users/lajoyce/Documents/genomics/epiage/BayesAge/data/split/reference/tau_point_one/'\n",
      "Report file generated at '/Users/lajoyce/Documents/genomics/epiage/BayesAge/data/split/reference/tau_point_one/.report.txt'\n",
      "-----------------------------------------------------\n",
      "\n",
      "\n",
      "\n",
      "Time to run construct reference: 204.539 seconds\n",
      "\n",
      " The reference is constructed and saved!\n",
      "\n",
      "Reference model dataset written to '/Users/lajoyce/Documents/genomics/epiage/BayesAge/data/split/reference/tau_point_one/'\n",
      "Report file generated at '/Users/lajoyce/Documents/genomics/epiage/BayesAge/data/split/reference/tau_point_one/.report.txt'\n",
      "-----------------------------------------------------\n",
      "\n",
      "\n",
      "\n",
      "Time to run construct reference: 206.886 seconds\n",
      "\n",
      " The reference is constructed and saved!\n",
      "\n",
      "Reference model dataset written to '/Users/lajoyce/Documents/genomics/epiage/BayesAge/data/split/reference/tau_point_one/'\n",
      "Report file generated at '/Users/lajoyce/Documents/genomics/epiage/BayesAge/data/split/reference/tau_point_one/.report.txt'\n",
      "-----------------------------------------------------\n",
      "\n",
      "\n",
      "\n",
      "Time to run construct reference: 203.894 seconds\n",
      "\n",
      " The reference is constructed and saved!\n",
      "\n",
      "Reference model dataset written to '/Users/lajoyce/Documents/genomics/epiage/BayesAge/data/split/reference/tau_point_one/'\n",
      "Report file generated at '/Users/lajoyce/Documents/genomics/epiage/BayesAge/data/split/reference/tau_point_one/.report.txt'\n",
      "-----------------------------------------------------\n",
      "\n",
      "\n",
      "\n",
      "Time to run construct reference: 208.931 seconds\n",
      "\n",
      " The reference is constructed and saved!\n",
      "\n",
      "Reference model dataset written to '/Users/lajoyce/Documents/genomics/epiage/BayesAge/data/split/reference/tau_point_one/'\n",
      "Report file generated at '/Users/lajoyce/Documents/genomics/epiage/BayesAge/data/split/reference/tau_point_one/.report.txt'\n",
      "-----------------------------------------------------\n",
      "\n",
      "\n",
      "\n",
      "Time to run construct reference: 206.830 seconds\n",
      "\n",
      " The reference is constructed and saved!\n",
      "\n",
      "Reference model dataset written to '/Users/lajoyce/Documents/genomics/epiage/BayesAge/data/split/reference/tau_point_one/'\n",
      "Report file generated at '/Users/lajoyce/Documents/genomics/epiage/BayesAge/data/split/reference/tau_point_one/.report.txt'\n",
      "-----------------------------------------------------\n",
      "\n",
      "\n",
      "\n",
      "Time to run construct reference: 207.489 seconds\n",
      "\n",
      " The reference is constructed and saved!\n",
      "\n",
      "Reference model dataset written to '/Users/lajoyce/Documents/genomics/epiage/BayesAge/data/split/reference/tau_point_one/'\n",
      "Report file generated at '/Users/lajoyce/Documents/genomics/epiage/BayesAge/data/split/reference/tau_point_one/.report.txt'\n",
      "-----------------------------------------------------\n",
      "\n",
      "\n",
      "\n",
      "Time to run construct reference: 203.315 seconds\n",
      "\n",
      " The reference is constructed and saved!\n",
      "\n",
      "Reference model dataset written to '/Users/lajoyce/Documents/genomics/epiage/BayesAge/data/split/reference/tau_point_one/'\n",
      "Report file generated at '/Users/lajoyce/Documents/genomics/epiage/BayesAge/data/split/reference/tau_point_one/.report.txt'\n",
      "-----------------------------------------------------\n",
      "\n",
      "\n",
      "\n",
      "Time to run construct reference: 197.700 seconds\n",
      "\n",
      " The reference is constructed and saved!\n"
     ]
    }
   ],
   "source": [
    "for matrix in matrices_to_train:\n",
    "    construct_reference(training_matrix=f\"/Users/lajoyce/Documents/genomics/epiage/BayesAge/data/split/train/{matrix}\",\n",
    "    reference_name = f\"{matrix}\",\n",
    "    output_path = \"/Users/lajoyce/Documents/genomics/epiage/BayesAge/data/split/reference/tau_point_one/\",\n",
    "    zero_met_replacement=0.001,\n",
    "    one_met_replacement=0.999,\n",
    "    min_age = 0,\n",
    "    max_age = 100,\n",
    "    age_step = 1,\n",
    "    tau = 0.1)"
   ]
  },
  {
   "cell_type": "markdown",
   "metadata": {},
   "source": [
    "##### Tau = 0.3"
   ]
  },
  {
   "cell_type": "code",
   "execution_count": 11,
   "metadata": {},
   "outputs": [
    {
     "name": "stdout",
     "output_type": "stream",
     "text": [
      "\n",
      "Reference model dataset written to '/Users/lajoyce/Documents/genomics/epiage/BayesAge/data/split/reference/tau_point_three/'\n",
      "Report file generated at '/Users/lajoyce/Documents/genomics/epiage/BayesAge/data/split/reference/tau_point_three/.report.txt'\n",
      "-----------------------------------------------------\n",
      "\n",
      "\n",
      "\n",
      "Time to run construct reference: 217.710 seconds\n",
      "\n",
      " The reference is constructed and saved!\n",
      "\n",
      "Reference model dataset written to '/Users/lajoyce/Documents/genomics/epiage/BayesAge/data/split/reference/tau_point_three/'\n",
      "Report file generated at '/Users/lajoyce/Documents/genomics/epiage/BayesAge/data/split/reference/tau_point_three/.report.txt'\n",
      "-----------------------------------------------------\n",
      "\n",
      "\n",
      "\n",
      "Time to run construct reference: 213.633 seconds\n",
      "\n",
      " The reference is constructed and saved!\n",
      "\n",
      "Reference model dataset written to '/Users/lajoyce/Documents/genomics/epiage/BayesAge/data/split/reference/tau_point_three/'\n",
      "Report file generated at '/Users/lajoyce/Documents/genomics/epiage/BayesAge/data/split/reference/tau_point_three/.report.txt'\n",
      "-----------------------------------------------------\n",
      "\n",
      "\n",
      "\n",
      "Time to run construct reference: 218.810 seconds\n",
      "\n",
      " The reference is constructed and saved!\n",
      "\n",
      "Reference model dataset written to '/Users/lajoyce/Documents/genomics/epiage/BayesAge/data/split/reference/tau_point_three/'\n",
      "Report file generated at '/Users/lajoyce/Documents/genomics/epiage/BayesAge/data/split/reference/tau_point_three/.report.txt'\n",
      "-----------------------------------------------------\n",
      "\n",
      "\n",
      "\n",
      "Time to run construct reference: 220.905 seconds\n",
      "\n",
      " The reference is constructed and saved!\n",
      "\n",
      "Reference model dataset written to '/Users/lajoyce/Documents/genomics/epiage/BayesAge/data/split/reference/tau_point_three/'\n",
      "Report file generated at '/Users/lajoyce/Documents/genomics/epiage/BayesAge/data/split/reference/tau_point_three/.report.txt'\n",
      "-----------------------------------------------------\n",
      "\n",
      "\n",
      "\n",
      "Time to run construct reference: 228.712 seconds\n",
      "\n",
      " The reference is constructed and saved!\n",
      "\n",
      "Reference model dataset written to '/Users/lajoyce/Documents/genomics/epiage/BayesAge/data/split/reference/tau_point_three/'\n",
      "Report file generated at '/Users/lajoyce/Documents/genomics/epiage/BayesAge/data/split/reference/tau_point_three/.report.txt'\n",
      "-----------------------------------------------------\n",
      "\n",
      "\n",
      "\n",
      "Time to run construct reference: 218.427 seconds\n",
      "\n",
      " The reference is constructed and saved!\n",
      "\n",
      "Reference model dataset written to '/Users/lajoyce/Documents/genomics/epiage/BayesAge/data/split/reference/tau_point_three/'\n",
      "Report file generated at '/Users/lajoyce/Documents/genomics/epiage/BayesAge/data/split/reference/tau_point_three/.report.txt'\n",
      "-----------------------------------------------------\n",
      "\n",
      "\n",
      "\n",
      "Time to run construct reference: 220.935 seconds\n",
      "\n",
      " The reference is constructed and saved!\n",
      "\n",
      "Reference model dataset written to '/Users/lajoyce/Documents/genomics/epiage/BayesAge/data/split/reference/tau_point_three/'\n",
      "Report file generated at '/Users/lajoyce/Documents/genomics/epiage/BayesAge/data/split/reference/tau_point_three/.report.txt'\n",
      "-----------------------------------------------------\n",
      "\n",
      "\n",
      "\n",
      "Time to run construct reference: 222.326 seconds\n",
      "\n",
      " The reference is constructed and saved!\n",
      "\n",
      "Reference model dataset written to '/Users/lajoyce/Documents/genomics/epiage/BayesAge/data/split/reference/tau_point_three/'\n",
      "Report file generated at '/Users/lajoyce/Documents/genomics/epiage/BayesAge/data/split/reference/tau_point_three/.report.txt'\n",
      "-----------------------------------------------------\n",
      "\n",
      "\n",
      "\n",
      "Time to run construct reference: 214.508 seconds\n",
      "\n",
      " The reference is constructed and saved!\n",
      "\n",
      "Reference model dataset written to '/Users/lajoyce/Documents/genomics/epiage/BayesAge/data/split/reference/tau_point_three/'\n",
      "Report file generated at '/Users/lajoyce/Documents/genomics/epiage/BayesAge/data/split/reference/tau_point_three/.report.txt'\n",
      "-----------------------------------------------------\n",
      "\n",
      "\n",
      "\n",
      "Time to run construct reference: 210.007 seconds\n",
      "\n",
      " The reference is constructed and saved!\n"
     ]
    }
   ],
   "source": [
    "for matrix in matrices_to_train:\n",
    "    construct_reference(training_matrix=f\"/Users/lajoyce/Documents/genomics/epiage/BayesAge/data/split/train/{matrix}\",\n",
    "    reference_name = f\"{matrix}\",\n",
    "    output_path = \"/Users/lajoyce/Documents/genomics/epiage/BayesAge/data/split/reference/tau_point_three/\",\n",
    "    zero_met_replacement=0.001,\n",
    "    one_met_replacement=0.999,\n",
    "    min_age = 0,\n",
    "    max_age = 100,\n",
    "    age_step = 1,\n",
    "    tau = 0.3)"
   ]
  },
  {
   "cell_type": "markdown",
   "metadata": {},
   "source": [
    "##### Tau = 0.5"
   ]
  },
  {
   "cell_type": "code",
   "execution_count": 12,
   "metadata": {},
   "outputs": [
    {
     "name": "stdout",
     "output_type": "stream",
     "text": [
      "\n",
      "Reference model dataset written to '/Users/lajoyce/Documents/genomics/epiage/BayesAge/data/split/reference/tau_point_five/'\n",
      "Report file generated at '/Users/lajoyce/Documents/genomics/epiage/BayesAge/data/split/reference/tau_point_five/.report.txt'\n",
      "-----------------------------------------------------\n",
      "\n",
      "\n",
      "\n",
      "Time to run construct reference: 237.225 seconds\n",
      "\n",
      " The reference is constructed and saved!\n",
      "\n",
      "Reference model dataset written to '/Users/lajoyce/Documents/genomics/epiage/BayesAge/data/split/reference/tau_point_five/'\n",
      "Report file generated at '/Users/lajoyce/Documents/genomics/epiage/BayesAge/data/split/reference/tau_point_five/.report.txt'\n",
      "-----------------------------------------------------\n",
      "\n",
      "\n",
      "\n",
      "Time to run construct reference: 225.144 seconds\n",
      "\n",
      " The reference is constructed and saved!\n",
      "\n",
      "Reference model dataset written to '/Users/lajoyce/Documents/genomics/epiage/BayesAge/data/split/reference/tau_point_five/'\n",
      "Report file generated at '/Users/lajoyce/Documents/genomics/epiage/BayesAge/data/split/reference/tau_point_five/.report.txt'\n",
      "-----------------------------------------------------\n",
      "\n",
      "\n",
      "\n",
      "Time to run construct reference: 230.531 seconds\n",
      "\n",
      " The reference is constructed and saved!\n",
      "\n",
      "Reference model dataset written to '/Users/lajoyce/Documents/genomics/epiage/BayesAge/data/split/reference/tau_point_five/'\n",
      "Report file generated at '/Users/lajoyce/Documents/genomics/epiage/BayesAge/data/split/reference/tau_point_five/.report.txt'\n",
      "-----------------------------------------------------\n",
      "\n",
      "\n",
      "\n",
      "Time to run construct reference: 234.036 seconds\n",
      "\n",
      " The reference is constructed and saved!\n",
      "\n",
      "Reference model dataset written to '/Users/lajoyce/Documents/genomics/epiage/BayesAge/data/split/reference/tau_point_five/'\n",
      "Report file generated at '/Users/lajoyce/Documents/genomics/epiage/BayesAge/data/split/reference/tau_point_five/.report.txt'\n",
      "-----------------------------------------------------\n",
      "\n",
      "\n",
      "\n",
      "Time to run construct reference: 231.055 seconds\n",
      "\n",
      " The reference is constructed and saved!\n",
      "\n",
      "Reference model dataset written to '/Users/lajoyce/Documents/genomics/epiage/BayesAge/data/split/reference/tau_point_five/'\n",
      "Report file generated at '/Users/lajoyce/Documents/genomics/epiage/BayesAge/data/split/reference/tau_point_five/.report.txt'\n",
      "-----------------------------------------------------\n",
      "\n",
      "\n",
      "\n",
      "Time to run construct reference: 233.978 seconds\n",
      "\n",
      " The reference is constructed and saved!\n",
      "\n",
      "Reference model dataset written to '/Users/lajoyce/Documents/genomics/epiage/BayesAge/data/split/reference/tau_point_five/'\n",
      "Report file generated at '/Users/lajoyce/Documents/genomics/epiage/BayesAge/data/split/reference/tau_point_five/.report.txt'\n",
      "-----------------------------------------------------\n",
      "\n",
      "\n",
      "\n",
      "Time to run construct reference: 232.524 seconds\n",
      "\n",
      " The reference is constructed and saved!\n",
      "\n",
      "Reference model dataset written to '/Users/lajoyce/Documents/genomics/epiage/BayesAge/data/split/reference/tau_point_five/'\n",
      "Report file generated at '/Users/lajoyce/Documents/genomics/epiage/BayesAge/data/split/reference/tau_point_five/.report.txt'\n",
      "-----------------------------------------------------\n",
      "\n",
      "\n",
      "\n",
      "Time to run construct reference: 231.000 seconds\n",
      "\n",
      " The reference is constructed and saved!\n",
      "\n",
      "Reference model dataset written to '/Users/lajoyce/Documents/genomics/epiage/BayesAge/data/split/reference/tau_point_five/'\n",
      "Report file generated at '/Users/lajoyce/Documents/genomics/epiage/BayesAge/data/split/reference/tau_point_five/.report.txt'\n",
      "-----------------------------------------------------\n",
      "\n",
      "\n",
      "\n",
      "Time to run construct reference: 227.190 seconds\n",
      "\n",
      " The reference is constructed and saved!\n",
      "\n",
      "Reference model dataset written to '/Users/lajoyce/Documents/genomics/epiage/BayesAge/data/split/reference/tau_point_five/'\n",
      "Report file generated at '/Users/lajoyce/Documents/genomics/epiage/BayesAge/data/split/reference/tau_point_five/.report.txt'\n",
      "-----------------------------------------------------\n",
      "\n",
      "\n",
      "\n",
      "Time to run construct reference: 222.897 seconds\n",
      "\n",
      " The reference is constructed and saved!\n"
     ]
    }
   ],
   "source": [
    "for matrix in matrices_to_train:\n",
    "    construct_reference(training_matrix=f\"/Users/lajoyce/Documents/genomics/epiage/BayesAge/data/split/train/{matrix}\",\n",
    "    reference_name = f\"{matrix}\",\n",
    "    output_path = \"/Users/lajoyce/Documents/genomics/epiage/BayesAge/data/split/reference/tau_point_five/\",\n",
    "    zero_met_replacement=0.001,\n",
    "    one_met_replacement=0.999,\n",
    "    min_age = 0,\n",
    "    max_age = 100,\n",
    "    age_step = 1,\n",
    "    tau = 0.5)"
   ]
  },
  {
   "cell_type": "markdown",
   "metadata": {},
   "source": [
    "##### Tau = 0.7"
   ]
  },
  {
   "cell_type": "code",
   "execution_count": 13,
   "metadata": {},
   "outputs": [
    {
     "name": "stdout",
     "output_type": "stream",
     "text": [
      "\n",
      "Reference model dataset written to '/Users/lajoyce/Documents/genomics/epiage/BayesAge/data/split/reference/tau_point_seven/'\n",
      "Report file generated at '/Users/lajoyce/Documents/genomics/epiage/BayesAge/data/split/reference/tau_point_seven/.report.txt'\n",
      "-----------------------------------------------------\n",
      "\n",
      "\n",
      "\n",
      "Time to run construct reference: 246.260 seconds\n",
      "\n",
      " The reference is constructed and saved!\n",
      "\n",
      "Reference model dataset written to '/Users/lajoyce/Documents/genomics/epiage/BayesAge/data/split/reference/tau_point_seven/'\n",
      "Report file generated at '/Users/lajoyce/Documents/genomics/epiage/BayesAge/data/split/reference/tau_point_seven/.report.txt'\n",
      "-----------------------------------------------------\n",
      "\n",
      "\n",
      "\n",
      "Time to run construct reference: 238.202 seconds\n",
      "\n",
      " The reference is constructed and saved!\n",
      "\n",
      "Reference model dataset written to '/Users/lajoyce/Documents/genomics/epiage/BayesAge/data/split/reference/tau_point_seven/'\n",
      "Report file generated at '/Users/lajoyce/Documents/genomics/epiage/BayesAge/data/split/reference/tau_point_seven/.report.txt'\n",
      "-----------------------------------------------------\n",
      "\n",
      "\n",
      "\n",
      "Time to run construct reference: 243.561 seconds\n",
      "\n",
      " The reference is constructed and saved!\n",
      "\n",
      "Reference model dataset written to '/Users/lajoyce/Documents/genomics/epiage/BayesAge/data/split/reference/tau_point_seven/'\n",
      "Report file generated at '/Users/lajoyce/Documents/genomics/epiage/BayesAge/data/split/reference/tau_point_seven/.report.txt'\n",
      "-----------------------------------------------------\n",
      "\n",
      "\n",
      "\n",
      "Time to run construct reference: 246.860 seconds\n",
      "\n",
      " The reference is constructed and saved!\n",
      "\n",
      "Reference model dataset written to '/Users/lajoyce/Documents/genomics/epiage/BayesAge/data/split/reference/tau_point_seven/'\n",
      "Report file generated at '/Users/lajoyce/Documents/genomics/epiage/BayesAge/data/split/reference/tau_point_seven/.report.txt'\n",
      "-----------------------------------------------------\n",
      "\n",
      "\n",
      "\n",
      "Time to run construct reference: 243.309 seconds\n",
      "\n",
      " The reference is constructed and saved!\n",
      "\n",
      "Reference model dataset written to '/Users/lajoyce/Documents/genomics/epiage/BayesAge/data/split/reference/tau_point_seven/'\n",
      "Report file generated at '/Users/lajoyce/Documents/genomics/epiage/BayesAge/data/split/reference/tau_point_seven/.report.txt'\n",
      "-----------------------------------------------------\n",
      "\n",
      "\n",
      "\n",
      "Time to run construct reference: 247.196 seconds\n",
      "\n",
      " The reference is constructed and saved!\n",
      "\n",
      "Reference model dataset written to '/Users/lajoyce/Documents/genomics/epiage/BayesAge/data/split/reference/tau_point_seven/'\n",
      "Report file generated at '/Users/lajoyce/Documents/genomics/epiage/BayesAge/data/split/reference/tau_point_seven/.report.txt'\n",
      "-----------------------------------------------------\n",
      "\n",
      "\n",
      "\n",
      "Time to run construct reference: 244.193 seconds\n",
      "\n",
      " The reference is constructed and saved!\n",
      "\n",
      "Reference model dataset written to '/Users/lajoyce/Documents/genomics/epiage/BayesAge/data/split/reference/tau_point_seven/'\n",
      "Report file generated at '/Users/lajoyce/Documents/genomics/epiage/BayesAge/data/split/reference/tau_point_seven/.report.txt'\n",
      "-----------------------------------------------------\n",
      "\n",
      "\n",
      "\n",
      "Time to run construct reference: 242.293 seconds\n",
      "\n",
      " The reference is constructed and saved!\n",
      "\n",
      "Reference model dataset written to '/Users/lajoyce/Documents/genomics/epiage/BayesAge/data/split/reference/tau_point_seven/'\n",
      "Report file generated at '/Users/lajoyce/Documents/genomics/epiage/BayesAge/data/split/reference/tau_point_seven/.report.txt'\n",
      "-----------------------------------------------------\n",
      "\n",
      "\n",
      "\n",
      "Time to run construct reference: 235.870 seconds\n",
      "\n",
      " The reference is constructed and saved!\n",
      "\n",
      "Reference model dataset written to '/Users/lajoyce/Documents/genomics/epiage/BayesAge/data/split/reference/tau_point_seven/'\n",
      "Report file generated at '/Users/lajoyce/Documents/genomics/epiage/BayesAge/data/split/reference/tau_point_seven/.report.txt'\n",
      "-----------------------------------------------------\n",
      "\n",
      "\n",
      "\n",
      "Time to run construct reference: 230.957 seconds\n",
      "\n",
      " The reference is constructed and saved!\n"
     ]
    }
   ],
   "source": [
    "for matrix in matrices_to_train:\n",
    "    construct_reference(training_matrix=f\"/Users/lajoyce/Documents/genomics/epiage/BayesAge/data/split/train/{matrix}\",\n",
    "    reference_name = f\"{matrix}\",\n",
    "    output_path = \"/Users/lajoyce/Documents/genomics/epiage/BayesAge/data/split/reference/tau_point_seven/\",\n",
    "    zero_met_replacement=0.001,\n",
    "    one_met_replacement=0.999,\n",
    "    min_age = 0,\n",
    "    max_age = 100,\n",
    "    age_step = 1,\n",
    "    tau = 0.7)"
   ]
  },
  {
   "cell_type": "markdown",
   "metadata": {},
   "source": [
    "##### Tau = 0.9"
   ]
  },
  {
   "cell_type": "code",
   "execution_count": 32,
   "metadata": {},
   "outputs": [
    {
     "name": "stdout",
     "output_type": "stream",
     "text": [
      "\n",
      "Reference model dataset written to '/Users/lajoyce/Documents/genomics/epiage/BayesAge/data/split/reference/tau_point_nine/'\n",
      "Report file generated at '/Users/lajoyce/Documents/genomics/epiage/BayesAge/data/split/reference/tau_point_nine/.report.txt'\n",
      "-----------------------------------------------------\n",
      "\n",
      "\n",
      "\n",
      "Time to run construct reference: 259.358 seconds\n",
      "\n",
      " The reference is constructed and saved!\n",
      "\n",
      "Reference model dataset written to '/Users/lajoyce/Documents/genomics/epiage/BayesAge/data/split/reference/tau_point_nine/'\n",
      "Report file generated at '/Users/lajoyce/Documents/genomics/epiage/BayesAge/data/split/reference/tau_point_nine/.report.txt'\n",
      "-----------------------------------------------------\n",
      "\n",
      "\n",
      "\n",
      "Time to run construct reference: 251.183 seconds\n",
      "\n",
      " The reference is constructed and saved!\n",
      "\n",
      "Reference model dataset written to '/Users/lajoyce/Documents/genomics/epiage/BayesAge/data/split/reference/tau_point_nine/'\n",
      "Report file generated at '/Users/lajoyce/Documents/genomics/epiage/BayesAge/data/split/reference/tau_point_nine/.report.txt'\n",
      "-----------------------------------------------------\n",
      "\n",
      "\n",
      "\n",
      "Time to run construct reference: 256.321 seconds\n",
      "\n",
      " The reference is constructed and saved!\n",
      "\n",
      "Reference model dataset written to '/Users/lajoyce/Documents/genomics/epiage/BayesAge/data/split/reference/tau_point_nine/'\n",
      "Report file generated at '/Users/lajoyce/Documents/genomics/epiage/BayesAge/data/split/reference/tau_point_nine/.report.txt'\n",
      "-----------------------------------------------------\n",
      "\n",
      "\n",
      "\n",
      "Time to run construct reference: 263.552 seconds\n",
      "\n",
      " The reference is constructed and saved!\n",
      "\n",
      "Reference model dataset written to '/Users/lajoyce/Documents/genomics/epiage/BayesAge/data/split/reference/tau_point_nine/'\n",
      "Report file generated at '/Users/lajoyce/Documents/genomics/epiage/BayesAge/data/split/reference/tau_point_nine/.report.txt'\n",
      "-----------------------------------------------------\n",
      "\n",
      "\n",
      "\n",
      "Time to run construct reference: 263.465 seconds\n",
      "\n",
      " The reference is constructed and saved!\n",
      "\n",
      "Reference model dataset written to '/Users/lajoyce/Documents/genomics/epiage/BayesAge/data/split/reference/tau_point_nine/'\n",
      "Report file generated at '/Users/lajoyce/Documents/genomics/epiage/BayesAge/data/split/reference/tau_point_nine/.report.txt'\n",
      "-----------------------------------------------------\n",
      "\n",
      "\n",
      "\n",
      "Time to run construct reference: 255.828 seconds\n",
      "\n",
      " The reference is constructed and saved!\n",
      "\n",
      "Reference model dataset written to '/Users/lajoyce/Documents/genomics/epiage/BayesAge/data/split/reference/tau_point_nine/'\n",
      "Report file generated at '/Users/lajoyce/Documents/genomics/epiage/BayesAge/data/split/reference/tau_point_nine/.report.txt'\n",
      "-----------------------------------------------------\n",
      "\n",
      "\n",
      "\n",
      "Time to run construct reference: 252.184 seconds\n",
      "\n",
      " The reference is constructed and saved!\n",
      "\n",
      "Reference model dataset written to '/Users/lajoyce/Documents/genomics/epiage/BayesAge/data/split/reference/tau_point_nine/'\n",
      "Report file generated at '/Users/lajoyce/Documents/genomics/epiage/BayesAge/data/split/reference/tau_point_nine/.report.txt'\n",
      "-----------------------------------------------------\n",
      "\n",
      "\n",
      "\n",
      "Time to run construct reference: 256.822 seconds\n",
      "\n",
      " The reference is constructed and saved!\n",
      "\n",
      "Reference model dataset written to '/Users/lajoyce/Documents/genomics/epiage/BayesAge/data/split/reference/tau_point_nine/'\n",
      "Report file generated at '/Users/lajoyce/Documents/genomics/epiage/BayesAge/data/split/reference/tau_point_nine/.report.txt'\n",
      "-----------------------------------------------------\n",
      "\n",
      "\n",
      "\n",
      "Time to run construct reference: 247.932 seconds\n",
      "\n",
      " The reference is constructed and saved!\n",
      "\n",
      "Reference model dataset written to '/Users/lajoyce/Documents/genomics/epiage/BayesAge/data/split/reference/tau_point_nine/'\n",
      "Report file generated at '/Users/lajoyce/Documents/genomics/epiage/BayesAge/data/split/reference/tau_point_nine/.report.txt'\n",
      "-----------------------------------------------------\n",
      "\n",
      "\n",
      "\n",
      "Time to run construct reference: 245.092 seconds\n",
      "\n",
      " The reference is constructed and saved!\n"
     ]
    }
   ],
   "source": [
    "for matrix in matrices_to_train:\n",
    "    construct_reference(training_matrix=f\"/Users/lajoyce/Documents/genomics/epiage/BayesAge/data/split/train/{matrix}\",\n",
    "    reference_name = f\"{matrix}\",\n",
    "    output_path = \"/Users/lajoyce/Documents/genomics/epiage/BayesAge/data/split/reference/tau_point_nine/\",\n",
    "    zero_met_replacement=0.001,\n",
    "    one_met_replacement=0.999,\n",
    "    min_age = 0,\n",
    "    max_age = 100,\n",
    "    age_step = 1,\n",
    "    tau = 0.9)"
   ]
  },
  {
   "cell_type": "markdown",
   "metadata": {},
   "source": [
    "##### Tau = 1.0"
   ]
  },
  {
   "cell_type": "code",
   "execution_count": 14,
   "metadata": {},
   "outputs": [
    {
     "name": "stdout",
     "output_type": "stream",
     "text": [
      "\n",
      "Reference model dataset written to '/Users/lajoyce/Documents/genomics/epiage/BayesAge/data/split/reference/tau_one/'\n",
      "Report file generated at '/Users/lajoyce/Documents/genomics/epiage/BayesAge/data/split/reference/tau_one/.report.txt'\n",
      "-----------------------------------------------------\n",
      "\n",
      "\n",
      "\n",
      "Time to run construct reference: 256.143 seconds\n",
      "\n",
      " The reference is constructed and saved!\n",
      "\n",
      "Reference model dataset written to '/Users/lajoyce/Documents/genomics/epiage/BayesAge/data/split/reference/tau_one/'\n",
      "Report file generated at '/Users/lajoyce/Documents/genomics/epiage/BayesAge/data/split/reference/tau_one/.report.txt'\n",
      "-----------------------------------------------------\n",
      "\n",
      "\n",
      "\n",
      "Time to run construct reference: 247.800 seconds\n",
      "\n",
      " The reference is constructed and saved!\n",
      "\n",
      "Reference model dataset written to '/Users/lajoyce/Documents/genomics/epiage/BayesAge/data/split/reference/tau_one/'\n",
      "Report file generated at '/Users/lajoyce/Documents/genomics/epiage/BayesAge/data/split/reference/tau_one/.report.txt'\n",
      "-----------------------------------------------------\n",
      "\n",
      "\n",
      "\n",
      "Time to run construct reference: 253.170 seconds\n",
      "\n",
      " The reference is constructed and saved!\n",
      "\n",
      "Reference model dataset written to '/Users/lajoyce/Documents/genomics/epiage/BayesAge/data/split/reference/tau_one/'\n",
      "Report file generated at '/Users/lajoyce/Documents/genomics/epiage/BayesAge/data/split/reference/tau_one/.report.txt'\n",
      "-----------------------------------------------------\n",
      "\n",
      "\n",
      "\n",
      "Time to run construct reference: 256.835 seconds\n",
      "\n",
      " The reference is constructed and saved!\n",
      "\n",
      "Reference model dataset written to '/Users/lajoyce/Documents/genomics/epiage/BayesAge/data/split/reference/tau_one/'\n",
      "Report file generated at '/Users/lajoyce/Documents/genomics/epiage/BayesAge/data/split/reference/tau_one/.report.txt'\n",
      "-----------------------------------------------------\n",
      "\n",
      "\n",
      "\n",
      "Time to run construct reference: 251.625 seconds\n",
      "\n",
      " The reference is constructed and saved!\n",
      "\n",
      "Reference model dataset written to '/Users/lajoyce/Documents/genomics/epiage/BayesAge/data/split/reference/tau_one/'\n",
      "Report file generated at '/Users/lajoyce/Documents/genomics/epiage/BayesAge/data/split/reference/tau_one/.report.txt'\n",
      "-----------------------------------------------------\n",
      "\n",
      "\n",
      "\n",
      "Time to run construct reference: 255.117 seconds\n",
      "\n",
      " The reference is constructed and saved!\n",
      "\n",
      "Reference model dataset written to '/Users/lajoyce/Documents/genomics/epiage/BayesAge/data/split/reference/tau_one/'\n",
      "Report file generated at '/Users/lajoyce/Documents/genomics/epiage/BayesAge/data/split/reference/tau_one/.report.txt'\n",
      "-----------------------------------------------------\n",
      "\n",
      "\n",
      "\n",
      "Time to run construct reference: 253.798 seconds\n",
      "\n",
      " The reference is constructed and saved!\n",
      "\n",
      "Reference model dataset written to '/Users/lajoyce/Documents/genomics/epiage/BayesAge/data/split/reference/tau_one/'\n",
      "Report file generated at '/Users/lajoyce/Documents/genomics/epiage/BayesAge/data/split/reference/tau_one/.report.txt'\n",
      "-----------------------------------------------------\n",
      "\n",
      "\n",
      "\n",
      "Time to run construct reference: 251.989 seconds\n",
      "\n",
      " The reference is constructed and saved!\n",
      "\n",
      "Reference model dataset written to '/Users/lajoyce/Documents/genomics/epiage/BayesAge/data/split/reference/tau_one/'\n",
      "Report file generated at '/Users/lajoyce/Documents/genomics/epiage/BayesAge/data/split/reference/tau_one/.report.txt'\n",
      "-----------------------------------------------------\n",
      "\n",
      "\n",
      "\n",
      "Time to run construct reference: 247.653 seconds\n",
      "\n",
      " The reference is constructed and saved!\n",
      "\n",
      "Reference model dataset written to '/Users/lajoyce/Documents/genomics/epiage/BayesAge/data/split/reference/tau_one/'\n",
      "Report file generated at '/Users/lajoyce/Documents/genomics/epiage/BayesAge/data/split/reference/tau_one/.report.txt'\n",
      "-----------------------------------------------------\n",
      "\n",
      "\n",
      "\n",
      "Time to run construct reference: 245.826 seconds\n",
      "\n",
      " The reference is constructed and saved!\n"
     ]
    }
   ],
   "source": [
    "for matrix in matrices_to_train:\n",
    "    construct_reference(training_matrix=f\"/Users/lajoyce/Documents/genomics/epiage/BayesAge/data/split/train/{matrix}\",\n",
    "    reference_name = f\"{matrix}\",\n",
    "    output_path = \"/Users/lajoyce/Documents/genomics/epiage/BayesAge/data/split/reference/tau_one/\",\n",
    "    zero_met_replacement=0.001,\n",
    "    one_met_replacement=0.999,\n",
    "    min_age = 0,\n",
    "    max_age = 100,\n",
    "    age_step = 1,\n",
    "    tau = 1.0)"
   ]
  },
  {
   "cell_type": "markdown",
   "metadata": {},
   "source": [
    "## Age Prediction"
   ]
  },
  {
   "cell_type": "markdown",
   "metadata": {},
   "source": [
    "###### Get Samples to use for prediction"
   ]
  },
  {
   "cell_type": "code",
   "execution_count": 12,
   "metadata": {},
   "outputs": [],
   "source": [
    "import os\n",
    "import shutil\n",
    "import pandas as pd"
   ]
  },
  {
   "cell_type": "code",
   "execution_count": 2,
   "metadata": {},
   "outputs": [],
   "source": [
    "dir = \"/Users/lajoyce/Documents/genomics/epiage/BayesAge/data/split/test/\""
   ]
  },
  {
   "cell_type": "code",
   "execution_count": 3,
   "metadata": {},
   "outputs": [],
   "source": [
    "df_test = pd.read_csv(dir + \"1.csv\", sep = \"\\t\")\n",
    "\n",
    "df_test_2 = pd.read_csv(dir + \"2.csv\", sep = \"\\t\")\n",
    "\n",
    "df_test_3 = pd.read_csv(dir + \"3.csv\", sep = \"\\t\")\n",
    "\n",
    "df_test_4 = pd.read_csv(dir + \"4.csv\", sep = \"\\t\")\n",
    "\n",
    "df_test_5 = pd.read_csv(dir + \"5.csv\", sep = \"\\t\")\n",
    "\n",
    "df_test_6 = pd.read_csv(dir + \"6.csv\", sep = \"\\t\")\n",
    "\n",
    "df_test_7 = pd.read_csv(dir + \"7.csv\", sep = \"\\t\")\n",
    "\n",
    "df_test_8 = pd.read_csv(dir + \"8.csv\", sep = \"\\t\")\n",
    "\n",
    "df_test_9 = pd.read_csv(dir + \"9.csv\", sep = \"\\t\")\n",
    "\n",
    "df_test_10 = pd.read_csv(dir + \"10.csv\", sep = \"\\t\")"
   ]
  },
  {
   "cell_type": "code",
   "execution_count": 4,
   "metadata": {},
   "outputs": [],
   "source": [
    "test_1 = df_test[\"sampleID\"].tolist()\n",
    "\n",
    "test_2 = df_test_2[\"sampleID\"].tolist()\n",
    "\n",
    "test_3 = df_test_3[\"sampleID\"].tolist()\n",
    "\n",
    "test_4 = df_test_4[\"sampleID\"].tolist()\n",
    "\n",
    "test_5 = df_test_5[\"sampleID\"].tolist()\n",
    "\n",
    "test_6 = df_test_6[\"sampleID\"].tolist()\n",
    "\n",
    "test_7 = df_test_7[\"sampleID\"].tolist()\n",
    "\n",
    "test_8 = df_test_8[\"sampleID\"].tolist()\n",
    "\n",
    "test_9 = df_test_9[\"sampleID\"].tolist()\n",
    "\n",
    "test_10 = df_test_10[\"sampleID\"].tolist()"
   ]
  },
  {
   "cell_type": "code",
   "execution_count": 15,
   "metadata": {},
   "outputs": [
    {
     "name": "stdout",
     "output_type": "stream",
     "text": [
      "Files moved successfully.\n"
     ]
    }
   ],
   "source": [
    "fold_one = []\n",
    "for sampleid in test_1:\n",
    "    sample_name = sampleid + \".tsv\"\n",
    "    fold_one.append(sample_name)\n",
    "\n",
    "source_directory = '/Users/lajoyce/Documents/genomics/epiage/BayesAge/data/samples_tsv/'\n",
    "\n",
    "fold_one_directory = '/Users/lajoyce/Documents/genomics/epiage/BayesAge/data/samples_tsv/fold_one/'\n",
    "\n",
    "for file_name in fold_one:\n",
    "    source_path = os.path.join(source_directory, file_name)\n",
    "    destination_path = os.path.join(fold_one_directory, file_name)\n",
    "    \n",
    "    shutil.move(source_path, destination_path)\n",
    "\n",
    "print(\"Files moved successfully.\")"
   ]
  },
  {
   "cell_type": "code",
   "execution_count": 16,
   "metadata": {},
   "outputs": [
    {
     "name": "stdout",
     "output_type": "stream",
     "text": [
      "Files moved successfully.\n"
     ]
    }
   ],
   "source": [
    "fold_two = []\n",
    "for sampleid in test_2:\n",
    "    sample_name = sampleid + \".tsv\"\n",
    "    fold_two.append(sample_name)\n",
    "\n",
    "source_directory = '/Users/lajoyce/Documents/genomics/epiage/BayesAge/data/samples_tsv/'\n",
    "\n",
    "fold_two_directory = '/Users/lajoyce/Documents/genomics/epiage/BayesAge/data/samples_tsv/fold_two/'\n",
    "\n",
    "for file_name in fold_two:\n",
    "    source_path = os.path.join(source_directory, file_name)\n",
    "    destination_path = os.path.join(fold_two_directory, file_name)\n",
    "    \n",
    "    # Move the file\n",
    "    shutil.move(source_path, destination_path)\n",
    "\n",
    "print(\"Files moved successfully.\")"
   ]
  },
  {
   "cell_type": "code",
   "execution_count": 17,
   "metadata": {},
   "outputs": [
    {
     "name": "stdout",
     "output_type": "stream",
     "text": [
      "Files moved successfully.\n"
     ]
    }
   ],
   "source": [
    "fold_three = []\n",
    "for sampleid in test_3:\n",
    "    sample_name = sampleid + \".tsv\"\n",
    "    fold_three.append(sample_name)\n",
    "\n",
    "source_directory = '/Users/lajoyce/Documents/genomics/epiage/BayesAge/data/samples_tsv/'\n",
    "\n",
    "fold_three_directory = '/Users/lajoyce/Documents/genomics/epiage/BayesAge/data/samples_tsv/fold_three/'\n",
    "\n",
    "for file_name in fold_three:\n",
    "    source_path = os.path.join(source_directory, file_name)\n",
    "    destination_path = os.path.join(fold_three_directory, file_name)\n",
    "    \n",
    "    # Move the file\n",
    "    shutil.move(source_path, destination_path)\n",
    "\n",
    "print(\"Files moved successfully.\")"
   ]
  },
  {
   "cell_type": "code",
   "execution_count": 18,
   "metadata": {},
   "outputs": [
    {
     "name": "stdout",
     "output_type": "stream",
     "text": [
      "Files moved successfully.\n"
     ]
    }
   ],
   "source": [
    "fold_four = []\n",
    "for sampleid in test_4:\n",
    "    sample_name = sampleid + \".tsv\"\n",
    "    fold_four.append(sample_name)\n",
    "\n",
    "source_directory = '/Users/lajoyce/Documents/genomics/epiage/BayesAge/data/samples_tsv/'\n",
    "\n",
    "fold_four_directory = '/Users/lajoyce/Documents/genomics/epiage/BayesAge/data/samples_tsv/fold_four/'\n",
    "\n",
    "for file_name in fold_four:\n",
    "    source_path = os.path.join(source_directory, file_name)\n",
    "    destination_path = os.path.join(fold_four_directory, file_name)\n",
    "    \n",
    "    # Move the file\n",
    "    shutil.move(source_path, destination_path)\n",
    "\n",
    "print(\"Files moved successfully.\")"
   ]
  },
  {
   "cell_type": "code",
   "execution_count": 19,
   "metadata": {},
   "outputs": [
    {
     "name": "stdout",
     "output_type": "stream",
     "text": [
      "Files moved successfully.\n"
     ]
    }
   ],
   "source": [
    "fold_five = []\n",
    "for sampleid in test_5:\n",
    "    sample_name = sampleid + \".tsv\"\n",
    "    fold_five.append(sample_name)\n",
    "\n",
    "source_directory = '/Users/lajoyce/Documents/genomics/epiage/BayesAge/data/samples_tsv/'\n",
    "\n",
    "fold_five_directory = '/Users/lajoyce/Documents/genomics/epiage/BayesAge/data/samples_tsv/fold_five/'\n",
    "\n",
    "for file_name in fold_five:\n",
    "    source_path = os.path.join(source_directory, file_name)\n",
    "    destination_path = os.path.join(fold_five_directory, file_name)\n",
    "    \n",
    "    # Move the file\n",
    "    shutil.move(source_path, destination_path)\n",
    "\n",
    "print(\"Files moved successfully.\")"
   ]
  },
  {
   "cell_type": "code",
   "execution_count": 20,
   "metadata": {},
   "outputs": [
    {
     "name": "stdout",
     "output_type": "stream",
     "text": [
      "Files moved successfully.\n"
     ]
    }
   ],
   "source": [
    "fold_six = []\n",
    "for sampleid in test_6:\n",
    "    sample_name = sampleid + \".tsv\"\n",
    "    fold_six.append(sample_name)\n",
    "\n",
    "source_directory = '/Users/lajoyce/Documents/genomics/epiage/BayesAge/data/samples_tsv/'\n",
    "\n",
    "fold_six_directory = '/Users/lajoyce/Documents/genomics/epiage/BayesAge/data/samples_tsv/fold_six/'\n",
    "\n",
    "for file_name in fold_six:\n",
    "    source_path = os.path.join(source_directory, file_name)\n",
    "    destination_path = os.path.join(fold_six_directory, file_name)\n",
    "    \n",
    "    # Move the file\n",
    "    shutil.move(source_path, destination_path)\n",
    "\n",
    "print(\"Files moved successfully.\")"
   ]
  },
  {
   "cell_type": "code",
   "execution_count": 21,
   "metadata": {},
   "outputs": [
    {
     "name": "stdout",
     "output_type": "stream",
     "text": [
      "Files moved successfully.\n"
     ]
    }
   ],
   "source": [
    "fold_seven = []\n",
    "for sampleid in test_7:\n",
    "    sample_name = sampleid + \".tsv\"\n",
    "    fold_seven.append(sample_name)\n",
    "\n",
    "source_directory = '/Users/lajoyce/Documents/genomics/epiage/BayesAge/data/samples_tsv/'\n",
    "\n",
    "fold_seven_directory = '/Users/lajoyce/Documents/genomics/epiage/BayesAge/data/samples_tsv/fold_seven/'\n",
    "\n",
    "for file_name in fold_seven:\n",
    "    source_path = os.path.join(source_directory, file_name)\n",
    "    destination_path = os.path.join(fold_seven_directory, file_name)\n",
    "    \n",
    "    # Move the file\n",
    "    shutil.move(source_path, destination_path)\n",
    "\n",
    "print(\"Files moved successfully.\")"
   ]
  },
  {
   "cell_type": "code",
   "execution_count": 22,
   "metadata": {},
   "outputs": [
    {
     "name": "stdout",
     "output_type": "stream",
     "text": [
      "Files moved successfully.\n"
     ]
    }
   ],
   "source": [
    "fold_eight = []\n",
    "for sampleid in test_8:\n",
    "    sample_name = sampleid + \".tsv\"\n",
    "    fold_eight.append(sample_name)\n",
    "\n",
    "source_directory = '/Users/lajoyce/Documents/genomics/epiage/BayesAge/data/samples_tsv/'\n",
    "\n",
    "fold_eight_directory = '/Users/lajoyce/Documents/genomics/epiage/BayesAge/data/samples_tsv/fold_eight/'\n",
    "\n",
    "for file_name in fold_eight:\n",
    "    source_path = os.path.join(source_directory, file_name)\n",
    "    destination_path = os.path.join(fold_eight_directory, file_name)\n",
    "    \n",
    "    # Move the file\n",
    "    shutil.move(source_path, destination_path)\n",
    "\n",
    "print(\"Files moved successfully.\")"
   ]
  },
  {
   "cell_type": "code",
   "execution_count": 23,
   "metadata": {},
   "outputs": [
    {
     "name": "stdout",
     "output_type": "stream",
     "text": [
      "Files moved successfully.\n"
     ]
    }
   ],
   "source": [
    "fold_nine = []\n",
    "for sampleid in test_9:\n",
    "    sample_name = sampleid + \".tsv\"\n",
    "    fold_nine.append(sample_name)\n",
    "\n",
    "source_directory = '/Users/lajoyce/Documents/genomics/epiage/BayesAge/data/samples_tsv/'\n",
    "\n",
    "fold_nine_directory = '/Users/lajoyce/Documents/genomics/epiage/BayesAge/data/samples_tsv/fold_nine/'\n",
    "\n",
    "for file_name in fold_nine:\n",
    "    source_path = os.path.join(source_directory, file_name)\n",
    "    destination_path = os.path.join(fold_nine_directory, file_name)\n",
    "    \n",
    "    # Move the file\n",
    "    shutil.move(source_path, destination_path)\n",
    "\n",
    "print(\"Files moved successfully.\")"
   ]
  },
  {
   "cell_type": "code",
   "execution_count": 24,
   "metadata": {},
   "outputs": [
    {
     "name": "stdout",
     "output_type": "stream",
     "text": [
      "Files moved successfully.\n"
     ]
    }
   ],
   "source": [
    "fold_ten = []\n",
    "for sampleid in test_10:\n",
    "    sample_name = sampleid + \".tsv\"\n",
    "    fold_ten.append(sample_name)\n",
    "\n",
    "source_directory = '/Users/lajoyce/Documents/genomics/epiage/BayesAge/data/samples_tsv/'\n",
    "\n",
    "fold_ten_directory = '/Users/lajoyce/Documents/genomics/epiage/BayesAge/data/samples_tsv/fold_ten/'\n",
    "\n",
    "for file_name in fold_ten:\n",
    "    source_path = os.path.join(source_directory, file_name)\n",
    "    destination_path = os.path.join(fold_ten_directory, file_name)\n",
    "    \n",
    "    # Move the file\n",
    "    shutil.move(source_path, destination_path)\n",
    "\n",
    "print(\"Files moved successfully.\")"
   ]
  },
  {
   "cell_type": "code",
   "execution_count": 11,
   "metadata": {},
   "outputs": [],
   "source": [
    "from BayesAge import bdAge"
   ]
  },
  {
   "cell_type": "markdown",
   "metadata": {},
   "source": [
    "### Tau = 0.1"
   ]
  },
  {
   "cell_type": "code",
   "execution_count": 12,
   "metadata": {},
   "outputs": [
    {
     "name": "stdout",
     "output_type": "stream",
     "text": [
      "bdAge algorithm starting!\n",
      "\n",
      "----------------------------------------\n",
      "Profiling epigenetic age in 'test_one' \n",
      "Loading processed CGmap methylation files from '/Users/lajoyce/Documents/genomics/epiage/BayesAge/data/samples_tsv/fold_one/'...\n",
      "Number of samples to analyze: 46\n",
      "\n",
      "bdAge parameters: \n",
      "---------------------------------------------------------\n",
      "Using reference training data: 1.csv\n",
      "Shape of reference matrix: 46,517 CpGs, 103 metric columns\n",
      "\n",
      "\n",
      "Using 4 cores with chunksize of 100\n",
      "\n",
      "\n",
      "Setting minimum age to 0 month(s)/year(s)\n",
      "Setting maximum age to 100 month(s)/year(s)\n",
      "Using age step of 1 month(s)/year(s)\n",
      "\n",
      "\n",
      "Using profiling mode: numCpGs\n",
      "---> Profiling top 8 age-related CpGs by absolute Spearman rank\n",
      "---------------------------------------------------------------------\n",
      "\n",
      "\n",
      "----------------------------------------------------------\n",
      "Starting parallel processing of all samples with 4 cores!\n",
      "\n"
     ]
    },
    {
     "data": {
      "application/vnd.jupyter.widget-view+json": {
       "model_id": "f8817638ac74473b8c539e61473cdda0",
       "version_major": 2,
       "version_minor": 0
      },
      "text/plain": [
       "bdAge progress :   0%|          | 0/46 [00:00<?, ? Age predictions/s]"
      ]
     },
     "metadata": {},
     "output_type": "display_data"
    },
    {
     "name": "stdout",
     "output_type": "stream",
     "text": [
      "\n",
      "\n",
      "\n",
      "Predictions stored in '/Users/lajoyce/Documents/genomics/epiage/BayesAge/data/split/predictions/tau_point_one/'\n",
      "----------------------------------------------------------\n",
      "\n",
      "Time elapsed to generate bdAge results = 4.875 seconds\n",
      "\n",
      "BdAge run complete!\n",
      "Fold 1 Complete!\n",
      "bdAge algorithm starting!\n",
      "\n",
      "----------------------------------------\n",
      "Profiling epigenetic age in 'test_two' \n",
      "Loading processed CGmap methylation files from '/Users/lajoyce/Documents/genomics/epiage/BayesAge/data/samples_tsv/fold_two/'...\n",
      "Number of samples to analyze: 46\n",
      "\n",
      "bdAge parameters: \n",
      "---------------------------------------------------------\n",
      "Using reference training data: 2.csv\n",
      "Shape of reference matrix: 46,517 CpGs, 103 metric columns\n",
      "\n",
      "\n",
      "Using 4 cores with chunksize of 100\n",
      "\n",
      "\n",
      "Setting minimum age to 0 month(s)/year(s)\n",
      "Setting maximum age to 100 month(s)/year(s)\n",
      "Using age step of 1 month(s)/year(s)\n",
      "\n",
      "\n",
      "Using profiling mode: numCpGs\n",
      "---> Profiling top 8 age-related CpGs by absolute Spearman rank\n",
      "---------------------------------------------------------------------\n",
      "\n",
      "\n",
      "----------------------------------------------------------\n",
      "Starting parallel processing of all samples with 4 cores!\n",
      "\n"
     ]
    },
    {
     "data": {
      "application/vnd.jupyter.widget-view+json": {
       "model_id": "6b997be8fddb476ba3b017f80ca4551d",
       "version_major": 2,
       "version_minor": 0
      },
      "text/plain": [
       "bdAge progress :   0%|          | 0/46 [00:00<?, ? Age predictions/s]"
      ]
     },
     "metadata": {},
     "output_type": "display_data"
    },
    {
     "name": "stdout",
     "output_type": "stream",
     "text": [
      "\n",
      "\n",
      "\n",
      "Predictions stored in '/Users/lajoyce/Documents/genomics/epiage/BayesAge/data/split/predictions/tau_point_one/'\n",
      "----------------------------------------------------------\n",
      "\n",
      "Time elapsed to generate bdAge results = 4.395 seconds\n",
      "\n",
      "BdAge run complete!\n",
      "Fold 2 Complete!\n",
      "bdAge algorithm starting!\n",
      "\n",
      "----------------------------------------\n",
      "Profiling epigenetic age in 'test_three' \n",
      "Loading processed CGmap methylation files from '/Users/lajoyce/Documents/genomics/epiage/BayesAge/data/samples_tsv/fold_three/'...\n",
      "Number of samples to analyze: 46\n",
      "\n",
      "bdAge parameters: \n",
      "---------------------------------------------------------\n",
      "Using reference training data: 3.csv\n",
      "Shape of reference matrix: 46,517 CpGs, 103 metric columns\n",
      "\n",
      "\n",
      "Using 4 cores with chunksize of 100\n",
      "\n",
      "\n",
      "Setting minimum age to 0 month(s)/year(s)\n",
      "Setting maximum age to 100 month(s)/year(s)\n",
      "Using age step of 1 month(s)/year(s)\n",
      "\n",
      "\n",
      "Using profiling mode: numCpGs\n",
      "---> Profiling top 8 age-related CpGs by absolute Spearman rank\n",
      "---------------------------------------------------------------------\n",
      "\n",
      "\n",
      "----------------------------------------------------------\n",
      "Starting parallel processing of all samples with 4 cores!\n",
      "\n"
     ]
    },
    {
     "data": {
      "application/vnd.jupyter.widget-view+json": {
       "model_id": "bc74a457f47d41fd8f6cc89e34c36954",
       "version_major": 2,
       "version_minor": 0
      },
      "text/plain": [
       "bdAge progress :   0%|          | 0/46 [00:00<?, ? Age predictions/s]"
      ]
     },
     "metadata": {},
     "output_type": "display_data"
    },
    {
     "name": "stdout",
     "output_type": "stream",
     "text": [
      "\n",
      "\n",
      "\n",
      "Predictions stored in '/Users/lajoyce/Documents/genomics/epiage/BayesAge/data/split/predictions/tau_point_one/'\n",
      "----------------------------------------------------------\n",
      "\n",
      "Time elapsed to generate bdAge results = 4.554 seconds\n",
      "\n",
      "BdAge run complete!\n",
      "Fold 3 Complete!\n",
      "bdAge algorithm starting!\n",
      "\n",
      "----------------------------------------\n",
      "Profiling epigenetic age in 'test_four' \n",
      "Loading processed CGmap methylation files from '/Users/lajoyce/Documents/genomics/epiage/BayesAge/data/samples_tsv/fold_four/'...\n",
      "Number of samples to analyze: 46\n",
      "\n",
      "bdAge parameters: \n",
      "---------------------------------------------------------\n",
      "Using reference training data: 4.csv\n",
      "Shape of reference matrix: 46,517 CpGs, 103 metric columns\n",
      "\n",
      "\n",
      "Using 4 cores with chunksize of 100\n",
      "\n",
      "\n",
      "Setting minimum age to 0 month(s)/year(s)\n",
      "Setting maximum age to 100 month(s)/year(s)\n",
      "Using age step of 1 month(s)/year(s)\n",
      "\n",
      "\n",
      "Using profiling mode: numCpGs\n",
      "---> Profiling top 8 age-related CpGs by absolute Spearman rank\n",
      "---------------------------------------------------------------------\n",
      "\n",
      "\n",
      "----------------------------------------------------------\n",
      "Starting parallel processing of all samples with 4 cores!\n",
      "\n"
     ]
    },
    {
     "data": {
      "application/vnd.jupyter.widget-view+json": {
       "model_id": "0f8cac6507564d3e8de916e6d02e8d0f",
       "version_major": 2,
       "version_minor": 0
      },
      "text/plain": [
       "bdAge progress :   0%|          | 0/46 [00:00<?, ? Age predictions/s]"
      ]
     },
     "metadata": {},
     "output_type": "display_data"
    },
    {
     "name": "stdout",
     "output_type": "stream",
     "text": [
      "\n",
      "\n",
      "\n",
      "Predictions stored in '/Users/lajoyce/Documents/genomics/epiage/BayesAge/data/split/predictions/tau_point_one/'\n",
      "----------------------------------------------------------\n",
      "\n",
      "Time elapsed to generate bdAge results = 4.527 seconds\n",
      "\n",
      "BdAge run complete!\n",
      "Fold 4 Complete!\n",
      "bdAge algorithm starting!\n",
      "\n",
      "----------------------------------------\n",
      "Profiling epigenetic age in 'test_five' \n",
      "Loading processed CGmap methylation files from '/Users/lajoyce/Documents/genomics/epiage/BayesAge/data/samples_tsv/fold_five/'...\n",
      "Number of samples to analyze: 46\n",
      "\n",
      "bdAge parameters: \n",
      "---------------------------------------------------------\n",
      "Using reference training data: 5.csv\n",
      "Shape of reference matrix: 46,517 CpGs, 103 metric columns\n",
      "\n",
      "\n",
      "Using 4 cores with chunksize of 100\n",
      "\n",
      "\n",
      "Setting minimum age to 0 month(s)/year(s)\n",
      "Setting maximum age to 100 month(s)/year(s)\n",
      "Using age step of 1 month(s)/year(s)\n",
      "\n",
      "\n",
      "Using profiling mode: numCpGs\n",
      "---> Profiling top 8 age-related CpGs by absolute Spearman rank\n",
      "---------------------------------------------------------------------\n",
      "\n",
      "\n",
      "----------------------------------------------------------\n",
      "Starting parallel processing of all samples with 4 cores!\n",
      "\n"
     ]
    },
    {
     "data": {
      "application/vnd.jupyter.widget-view+json": {
       "model_id": "61514de2557e45a2b361fe6f3dd5a1fe",
       "version_major": 2,
       "version_minor": 0
      },
      "text/plain": [
       "bdAge progress :   0%|          | 0/46 [00:00<?, ? Age predictions/s]"
      ]
     },
     "metadata": {},
     "output_type": "display_data"
    },
    {
     "name": "stdout",
     "output_type": "stream",
     "text": [
      "\n",
      "\n",
      "\n",
      "Predictions stored in '/Users/lajoyce/Documents/genomics/epiage/BayesAge/data/split/predictions/tau_point_one/'\n",
      "----------------------------------------------------------\n",
      "\n",
      "Time elapsed to generate bdAge results = 4.359 seconds\n",
      "\n",
      "BdAge run complete!\n",
      "Fold 5 Complete!\n",
      "bdAge algorithm starting!\n",
      "\n",
      "----------------------------------------\n",
      "Profiling epigenetic age in 'test_six' \n",
      "Loading processed CGmap methylation files from '/Users/lajoyce/Documents/genomics/epiage/BayesAge/data/samples_tsv/fold_six/'...\n",
      "Number of samples to analyze: 46\n",
      "\n",
      "bdAge parameters: \n",
      "---------------------------------------------------------\n",
      "Using reference training data: 6.csv\n",
      "Shape of reference matrix: 46,517 CpGs, 103 metric columns\n",
      "\n",
      "\n",
      "Using 4 cores with chunksize of 100\n",
      "\n",
      "\n",
      "Setting minimum age to 0 month(s)/year(s)\n",
      "Setting maximum age to 100 month(s)/year(s)\n",
      "Using age step of 1 month(s)/year(s)\n",
      "\n",
      "\n",
      "Using profiling mode: numCpGs\n",
      "---> Profiling top 8 age-related CpGs by absolute Spearman rank\n",
      "---------------------------------------------------------------------\n",
      "\n",
      "\n",
      "----------------------------------------------------------\n",
      "Starting parallel processing of all samples with 4 cores!\n",
      "\n"
     ]
    },
    {
     "data": {
      "application/vnd.jupyter.widget-view+json": {
       "model_id": "8bcba8b0d3fb4d1ba44d3a1bca24685c",
       "version_major": 2,
       "version_minor": 0
      },
      "text/plain": [
       "bdAge progress :   0%|          | 0/46 [00:00<?, ? Age predictions/s]"
      ]
     },
     "metadata": {},
     "output_type": "display_data"
    },
    {
     "name": "stdout",
     "output_type": "stream",
     "text": [
      "\n",
      "\n",
      "\n",
      "Predictions stored in '/Users/lajoyce/Documents/genomics/epiage/BayesAge/data/split/predictions/tau_point_one/'\n",
      "----------------------------------------------------------\n",
      "\n",
      "Time elapsed to generate bdAge results = 4.257 seconds\n",
      "\n",
      "BdAge run complete!\n",
      "Fold 6 Complete!\n",
      "bdAge algorithm starting!\n",
      "\n",
      "----------------------------------------\n",
      "Profiling epigenetic age in 'test_seven' \n",
      "Loading processed CGmap methylation files from '/Users/lajoyce/Documents/genomics/epiage/BayesAge/data/samples_tsv/fold_seven/'...\n",
      "Number of samples to analyze: 46\n",
      "\n",
      "bdAge parameters: \n",
      "---------------------------------------------------------\n",
      "Using reference training data: 7.csv\n",
      "Shape of reference matrix: 46,517 CpGs, 103 metric columns\n",
      "\n",
      "\n",
      "Using 4 cores with chunksize of 100\n",
      "\n",
      "\n",
      "Setting minimum age to 0 month(s)/year(s)\n",
      "Setting maximum age to 100 month(s)/year(s)\n",
      "Using age step of 1 month(s)/year(s)\n",
      "\n",
      "\n",
      "Using profiling mode: numCpGs\n",
      "---> Profiling top 8 age-related CpGs by absolute Spearman rank\n",
      "---------------------------------------------------------------------\n",
      "\n",
      "\n",
      "----------------------------------------------------------\n",
      "Starting parallel processing of all samples with 4 cores!\n",
      "\n"
     ]
    },
    {
     "data": {
      "application/vnd.jupyter.widget-view+json": {
       "model_id": "50a896d992954ff3b63494c947d3557e",
       "version_major": 2,
       "version_minor": 0
      },
      "text/plain": [
       "bdAge progress :   0%|          | 0/46 [00:00<?, ? Age predictions/s]"
      ]
     },
     "metadata": {},
     "output_type": "display_data"
    },
    {
     "name": "stdout",
     "output_type": "stream",
     "text": [
      "\n",
      "\n",
      "\n",
      "Predictions stored in '/Users/lajoyce/Documents/genomics/epiage/BayesAge/data/split/predictions/tau_point_one/'\n",
      "----------------------------------------------------------\n",
      "\n",
      "Time elapsed to generate bdAge results = 4.243 seconds\n",
      "\n",
      "BdAge run complete!\n",
      "Fold 7 Complete!\n",
      "bdAge algorithm starting!\n",
      "\n",
      "----------------------------------------\n",
      "Profiling epigenetic age in 'test_eight' \n",
      "Loading processed CGmap methylation files from '/Users/lajoyce/Documents/genomics/epiage/BayesAge/data/samples_tsv/fold_eight/'...\n",
      "Number of samples to analyze: 46\n",
      "\n",
      "bdAge parameters: \n",
      "---------------------------------------------------------\n",
      "Using reference training data: 8.csv\n",
      "Shape of reference matrix: 46,517 CpGs, 103 metric columns\n",
      "\n",
      "\n",
      "Using 4 cores with chunksize of 100\n",
      "\n",
      "\n",
      "Setting minimum age to 0 month(s)/year(s)\n",
      "Setting maximum age to 100 month(s)/year(s)\n",
      "Using age step of 1 month(s)/year(s)\n",
      "\n",
      "\n",
      "Using profiling mode: numCpGs\n",
      "---> Profiling top 8 age-related CpGs by absolute Spearman rank\n",
      "---------------------------------------------------------------------\n",
      "\n",
      "\n",
      "----------------------------------------------------------\n",
      "Starting parallel processing of all samples with 4 cores!\n",
      "\n"
     ]
    },
    {
     "data": {
      "application/vnd.jupyter.widget-view+json": {
       "model_id": "14095681c41d4182be5f3112fc11dbf5",
       "version_major": 2,
       "version_minor": 0
      },
      "text/plain": [
       "bdAge progress :   0%|          | 0/46 [00:00<?, ? Age predictions/s]"
      ]
     },
     "metadata": {},
     "output_type": "display_data"
    },
    {
     "name": "stdout",
     "output_type": "stream",
     "text": [
      "\n",
      "\n",
      "\n",
      "Predictions stored in '/Users/lajoyce/Documents/genomics/epiage/BayesAge/data/split/predictions/tau_point_one/'\n",
      "----------------------------------------------------------\n",
      "\n",
      "Time elapsed to generate bdAge results = 4.253 seconds\n",
      "\n",
      "BdAge run complete!\n",
      "Fold 8 Complete!\n",
      "bdAge algorithm starting!\n",
      "\n",
      "----------------------------------------\n",
      "Profiling epigenetic age in 'test_nine' \n",
      "Loading processed CGmap methylation files from '/Users/lajoyce/Documents/genomics/epiage/BayesAge/data/samples_tsv/fold_nine/'...\n",
      "Number of samples to analyze: 45\n",
      "\n",
      "bdAge parameters: \n",
      "---------------------------------------------------------\n",
      "Using reference training data: 9.csv\n",
      "Shape of reference matrix: 46,517 CpGs, 103 metric columns\n",
      "\n",
      "\n",
      "Using 4 cores with chunksize of 100\n",
      "\n",
      "\n",
      "Setting minimum age to 0 month(s)/year(s)\n",
      "Setting maximum age to 100 month(s)/year(s)\n",
      "Using age step of 1 month(s)/year(s)\n",
      "\n",
      "\n",
      "Using profiling mode: numCpGs\n",
      "---> Profiling top 8 age-related CpGs by absolute Spearman rank\n",
      "---------------------------------------------------------------------\n",
      "\n",
      "\n",
      "----------------------------------------------------------\n",
      "Starting parallel processing of all samples with 4 cores!\n",
      "\n"
     ]
    },
    {
     "data": {
      "application/vnd.jupyter.widget-view+json": {
       "model_id": "476bcd832f734eb399dd1b525aa2d6dd",
       "version_major": 2,
       "version_minor": 0
      },
      "text/plain": [
       "bdAge progress :   0%|          | 0/45 [00:00<?, ? Age predictions/s]"
      ]
     },
     "metadata": {},
     "output_type": "display_data"
    },
    {
     "name": "stdout",
     "output_type": "stream",
     "text": [
      "\n",
      "\n",
      "\n",
      "Predictions stored in '/Users/lajoyce/Documents/genomics/epiage/BayesAge/data/split/predictions/tau_point_one/'\n",
      "----------------------------------------------------------\n",
      "\n",
      "Time elapsed to generate bdAge results = 4.337 seconds\n",
      "\n",
      "BdAge run complete!\n",
      "Fold 9 Complete!\n",
      "bdAge algorithm starting!\n",
      "\n",
      "----------------------------------------\n",
      "Profiling epigenetic age in 'test_ten' \n",
      "Loading processed CGmap methylation files from '/Users/lajoyce/Documents/genomics/epiage/BayesAge/data/samples_tsv/fold_ten/'...\n",
      "Number of samples to analyze: 45\n",
      "\n",
      "bdAge parameters: \n",
      "---------------------------------------------------------\n",
      "Using reference training data: 10.csv\n",
      "Shape of reference matrix: 46,517 CpGs, 103 metric columns\n",
      "\n",
      "\n",
      "Using 4 cores with chunksize of 100\n",
      "\n",
      "\n",
      "Setting minimum age to 0 month(s)/year(s)\n",
      "Setting maximum age to 100 month(s)/year(s)\n",
      "Using age step of 1 month(s)/year(s)\n",
      "\n",
      "\n",
      "Using profiling mode: numCpGs\n",
      "---> Profiling top 8 age-related CpGs by absolute Spearman rank\n",
      "---------------------------------------------------------------------\n",
      "\n",
      "\n",
      "----------------------------------------------------------\n",
      "Starting parallel processing of all samples with 4 cores!\n",
      "\n"
     ]
    },
    {
     "data": {
      "application/vnd.jupyter.widget-view+json": {
       "model_id": "36bf52f1500942deac34d7fda07bbe6c",
       "version_major": 2,
       "version_minor": 0
      },
      "text/plain": [
       "bdAge progress :   0%|          | 0/45 [00:00<?, ? Age predictions/s]"
      ]
     },
     "metadata": {},
     "output_type": "display_data"
    },
    {
     "name": "stdout",
     "output_type": "stream",
     "text": [
      "\n",
      "\n",
      "\n",
      "Predictions stored in '/Users/lajoyce/Documents/genomics/epiage/BayesAge/data/split/predictions/tau_point_one/'\n",
      "----------------------------------------------------------\n",
      "\n",
      "Time elapsed to generate bdAge results = 4.431 seconds\n",
      "\n",
      "BdAge run complete!\n",
      "Fold 10 Complete!\n"
     ]
    }
   ],
   "source": [
    "bdAge(sample_dir_or_dict=\"/Users/lajoyce/Documents/genomics/epiage/BayesAge/data/samples_tsv/fold_one/\",\n",
    "        sample_set_name=\"test_one\",\n",
    "        reference_data=\"/Users/lajoyce/Documents/genomics/epiage/BayesAge/data/split/reference/tau_point_one/1.csv\",\n",
    "        output_path=\"/Users/lajoyce/Documents/genomics/epiage/BayesAge/data/split/predictions/tau_point_one/\",\n",
    "        selection_mode=\"numCpGs\",\n",
    "        CpG_parameter=8,\n",
    "        min_age=0,\n",
    "        max_age=100,\n",
    "        age_step=1,\n",
    "        n_cores = 4,\n",
    "        chunksize = 100)\n",
    "    \n",
    "print(\"Fold 1 Complete!\")  \n",
    "\n",
    "bdAge(sample_dir_or_dict=\"/Users/lajoyce/Documents/genomics/epiage/BayesAge/data/samples_tsv/fold_two/\",\n",
    "        sample_set_name=\"test_two\",\n",
    "        reference_data=\"/Users/lajoyce/Documents/genomics/epiage/BayesAge/data/split/reference/tau_point_one/2.csv\",\n",
    "        output_path=\"/Users/lajoyce/Documents/genomics/epiage/BayesAge/data/split/predictions/tau_point_one/\",\n",
    "        selection_mode=\"numCpGs\",\n",
    "        CpG_parameter=8,\n",
    "        min_age=0,\n",
    "        max_age=100,\n",
    "        age_step=1,\n",
    "        n_cores = 4,\n",
    "        chunksize = 100)\n",
    "\n",
    "print(\"Fold 2 Complete!\")  \n",
    "\n",
    "\n",
    "bdAge(sample_dir_or_dict=\"/Users/lajoyce/Documents/genomics/epiage/BayesAge/data/samples_tsv/fold_three/\",\n",
    "        sample_set_name=\"test_three\",\n",
    "        reference_data=\"/Users/lajoyce/Documents/genomics/epiage/BayesAge/data/split/reference/tau_point_one/3.csv\",\n",
    "        output_path=\"/Users/lajoyce/Documents/genomics/epiage/BayesAge/data/split/predictions/tau_point_one/\",\n",
    "        selection_mode=\"numCpGs\",\n",
    "        CpG_parameter=8,\n",
    "        min_age=0,\n",
    "        max_age=100,\n",
    "        age_step=1,\n",
    "        n_cores = 4,\n",
    "        chunksize = 100)\n",
    "\n",
    "print(\"Fold 3 Complete!\")  \n",
    "\n",
    "\n",
    "bdAge(sample_dir_or_dict=\"/Users/lajoyce/Documents/genomics/epiage/BayesAge/data/samples_tsv/fold_four/\",\n",
    "        sample_set_name=\"test_four\",\n",
    "        reference_data=\"/Users/lajoyce/Documents/genomics/epiage/BayesAge/data/split/reference/tau_point_one/4.csv\",\n",
    "        output_path=\"/Users/lajoyce/Documents/genomics/epiage/BayesAge/data/split/predictions/tau_point_one/\",\n",
    "        selection_mode=\"numCpGs\",\n",
    "        CpG_parameter=8,\n",
    "        min_age=0,\n",
    "        max_age=100,\n",
    "        age_step=1,\n",
    "        n_cores = 4,\n",
    "        chunksize = 100)\n",
    "\n",
    "print(\"Fold 4 Complete!\")  \n",
    "\n",
    "\n",
    "bdAge(sample_dir_or_dict=\"/Users/lajoyce/Documents/genomics/epiage/BayesAge/data/samples_tsv/fold_five/\",\n",
    "        sample_set_name=f\"test_five\",\n",
    "        reference_data=\"/Users/lajoyce/Documents/genomics/epiage/BayesAge/data/split/reference/tau_point_one/5.csv\",\n",
    "        output_path=\"/Users/lajoyce/Documents/genomics/epiage/BayesAge/data/split/predictions/tau_point_one/\",\n",
    "        selection_mode=\"numCpGs\",\n",
    "        CpG_parameter=8,\n",
    "        min_age=0,\n",
    "        max_age=100,\n",
    "        age_step=1,\n",
    "        n_cores = 4,\n",
    "        chunksize = 100)\n",
    "\n",
    "print(\"Fold 5 Complete!\")  \n",
    "\n",
    "\n",
    "bdAge(sample_dir_or_dict=\"/Users/lajoyce/Documents/genomics/epiage/BayesAge/data/samples_tsv/fold_six/\",\n",
    "        sample_set_name=\"test_six\",\n",
    "        reference_data=\"/Users/lajoyce/Documents/genomics/epiage/BayesAge/data/split/reference/tau_point_one/6.csv\",\n",
    "        output_path=\"/Users/lajoyce/Documents/genomics/epiage/BayesAge/data/split/predictions/tau_point_one/\",\n",
    "        selection_mode=\"numCpGs\",\n",
    "        CpG_parameter=8,\n",
    "        min_age=0,\n",
    "        max_age=100,\n",
    "        age_step=1,\n",
    "        n_cores = 4,\n",
    "        chunksize = 100)\n",
    "\n",
    "print(\"Fold 6 Complete!\")  \n",
    "\n",
    "\n",
    "bdAge(sample_dir_or_dict=\"/Users/lajoyce/Documents/genomics/epiage/BayesAge/data/samples_tsv/fold_seven/\",\n",
    "        sample_set_name=\"test_seven\",\n",
    "        reference_data=\"/Users/lajoyce/Documents/genomics/epiage/BayesAge/data/split/reference/tau_point_one/7.csv\",\n",
    "        output_path=\"/Users/lajoyce/Documents/genomics/epiage/BayesAge/data/split/predictions/tau_point_one/\",\n",
    "        selection_mode=\"numCpGs\",\n",
    "        CpG_parameter=8,\n",
    "        min_age=0,\n",
    "        max_age=100,\n",
    "        age_step=1,\n",
    "        n_cores = 4,\n",
    "        chunksize = 100)\n",
    "\n",
    "print(\"Fold 7 Complete!\")  \n",
    "\n",
    "\n",
    "bdAge(sample_dir_or_dict=\"/Users/lajoyce/Documents/genomics/epiage/BayesAge/data/samples_tsv/fold_eight/\",\n",
    "        sample_set_name=\"test_eight\",\n",
    "        reference_data=\"/Users/lajoyce/Documents/genomics/epiage/BayesAge/data/split/reference/tau_point_one/8.csv\",\n",
    "        output_path=\"/Users/lajoyce/Documents/genomics/epiage/BayesAge/data/split/predictions/tau_point_one/\",\n",
    "        selection_mode=\"numCpGs\",\n",
    "        CpG_parameter=8,\n",
    "        min_age=0,\n",
    "        max_age=100,\n",
    "        age_step=1,\n",
    "        n_cores = 4,\n",
    "        chunksize = 100)\n",
    "\n",
    "print(\"Fold 8 Complete!\")  \n",
    "\n",
    "bdAge(sample_dir_or_dict=\"/Users/lajoyce/Documents/genomics/epiage/BayesAge/data/samples_tsv/fold_nine/\",\n",
    "        sample_set_name=\"test_nine\",\n",
    "        reference_data=\"/Users/lajoyce/Documents/genomics/epiage/BayesAge/data/split/reference/tau_point_one/9.csv\",\n",
    "        output_path=\"/Users/lajoyce/Documents/genomics/epiage/BayesAge/data/split/predictions/tau_point_one/\",\n",
    "        selection_mode=\"numCpGs\",\n",
    "        CpG_parameter=8,\n",
    "        min_age=0,\n",
    "        max_age=100,\n",
    "        age_step=1,\n",
    "        n_cores = 4,\n",
    "        chunksize = 100)\n",
    "\n",
    "print(\"Fold 9 Complete!\")  \n",
    "\n",
    "\n",
    "bdAge(sample_dir_or_dict=\"/Users/lajoyce/Documents/genomics/epiage/BayesAge/data/samples_tsv/fold_ten/\",\n",
    "        sample_set_name=f\"test_ten\",\n",
    "        reference_data=\"/Users/lajoyce/Documents/genomics/epiage/BayesAge/data/split/reference/tau_point_one/10.csv\",\n",
    "        output_path=\"/Users/lajoyce/Documents/genomics/epiage/BayesAge/data/split/predictions/tau_point_one/\",\n",
    "        selection_mode=\"numCpGs\",\n",
    "        CpG_parameter=8,\n",
    "        min_age=0,\n",
    "        max_age=100,\n",
    "        age_step=1,\n",
    "        n_cores = 4,\n",
    "        chunksize = 100)\n",
    "    \n",
    "print(\"Fold 10 Complete!\")  "
   ]
  },
  {
   "cell_type": "markdown",
   "metadata": {},
   "source": [
    "### Tau = 0.3"
   ]
  },
  {
   "cell_type": "code",
   "execution_count": 13,
   "metadata": {},
   "outputs": [
    {
     "name": "stdout",
     "output_type": "stream",
     "text": [
      "bdAge algorithm starting!\n",
      "\n",
      "----------------------------------------\n",
      "Profiling epigenetic age in 'test_one' \n",
      "Loading processed CGmap methylation files from '/Users/lajoyce/Documents/genomics/epiage/BayesAge/data/samples_tsv/fold_one/'...\n",
      "Number of samples to analyze: 46\n",
      "\n",
      "bdAge parameters: \n",
      "---------------------------------------------------------\n",
      "Using reference training data: 1.csv\n",
      "Shape of reference matrix: 46,517 CpGs, 103 metric columns\n",
      "\n",
      "\n",
      "Using 4 cores with chunksize of 100\n",
      "\n",
      "\n",
      "Setting minimum age to 0 month(s)/year(s)\n",
      "Setting maximum age to 100 month(s)/year(s)\n",
      "Using age step of 1 month(s)/year(s)\n",
      "\n",
      "\n",
      "Using profiling mode: numCpGs\n",
      "---> Profiling top 8 age-related CpGs by absolute Spearman rank\n",
      "---------------------------------------------------------------------\n",
      "\n",
      "\n",
      "----------------------------------------------------------\n",
      "Starting parallel processing of all samples with 4 cores!\n",
      "\n"
     ]
    },
    {
     "data": {
      "application/vnd.jupyter.widget-view+json": {
       "model_id": "897f9905333e4cedadec3782de189b3a",
       "version_major": 2,
       "version_minor": 0
      },
      "text/plain": [
       "bdAge progress :   0%|          | 0/46 [00:00<?, ? Age predictions/s]"
      ]
     },
     "metadata": {},
     "output_type": "display_data"
    },
    {
     "name": "stdout",
     "output_type": "stream",
     "text": [
      "\n",
      "\n",
      "\n",
      "Predictions stored in '/Users/lajoyce/Documents/genomics/epiage/BayesAge/data/split/predictions/tau_point_three/'\n",
      "----------------------------------------------------------\n",
      "\n",
      "Time elapsed to generate bdAge results = 4.828 seconds\n",
      "\n",
      "BdAge run complete!\n",
      "Fold 1 Complete!\n",
      "bdAge algorithm starting!\n",
      "\n",
      "----------------------------------------\n",
      "Profiling epigenetic age in 'test_two' \n",
      "Loading processed CGmap methylation files from '/Users/lajoyce/Documents/genomics/epiage/BayesAge/data/samples_tsv/fold_two/'...\n",
      "Number of samples to analyze: 46\n",
      "\n",
      "bdAge parameters: \n",
      "---------------------------------------------------------\n",
      "Using reference training data: 2.csv\n",
      "Shape of reference matrix: 46,517 CpGs, 103 metric columns\n",
      "\n",
      "\n",
      "Using 4 cores with chunksize of 100\n",
      "\n",
      "\n",
      "Setting minimum age to 0 month(s)/year(s)\n",
      "Setting maximum age to 100 month(s)/year(s)\n",
      "Using age step of 1 month(s)/year(s)\n",
      "\n",
      "\n",
      "Using profiling mode: numCpGs\n",
      "---> Profiling top 8 age-related CpGs by absolute Spearman rank\n",
      "---------------------------------------------------------------------\n",
      "\n",
      "\n",
      "----------------------------------------------------------\n",
      "Starting parallel processing of all samples with 4 cores!\n",
      "\n"
     ]
    },
    {
     "data": {
      "application/vnd.jupyter.widget-view+json": {
       "model_id": "9629e023794444ebb9f2bacbb3f58167",
       "version_major": 2,
       "version_minor": 0
      },
      "text/plain": [
       "bdAge progress :   0%|          | 0/46 [00:00<?, ? Age predictions/s]"
      ]
     },
     "metadata": {},
     "output_type": "display_data"
    },
    {
     "name": "stdout",
     "output_type": "stream",
     "text": [
      "\n",
      "\n",
      "\n",
      "Predictions stored in '/Users/lajoyce/Documents/genomics/epiage/BayesAge/data/split/predictions/tau_point_three/'\n",
      "----------------------------------------------------------\n",
      "\n",
      "Time elapsed to generate bdAge results = 4.762 seconds\n",
      "\n",
      "BdAge run complete!\n",
      "Fold 2 Complete!\n",
      "bdAge algorithm starting!\n",
      "\n",
      "----------------------------------------\n",
      "Profiling epigenetic age in 'test_three' \n",
      "Loading processed CGmap methylation files from '/Users/lajoyce/Documents/genomics/epiage/BayesAge/data/samples_tsv/fold_three/'...\n",
      "Number of samples to analyze: 46\n",
      "\n",
      "bdAge parameters: \n",
      "---------------------------------------------------------\n",
      "Using reference training data: 3.csv\n",
      "Shape of reference matrix: 46,517 CpGs, 103 metric columns\n",
      "\n",
      "\n",
      "Using 4 cores with chunksize of 100\n",
      "\n",
      "\n",
      "Setting minimum age to 0 month(s)/year(s)\n",
      "Setting maximum age to 100 month(s)/year(s)\n",
      "Using age step of 1 month(s)/year(s)\n",
      "\n",
      "\n",
      "Using profiling mode: numCpGs\n",
      "---> Profiling top 8 age-related CpGs by absolute Spearman rank\n",
      "---------------------------------------------------------------------\n",
      "\n",
      "\n",
      "----------------------------------------------------------\n",
      "Starting parallel processing of all samples with 4 cores!\n",
      "\n"
     ]
    },
    {
     "data": {
      "application/vnd.jupyter.widget-view+json": {
       "model_id": "04a0c3d8aa7e4b759b8031520c32773c",
       "version_major": 2,
       "version_minor": 0
      },
      "text/plain": [
       "bdAge progress :   0%|          | 0/46 [00:00<?, ? Age predictions/s]"
      ]
     },
     "metadata": {},
     "output_type": "display_data"
    },
    {
     "name": "stdout",
     "output_type": "stream",
     "text": [
      "\n",
      "\n",
      "\n",
      "Predictions stored in '/Users/lajoyce/Documents/genomics/epiage/BayesAge/data/split/predictions/tau_point_three/'\n",
      "----------------------------------------------------------\n",
      "\n",
      "Time elapsed to generate bdAge results = 4.450 seconds\n",
      "\n",
      "BdAge run complete!\n",
      "Fold 3 Complete!\n",
      "bdAge algorithm starting!\n",
      "\n",
      "----------------------------------------\n",
      "Profiling epigenetic age in 'test_four' \n",
      "Loading processed CGmap methylation files from '/Users/lajoyce/Documents/genomics/epiage/BayesAge/data/samples_tsv/fold_four/'...\n",
      "Number of samples to analyze: 46\n",
      "\n",
      "bdAge parameters: \n",
      "---------------------------------------------------------\n",
      "Using reference training data: 4.csv\n",
      "Shape of reference matrix: 46,517 CpGs, 103 metric columns\n",
      "\n",
      "\n",
      "Using 4 cores with chunksize of 100\n",
      "\n",
      "\n",
      "Setting minimum age to 0 month(s)/year(s)\n",
      "Setting maximum age to 100 month(s)/year(s)\n",
      "Using age step of 1 month(s)/year(s)\n",
      "\n",
      "\n",
      "Using profiling mode: numCpGs\n",
      "---> Profiling top 8 age-related CpGs by absolute Spearman rank\n",
      "---------------------------------------------------------------------\n",
      "\n",
      "\n",
      "----------------------------------------------------------\n",
      "Starting parallel processing of all samples with 4 cores!\n",
      "\n"
     ]
    },
    {
     "data": {
      "application/vnd.jupyter.widget-view+json": {
       "model_id": "c2aabe07667a416e8343ec9b289d61eb",
       "version_major": 2,
       "version_minor": 0
      },
      "text/plain": [
       "bdAge progress :   0%|          | 0/46 [00:00<?, ? Age predictions/s]"
      ]
     },
     "metadata": {},
     "output_type": "display_data"
    },
    {
     "name": "stdout",
     "output_type": "stream",
     "text": [
      "\n",
      "\n",
      "\n",
      "Predictions stored in '/Users/lajoyce/Documents/genomics/epiage/BayesAge/data/split/predictions/tau_point_three/'\n",
      "----------------------------------------------------------\n",
      "\n",
      "Time elapsed to generate bdAge results = 4.392 seconds\n",
      "\n",
      "BdAge run complete!\n",
      "Fold 4 Complete!\n",
      "bdAge algorithm starting!\n",
      "\n",
      "----------------------------------------\n",
      "Profiling epigenetic age in 'test_five' \n",
      "Loading processed CGmap methylation files from '/Users/lajoyce/Documents/genomics/epiage/BayesAge/data/samples_tsv/fold_five/'...\n",
      "Number of samples to analyze: 46\n",
      "\n",
      "bdAge parameters: \n",
      "---------------------------------------------------------\n",
      "Using reference training data: 5.csv\n",
      "Shape of reference matrix: 46,517 CpGs, 103 metric columns\n",
      "\n",
      "\n",
      "Using 4 cores with chunksize of 100\n",
      "\n",
      "\n",
      "Setting minimum age to 0 month(s)/year(s)\n",
      "Setting maximum age to 100 month(s)/year(s)\n",
      "Using age step of 1 month(s)/year(s)\n",
      "\n",
      "\n",
      "Using profiling mode: numCpGs\n",
      "---> Profiling top 8 age-related CpGs by absolute Spearman rank\n",
      "---------------------------------------------------------------------\n",
      "\n",
      "\n",
      "----------------------------------------------------------\n",
      "Starting parallel processing of all samples with 4 cores!\n",
      "\n"
     ]
    },
    {
     "data": {
      "application/vnd.jupyter.widget-view+json": {
       "model_id": "32f06c61106e4470bd426d3ded3d71e2",
       "version_major": 2,
       "version_minor": 0
      },
      "text/plain": [
       "bdAge progress :   0%|          | 0/46 [00:00<?, ? Age predictions/s]"
      ]
     },
     "metadata": {},
     "output_type": "display_data"
    },
    {
     "name": "stdout",
     "output_type": "stream",
     "text": [
      "\n",
      "\n",
      "\n",
      "Predictions stored in '/Users/lajoyce/Documents/genomics/epiage/BayesAge/data/split/predictions/tau_point_three/'\n",
      "----------------------------------------------------------\n",
      "\n",
      "Time elapsed to generate bdAge results = 4.523 seconds\n",
      "\n",
      "BdAge run complete!\n",
      "Fold 5 Complete!\n",
      "bdAge algorithm starting!\n",
      "\n",
      "----------------------------------------\n",
      "Profiling epigenetic age in 'test_six' \n",
      "Loading processed CGmap methylation files from '/Users/lajoyce/Documents/genomics/epiage/BayesAge/data/samples_tsv/fold_six/'...\n",
      "Number of samples to analyze: 46\n",
      "\n",
      "bdAge parameters: \n",
      "---------------------------------------------------------\n",
      "Using reference training data: 6.csv\n",
      "Shape of reference matrix: 46,517 CpGs, 103 metric columns\n",
      "\n",
      "\n",
      "Using 4 cores with chunksize of 100\n",
      "\n",
      "\n",
      "Setting minimum age to 0 month(s)/year(s)\n",
      "Setting maximum age to 100 month(s)/year(s)\n",
      "Using age step of 1 month(s)/year(s)\n",
      "\n",
      "\n",
      "Using profiling mode: numCpGs\n",
      "---> Profiling top 8 age-related CpGs by absolute Spearman rank\n",
      "---------------------------------------------------------------------\n",
      "\n",
      "\n",
      "----------------------------------------------------------\n",
      "Starting parallel processing of all samples with 4 cores!\n",
      "\n"
     ]
    },
    {
     "data": {
      "application/vnd.jupyter.widget-view+json": {
       "model_id": "9dae770e1cc64e468c03890b6357c0c8",
       "version_major": 2,
       "version_minor": 0
      },
      "text/plain": [
       "bdAge progress :   0%|          | 0/46 [00:00<?, ? Age predictions/s]"
      ]
     },
     "metadata": {},
     "output_type": "display_data"
    },
    {
     "name": "stdout",
     "output_type": "stream",
     "text": [
      "\n",
      "\n",
      "\n",
      "Predictions stored in '/Users/lajoyce/Documents/genomics/epiage/BayesAge/data/split/predictions/tau_point_three/'\n",
      "----------------------------------------------------------\n",
      "\n",
      "Time elapsed to generate bdAge results = 4.533 seconds\n",
      "\n",
      "BdAge run complete!\n",
      "Fold 6 Complete!\n",
      "bdAge algorithm starting!\n",
      "\n",
      "----------------------------------------\n",
      "Profiling epigenetic age in 'test_seven' \n",
      "Loading processed CGmap methylation files from '/Users/lajoyce/Documents/genomics/epiage/BayesAge/data/samples_tsv/fold_seven/'...\n",
      "Number of samples to analyze: 46\n",
      "\n",
      "bdAge parameters: \n",
      "---------------------------------------------------------\n",
      "Using reference training data: 7.csv\n",
      "Shape of reference matrix: 46,517 CpGs, 103 metric columns\n",
      "\n",
      "\n",
      "Using 4 cores with chunksize of 100\n",
      "\n",
      "\n",
      "Setting minimum age to 0 month(s)/year(s)\n",
      "Setting maximum age to 100 month(s)/year(s)\n",
      "Using age step of 1 month(s)/year(s)\n",
      "\n",
      "\n",
      "Using profiling mode: numCpGs\n",
      "---> Profiling top 8 age-related CpGs by absolute Spearman rank\n",
      "---------------------------------------------------------------------\n",
      "\n",
      "\n",
      "----------------------------------------------------------\n",
      "Starting parallel processing of all samples with 4 cores!\n",
      "\n"
     ]
    },
    {
     "data": {
      "application/vnd.jupyter.widget-view+json": {
       "model_id": "732f657ea81a40f69b5b019d0e577b5a",
       "version_major": 2,
       "version_minor": 0
      },
      "text/plain": [
       "bdAge progress :   0%|          | 0/46 [00:00<?, ? Age predictions/s]"
      ]
     },
     "metadata": {},
     "output_type": "display_data"
    },
    {
     "name": "stdout",
     "output_type": "stream",
     "text": [
      "\n",
      "\n",
      "\n",
      "Predictions stored in '/Users/lajoyce/Documents/genomics/epiage/BayesAge/data/split/predictions/tau_point_three/'\n",
      "----------------------------------------------------------\n",
      "\n",
      "Time elapsed to generate bdAge results = 4.497 seconds\n",
      "\n",
      "BdAge run complete!\n",
      "Fold 7 Complete!\n",
      "bdAge algorithm starting!\n",
      "\n",
      "----------------------------------------\n",
      "Profiling epigenetic age in 'test_eight' \n",
      "Loading processed CGmap methylation files from '/Users/lajoyce/Documents/genomics/epiage/BayesAge/data/samples_tsv/fold_eight/'...\n",
      "Number of samples to analyze: 46\n",
      "\n",
      "bdAge parameters: \n",
      "---------------------------------------------------------\n",
      "Using reference training data: 8.csv\n",
      "Shape of reference matrix: 46,517 CpGs, 103 metric columns\n",
      "\n",
      "\n",
      "Using 4 cores with chunksize of 100\n",
      "\n",
      "\n",
      "Setting minimum age to 0 month(s)/year(s)\n",
      "Setting maximum age to 100 month(s)/year(s)\n",
      "Using age step of 1 month(s)/year(s)\n",
      "\n",
      "\n",
      "Using profiling mode: numCpGs\n",
      "---> Profiling top 8 age-related CpGs by absolute Spearman rank\n",
      "---------------------------------------------------------------------\n",
      "\n",
      "\n",
      "----------------------------------------------------------\n",
      "Starting parallel processing of all samples with 4 cores!\n",
      "\n"
     ]
    },
    {
     "data": {
      "application/vnd.jupyter.widget-view+json": {
       "model_id": "81a8222e7dc141af822a378a04f2bdfa",
       "version_major": 2,
       "version_minor": 0
      },
      "text/plain": [
       "bdAge progress :   0%|          | 0/46 [00:00<?, ? Age predictions/s]"
      ]
     },
     "metadata": {},
     "output_type": "display_data"
    },
    {
     "name": "stdout",
     "output_type": "stream",
     "text": [
      "\n",
      "\n",
      "\n",
      "Predictions stored in '/Users/lajoyce/Documents/genomics/epiage/BayesAge/data/split/predictions/tau_point_three/'\n",
      "----------------------------------------------------------\n",
      "\n",
      "Time elapsed to generate bdAge results = 4.316 seconds\n",
      "\n",
      "BdAge run complete!\n",
      "Fold 8 Complete!\n",
      "bdAge algorithm starting!\n",
      "\n",
      "----------------------------------------\n",
      "Profiling epigenetic age in 'test_nine' \n",
      "Loading processed CGmap methylation files from '/Users/lajoyce/Documents/genomics/epiage/BayesAge/data/samples_tsv/fold_nine/'...\n",
      "Number of samples to analyze: 45\n",
      "\n",
      "bdAge parameters: \n",
      "---------------------------------------------------------\n",
      "Using reference training data: 9.csv\n",
      "Shape of reference matrix: 46,517 CpGs, 103 metric columns\n",
      "\n",
      "\n",
      "Using 4 cores with chunksize of 100\n",
      "\n",
      "\n",
      "Setting minimum age to 0 month(s)/year(s)\n",
      "Setting maximum age to 100 month(s)/year(s)\n",
      "Using age step of 1 month(s)/year(s)\n",
      "\n",
      "\n",
      "Using profiling mode: numCpGs\n",
      "---> Profiling top 8 age-related CpGs by absolute Spearman rank\n",
      "---------------------------------------------------------------------\n",
      "\n",
      "\n",
      "----------------------------------------------------------\n",
      "Starting parallel processing of all samples with 4 cores!\n",
      "\n"
     ]
    },
    {
     "data": {
      "application/vnd.jupyter.widget-view+json": {
       "model_id": "90d24af00d994ccfab1864d5d76bffc9",
       "version_major": 2,
       "version_minor": 0
      },
      "text/plain": [
       "bdAge progress :   0%|          | 0/45 [00:00<?, ? Age predictions/s]"
      ]
     },
     "metadata": {},
     "output_type": "display_data"
    },
    {
     "name": "stdout",
     "output_type": "stream",
     "text": [
      "\n",
      "\n",
      "\n",
      "Predictions stored in '/Users/lajoyce/Documents/genomics/epiage/BayesAge/data/split/predictions/tau_point_three/'\n",
      "----------------------------------------------------------\n",
      "\n",
      "Time elapsed to generate bdAge results = 4.233 seconds\n",
      "\n",
      "BdAge run complete!\n",
      "Fold 9 Complete!\n",
      "bdAge algorithm starting!\n",
      "\n",
      "----------------------------------------\n",
      "Profiling epigenetic age in 'test_ten' \n",
      "Loading processed CGmap methylation files from '/Users/lajoyce/Documents/genomics/epiage/BayesAge/data/samples_tsv/fold_ten/'...\n",
      "Number of samples to analyze: 45\n",
      "\n",
      "bdAge parameters: \n",
      "---------------------------------------------------------\n",
      "Using reference training data: 10.csv\n",
      "Shape of reference matrix: 46,517 CpGs, 103 metric columns\n",
      "\n",
      "\n",
      "Using 4 cores with chunksize of 100\n",
      "\n",
      "\n",
      "Setting minimum age to 0 month(s)/year(s)\n",
      "Setting maximum age to 100 month(s)/year(s)\n",
      "Using age step of 1 month(s)/year(s)\n",
      "\n",
      "\n",
      "Using profiling mode: numCpGs\n",
      "---> Profiling top 8 age-related CpGs by absolute Spearman rank\n",
      "---------------------------------------------------------------------\n",
      "\n",
      "\n",
      "----------------------------------------------------------\n",
      "Starting parallel processing of all samples with 4 cores!\n",
      "\n"
     ]
    },
    {
     "data": {
      "application/vnd.jupyter.widget-view+json": {
       "model_id": "7121d9c2859f4647a6b493d4d6d94e43",
       "version_major": 2,
       "version_minor": 0
      },
      "text/plain": [
       "bdAge progress :   0%|          | 0/45 [00:00<?, ? Age predictions/s]"
      ]
     },
     "metadata": {},
     "output_type": "display_data"
    },
    {
     "name": "stdout",
     "output_type": "stream",
     "text": [
      "\n",
      "\n",
      "\n",
      "Predictions stored in '/Users/lajoyce/Documents/genomics/epiage/BayesAge/data/split/predictions/tau_point_three/'\n",
      "----------------------------------------------------------\n",
      "\n",
      "Time elapsed to generate bdAge results = 4.232 seconds\n",
      "\n",
      "BdAge run complete!\n",
      "Fold 10 Complete!\n"
     ]
    }
   ],
   "source": [
    "bdAge(sample_dir_or_dict=\"/Users/lajoyce/Documents/genomics/epiage/BayesAge/data/samples_tsv/fold_one/\",\n",
    "        sample_set_name=\"test_one\",\n",
    "        reference_data=\"/Users/lajoyce/Documents/genomics/epiage/BayesAge/data/split/reference/tau_point_three/1.csv\",\n",
    "        output_path=\"/Users/lajoyce/Documents/genomics/epiage/BayesAge/data/split/predictions/tau_point_three/\",\n",
    "        selection_mode=\"numCpGs\",\n",
    "        CpG_parameter=8,\n",
    "        min_age=0,\n",
    "        max_age=100,\n",
    "        age_step=1,\n",
    "        n_cores = 4,\n",
    "        chunksize = 100)\n",
    "    \n",
    "print(\"Fold 1 Complete!\")  \n",
    "\n",
    "bdAge(sample_dir_or_dict=\"/Users/lajoyce/Documents/genomics/epiage/BayesAge/data/samples_tsv/fold_two/\",\n",
    "        sample_set_name=\"test_two\",\n",
    "        reference_data=\"/Users/lajoyce/Documents/genomics/epiage/BayesAge/data/split/reference/tau_point_three/2.csv\",\n",
    "        output_path=\"/Users/lajoyce/Documents/genomics/epiage/BayesAge/data/split/predictions/tau_point_three/\",\n",
    "        selection_mode=\"numCpGs\",\n",
    "        CpG_parameter=8,\n",
    "        min_age=0,\n",
    "        max_age=100,\n",
    "        age_step=1,\n",
    "        n_cores = 4,\n",
    "        chunksize = 100)\n",
    "\n",
    "print(\"Fold 2 Complete!\")  \n",
    "\n",
    "bdAge(sample_dir_or_dict=\"/Users/lajoyce/Documents/genomics/epiage/BayesAge/data/samples_tsv/fold_three/\",\n",
    "        sample_set_name=\"test_three\",\n",
    "        reference_data=\"/Users/lajoyce/Documents/genomics/epiage/BayesAge/data/split/reference/tau_point_three/3.csv\",\n",
    "        output_path=\"/Users/lajoyce/Documents/genomics/epiage/BayesAge/data/split/predictions/tau_point_three/\",\n",
    "        selection_mode=\"numCpGs\",\n",
    "        CpG_parameter=8,\n",
    "        min_age=0,\n",
    "        max_age=100,\n",
    "        age_step=1,\n",
    "        n_cores = 4,\n",
    "        chunksize = 100)\n",
    "\n",
    "print(\"Fold 3 Complete!\")  \n",
    "\n",
    "\n",
    "bdAge(sample_dir_or_dict=\"/Users/lajoyce/Documents/genomics/epiage/BayesAge/data/samples_tsv/fold_four/\",\n",
    "        sample_set_name=\"test_four\",\n",
    "        reference_data=\"/Users/lajoyce/Documents/genomics/epiage/BayesAge/data/split/reference/tau_point_three/4.csv\",\n",
    "        output_path=\"/Users/lajoyce/Documents/genomics/epiage/BayesAge/data/split/predictions/tau_point_three/\",\n",
    "        selection_mode=\"numCpGs\",\n",
    "        CpG_parameter=8,\n",
    "        min_age=0,\n",
    "        max_age=100,\n",
    "        age_step=1,\n",
    "        n_cores = 4,\n",
    "        chunksize = 100)\n",
    "\n",
    "print(\"Fold 4 Complete!\")  \n",
    "\n",
    "\n",
    "bdAge(sample_dir_or_dict=\"/Users/lajoyce/Documents/genomics/epiage/BayesAge/data/samples_tsv/fold_five/\",\n",
    "        sample_set_name=\"test_five\",\n",
    "        reference_data=\"/Users/lajoyce/Documents/genomics/epiage/BayesAge/data/split/reference/tau_point_three/5.csv\",\n",
    "        output_path=\"/Users/lajoyce/Documents/genomics/epiage/BayesAge/data/split/predictions/tau_point_three/\",\n",
    "        selection_mode=\"numCpGs\",\n",
    "        CpG_parameter=8,\n",
    "        min_age=0,\n",
    "        max_age=100,\n",
    "        age_step=1,\n",
    "        n_cores = 4,\n",
    "        chunksize = 100)\n",
    "\n",
    "print(\"Fold 5 Complete!\")  \n",
    "\n",
    "bdAge(sample_dir_or_dict=\"/Users/lajoyce/Documents/genomics/epiage/BayesAge/data/samples_tsv/fold_six/\",\n",
    "        sample_set_name=\"test_six\",\n",
    "        reference_data=\"/Users/lajoyce/Documents/genomics/epiage/BayesAge/data/split/reference/tau_point_three/6.csv\",\n",
    "        output_path=\"/Users/lajoyce/Documents/genomics/epiage/BayesAge/data/split/predictions/tau_point_three/\",\n",
    "        selection_mode=\"numCpGs\",\n",
    "        CpG_parameter=8,\n",
    "        min_age=0,\n",
    "        max_age=100,\n",
    "        age_step=1,\n",
    "        n_cores = 4,\n",
    "        chunksize = 100)\n",
    "\n",
    "print(\"Fold 6 Complete!\")  \n",
    "\n",
    "\n",
    "bdAge(sample_dir_or_dict=\"/Users/lajoyce/Documents/genomics/epiage/BayesAge/data/samples_tsv/fold_seven/\",\n",
    "        sample_set_name=\"test_seven\",\n",
    "        reference_data=\"/Users/lajoyce/Documents/genomics/epiage/BayesAge/data/split/reference/tau_point_three/7.csv\",\n",
    "        output_path=\"/Users/lajoyce/Documents/genomics/epiage/BayesAge/data/split/predictions/tau_point_three/\",\n",
    "        selection_mode=\"numCpGs\",\n",
    "        CpG_parameter=8,\n",
    "        min_age=0,\n",
    "        max_age=100,\n",
    "        age_step=1,\n",
    "        n_cores = 4,\n",
    "        chunksize = 100)\n",
    "\n",
    "print(\"Fold 7 Complete!\")  \n",
    "\n",
    "bdAge(sample_dir_or_dict=\"/Users/lajoyce/Documents/genomics/epiage/BayesAge/data/samples_tsv/fold_eight/\",\n",
    "        sample_set_name=\"test_eight\",\n",
    "        reference_data=\"/Users/lajoyce/Documents/genomics/epiage/BayesAge/data/split/reference/tau_point_three/8.csv\",\n",
    "        output_path=\"/Users/lajoyce/Documents/genomics/epiage/BayesAge/data/split/predictions/tau_point_three/\",\n",
    "        selection_mode=\"numCpGs\",\n",
    "        CpG_parameter=8,\n",
    "        min_age=0,\n",
    "        max_age=100,\n",
    "        age_step=1,\n",
    "        n_cores = 4,\n",
    "        chunksize = 100)\n",
    "\n",
    "print(\"Fold 8 Complete!\")  \n",
    "\n",
    "bdAge(sample_dir_or_dict=\"/Users/lajoyce/Documents/genomics/epiage/BayesAge/data/samples_tsv/fold_nine/\",\n",
    "        sample_set_name=\"test_nine\",\n",
    "        reference_data=\"/Users/lajoyce/Documents/genomics/epiage/BayesAge/data/split/reference/tau_point_three/9.csv\",\n",
    "        output_path=\"/Users/lajoyce/Documents/genomics/epiage/BayesAge/data/split/predictions/tau_point_three/\",\n",
    "        selection_mode=\"numCpGs\",\n",
    "        CpG_parameter=8,\n",
    "        min_age=0,\n",
    "        max_age=100,\n",
    "        age_step=1,\n",
    "        n_cores = 4,\n",
    "        chunksize = 100)\n",
    "\n",
    "print(\"Fold 9 Complete!\")  \n",
    "\n",
    "\n",
    "bdAge(sample_dir_or_dict=\"/Users/lajoyce/Documents/genomics/epiage/BayesAge/data/samples_tsv/fold_ten/\",\n",
    "        sample_set_name=\"test_ten\",\n",
    "        reference_data=\"/Users/lajoyce/Documents/genomics/epiage/BayesAge/data/split/reference/tau_point_three/10.csv\",\n",
    "        output_path=\"/Users/lajoyce/Documents/genomics/epiage/BayesAge/data/split/predictions/tau_point_three/\",\n",
    "        selection_mode=\"numCpGs\",\n",
    "        CpG_parameter=8,\n",
    "        min_age=0,\n",
    "        max_age=100,\n",
    "        age_step=1,\n",
    "        n_cores = 4,\n",
    "        chunksize = 100)\n",
    "    \n",
    "print(\"Fold 10 Complete!\")  "
   ]
  },
  {
   "cell_type": "markdown",
   "metadata": {},
   "source": [
    "### Tau = 0.5"
   ]
  },
  {
   "cell_type": "code",
   "execution_count": 14,
   "metadata": {},
   "outputs": [
    {
     "name": "stdout",
     "output_type": "stream",
     "text": [
      "bdAge algorithm starting!\n",
      "\n",
      "----------------------------------------\n",
      "Profiling epigenetic age in 'test_one' \n",
      "Loading processed CGmap methylation files from '/Users/lajoyce/Documents/genomics/epiage/BayesAge/data/samples_tsv/fold_one/'...\n",
      "Number of samples to analyze: 46\n",
      "\n",
      "bdAge parameters: \n",
      "---------------------------------------------------------\n",
      "Using reference training data: 1.csv\n",
      "Shape of reference matrix: 46,517 CpGs, 103 metric columns\n",
      "\n",
      "\n",
      "Using 4 cores with chunksize of 100\n",
      "\n",
      "\n",
      "Setting minimum age to 0 month(s)/year(s)\n",
      "Setting maximum age to 100 month(s)/year(s)\n",
      "Using age step of 1 month(s)/year(s)\n",
      "\n",
      "\n",
      "Using profiling mode: numCpGs\n",
      "---> Profiling top 8 age-related CpGs by absolute Spearman rank\n",
      "---------------------------------------------------------------------\n",
      "\n",
      "\n",
      "----------------------------------------------------------\n",
      "Starting parallel processing of all samples with 4 cores!\n",
      "\n"
     ]
    },
    {
     "data": {
      "application/vnd.jupyter.widget-view+json": {
       "model_id": "1c6812c2d6934dccbb5b9341220bed97",
       "version_major": 2,
       "version_minor": 0
      },
      "text/plain": [
       "bdAge progress :   0%|          | 0/46 [00:00<?, ? Age predictions/s]"
      ]
     },
     "metadata": {},
     "output_type": "display_data"
    },
    {
     "name": "stdout",
     "output_type": "stream",
     "text": [
      "\n",
      "\n",
      "\n",
      "Predictions stored in '/Users/lajoyce/Documents/genomics/epiage/BayesAge/data/split/predictions/tau_point_five/'\n",
      "----------------------------------------------------------\n",
      "\n",
      "Time elapsed to generate bdAge results = 5.052 seconds\n",
      "\n",
      "BdAge run complete!\n",
      "Fold 1 Complete!\n",
      "bdAge algorithm starting!\n",
      "\n",
      "----------------------------------------\n",
      "Profiling epigenetic age in 'test_two' \n",
      "Loading processed CGmap methylation files from '/Users/lajoyce/Documents/genomics/epiage/BayesAge/data/samples_tsv/fold_two/'...\n",
      "Number of samples to analyze: 46\n",
      "\n",
      "bdAge parameters: \n",
      "---------------------------------------------------------\n",
      "Using reference training data: 2.csv\n",
      "Shape of reference matrix: 46,517 CpGs, 103 metric columns\n",
      "\n",
      "\n",
      "Using 4 cores with chunksize of 100\n",
      "\n",
      "\n",
      "Setting minimum age to 0 month(s)/year(s)\n",
      "Setting maximum age to 100 month(s)/year(s)\n",
      "Using age step of 1 month(s)/year(s)\n",
      "\n",
      "\n",
      "Using profiling mode: numCpGs\n",
      "---> Profiling top 8 age-related CpGs by absolute Spearman rank\n",
      "---------------------------------------------------------------------\n",
      "\n",
      "\n",
      "----------------------------------------------------------\n",
      "Starting parallel processing of all samples with 4 cores!\n",
      "\n"
     ]
    },
    {
     "data": {
      "application/vnd.jupyter.widget-view+json": {
       "model_id": "68ed40660b144244bd4304975fbffc51",
       "version_major": 2,
       "version_minor": 0
      },
      "text/plain": [
       "bdAge progress :   0%|          | 0/46 [00:00<?, ? Age predictions/s]"
      ]
     },
     "metadata": {},
     "output_type": "display_data"
    },
    {
     "name": "stdout",
     "output_type": "stream",
     "text": [
      "\n",
      "\n",
      "\n",
      "Predictions stored in '/Users/lajoyce/Documents/genomics/epiage/BayesAge/data/split/predictions/tau_point_five/'\n",
      "----------------------------------------------------------\n",
      "\n",
      "Time elapsed to generate bdAge results = 4.518 seconds\n",
      "\n",
      "BdAge run complete!\n",
      "Fold 2 Complete!\n",
      "bdAge algorithm starting!\n",
      "\n",
      "----------------------------------------\n",
      "Profiling epigenetic age in 'test_three' \n",
      "Loading processed CGmap methylation files from '/Users/lajoyce/Documents/genomics/epiage/BayesAge/data/samples_tsv/fold_three/'...\n",
      "Number of samples to analyze: 46\n",
      "\n",
      "bdAge parameters: \n",
      "---------------------------------------------------------\n",
      "Using reference training data: 3.csv\n",
      "Shape of reference matrix: 46,517 CpGs, 103 metric columns\n",
      "\n",
      "\n",
      "Using 4 cores with chunksize of 100\n",
      "\n",
      "\n",
      "Setting minimum age to 0 month(s)/year(s)\n",
      "Setting maximum age to 100 month(s)/year(s)\n",
      "Using age step of 1 month(s)/year(s)\n",
      "\n",
      "\n",
      "Using profiling mode: numCpGs\n",
      "---> Profiling top 8 age-related CpGs by absolute Spearman rank\n",
      "---------------------------------------------------------------------\n",
      "\n",
      "\n",
      "----------------------------------------------------------\n",
      "Starting parallel processing of all samples with 4 cores!\n",
      "\n"
     ]
    },
    {
     "data": {
      "application/vnd.jupyter.widget-view+json": {
       "model_id": "8d832e6897954a1ca2aec9e1faa05eef",
       "version_major": 2,
       "version_minor": 0
      },
      "text/plain": [
       "bdAge progress :   0%|          | 0/46 [00:00<?, ? Age predictions/s]"
      ]
     },
     "metadata": {},
     "output_type": "display_data"
    },
    {
     "name": "stdout",
     "output_type": "stream",
     "text": [
      "\n",
      "\n",
      "\n",
      "Predictions stored in '/Users/lajoyce/Documents/genomics/epiage/BayesAge/data/split/predictions/tau_point_five/'\n",
      "----------------------------------------------------------\n",
      "\n",
      "Time elapsed to generate bdAge results = 4.425 seconds\n",
      "\n",
      "BdAge run complete!\n",
      "Fold 3 Complete!\n",
      "bdAge algorithm starting!\n",
      "\n",
      "----------------------------------------\n",
      "Profiling epigenetic age in 'test_four' \n",
      "Loading processed CGmap methylation files from '/Users/lajoyce/Documents/genomics/epiage/BayesAge/data/samples_tsv/fold_four/'...\n",
      "Number of samples to analyze: 46\n",
      "\n",
      "bdAge parameters: \n",
      "---------------------------------------------------------\n",
      "Using reference training data: 4.csv\n",
      "Shape of reference matrix: 46,517 CpGs, 103 metric columns\n",
      "\n",
      "\n",
      "Using 4 cores with chunksize of 100\n",
      "\n",
      "\n",
      "Setting minimum age to 0 month(s)/year(s)\n",
      "Setting maximum age to 100 month(s)/year(s)\n",
      "Using age step of 1 month(s)/year(s)\n",
      "\n",
      "\n",
      "Using profiling mode: numCpGs\n",
      "---> Profiling top 8 age-related CpGs by absolute Spearman rank\n",
      "---------------------------------------------------------------------\n",
      "\n",
      "\n",
      "----------------------------------------------------------\n",
      "Starting parallel processing of all samples with 4 cores!\n",
      "\n"
     ]
    },
    {
     "data": {
      "application/vnd.jupyter.widget-view+json": {
       "model_id": "eb23cc8094604309b695353f02b9ee06",
       "version_major": 2,
       "version_minor": 0
      },
      "text/plain": [
       "bdAge progress :   0%|          | 0/46 [00:00<?, ? Age predictions/s]"
      ]
     },
     "metadata": {},
     "output_type": "display_data"
    },
    {
     "name": "stdout",
     "output_type": "stream",
     "text": [
      "\n",
      "\n",
      "\n",
      "Predictions stored in '/Users/lajoyce/Documents/genomics/epiage/BayesAge/data/split/predictions/tau_point_five/'\n",
      "----------------------------------------------------------\n",
      "\n",
      "Time elapsed to generate bdAge results = 4.474 seconds\n",
      "\n",
      "BdAge run complete!\n",
      "Fold 4 Complete!\n",
      "bdAge algorithm starting!\n",
      "\n",
      "----------------------------------------\n",
      "Profiling epigenetic age in 'test_five' \n",
      "Loading processed CGmap methylation files from '/Users/lajoyce/Documents/genomics/epiage/BayesAge/data/samples_tsv/fold_five/'...\n",
      "Number of samples to analyze: 46\n",
      "\n",
      "bdAge parameters: \n",
      "---------------------------------------------------------\n",
      "Using reference training data: 5.csv\n",
      "Shape of reference matrix: 46,517 CpGs, 103 metric columns\n",
      "\n",
      "\n",
      "Using 4 cores with chunksize of 100\n",
      "\n",
      "\n",
      "Setting minimum age to 0 month(s)/year(s)\n",
      "Setting maximum age to 100 month(s)/year(s)\n",
      "Using age step of 1 month(s)/year(s)\n",
      "\n",
      "\n",
      "Using profiling mode: numCpGs\n",
      "---> Profiling top 8 age-related CpGs by absolute Spearman rank\n",
      "---------------------------------------------------------------------\n",
      "\n",
      "\n",
      "----------------------------------------------------------\n",
      "Starting parallel processing of all samples with 4 cores!\n",
      "\n"
     ]
    },
    {
     "data": {
      "application/vnd.jupyter.widget-view+json": {
       "model_id": "01f72555f0da44e8bc5c106c8b5f3def",
       "version_major": 2,
       "version_minor": 0
      },
      "text/plain": [
       "bdAge progress :   0%|          | 0/46 [00:00<?, ? Age predictions/s]"
      ]
     },
     "metadata": {},
     "output_type": "display_data"
    },
    {
     "name": "stdout",
     "output_type": "stream",
     "text": [
      "\n",
      "\n",
      "\n",
      "Predictions stored in '/Users/lajoyce/Documents/genomics/epiage/BayesAge/data/split/predictions/tau_point_five/'\n",
      "----------------------------------------------------------\n",
      "\n",
      "Time elapsed to generate bdAge results = 4.378 seconds\n",
      "\n",
      "BdAge run complete!\n",
      "Fold 5 Complete!\n",
      "bdAge algorithm starting!\n",
      "\n",
      "----------------------------------------\n",
      "Profiling epigenetic age in 'test_six' \n",
      "Loading processed CGmap methylation files from '/Users/lajoyce/Documents/genomics/epiage/BayesAge/data/samples_tsv/fold_six/'...\n",
      "Number of samples to analyze: 46\n",
      "\n",
      "bdAge parameters: \n",
      "---------------------------------------------------------\n",
      "Using reference training data: 6.csv\n",
      "Shape of reference matrix: 46,517 CpGs, 103 metric columns\n",
      "\n",
      "\n",
      "Using 4 cores with chunksize of 100\n",
      "\n",
      "\n",
      "Setting minimum age to 0 month(s)/year(s)\n",
      "Setting maximum age to 100 month(s)/year(s)\n",
      "Using age step of 1 month(s)/year(s)\n",
      "\n",
      "\n",
      "Using profiling mode: numCpGs\n",
      "---> Profiling top 8 age-related CpGs by absolute Spearman rank\n",
      "---------------------------------------------------------------------\n",
      "\n",
      "\n",
      "----------------------------------------------------------\n",
      "Starting parallel processing of all samples with 4 cores!\n",
      "\n"
     ]
    },
    {
     "data": {
      "application/vnd.jupyter.widget-view+json": {
       "model_id": "fe0461de3c9e4e87a6f1d65b183be1ef",
       "version_major": 2,
       "version_minor": 0
      },
      "text/plain": [
       "bdAge progress :   0%|          | 0/46 [00:00<?, ? Age predictions/s]"
      ]
     },
     "metadata": {},
     "output_type": "display_data"
    },
    {
     "name": "stdout",
     "output_type": "stream",
     "text": [
      "\n",
      "\n",
      "\n",
      "Predictions stored in '/Users/lajoyce/Documents/genomics/epiage/BayesAge/data/split/predictions/tau_point_five/'\n",
      "----------------------------------------------------------\n",
      "\n",
      "Time elapsed to generate bdAge results = 4.565 seconds\n",
      "\n",
      "BdAge run complete!\n",
      "Fold 6 Complete!\n",
      "bdAge algorithm starting!\n",
      "\n",
      "----------------------------------------\n",
      "Profiling epigenetic age in 'test_seven' \n",
      "Loading processed CGmap methylation files from '/Users/lajoyce/Documents/genomics/epiage/BayesAge/data/samples_tsv/fold_seven/'...\n",
      "Number of samples to analyze: 46\n",
      "\n",
      "bdAge parameters: \n",
      "---------------------------------------------------------\n",
      "Using reference training data: 7.csv\n",
      "Shape of reference matrix: 46,517 CpGs, 103 metric columns\n",
      "\n",
      "\n",
      "Using 4 cores with chunksize of 100\n",
      "\n",
      "\n",
      "Setting minimum age to 0 month(s)/year(s)\n",
      "Setting maximum age to 100 month(s)/year(s)\n",
      "Using age step of 1 month(s)/year(s)\n",
      "\n",
      "\n",
      "Using profiling mode: numCpGs\n",
      "---> Profiling top 8 age-related CpGs by absolute Spearman rank\n",
      "---------------------------------------------------------------------\n",
      "\n",
      "\n",
      "----------------------------------------------------------\n",
      "Starting parallel processing of all samples with 4 cores!\n",
      "\n"
     ]
    },
    {
     "data": {
      "application/vnd.jupyter.widget-view+json": {
       "model_id": "a33211f7f13d40959d32615d7d1c11cf",
       "version_major": 2,
       "version_minor": 0
      },
      "text/plain": [
       "bdAge progress :   0%|          | 0/46 [00:00<?, ? Age predictions/s]"
      ]
     },
     "metadata": {},
     "output_type": "display_data"
    },
    {
     "name": "stdout",
     "output_type": "stream",
     "text": [
      "\n",
      "\n",
      "\n",
      "Predictions stored in '/Users/lajoyce/Documents/genomics/epiage/BayesAge/data/split/predictions/tau_point_five/'\n",
      "----------------------------------------------------------\n",
      "\n",
      "Time elapsed to generate bdAge results = 4.667 seconds\n",
      "\n",
      "BdAge run complete!\n",
      "Fold 7 Complete!\n",
      "bdAge algorithm starting!\n",
      "\n",
      "----------------------------------------\n",
      "Profiling epigenetic age in 'test_eight' \n",
      "Loading processed CGmap methylation files from '/Users/lajoyce/Documents/genomics/epiage/BayesAge/data/samples_tsv/fold_eight/'...\n",
      "Number of samples to analyze: 46\n",
      "\n",
      "bdAge parameters: \n",
      "---------------------------------------------------------\n",
      "Using reference training data: 8.csv\n",
      "Shape of reference matrix: 46,517 CpGs, 103 metric columns\n",
      "\n",
      "\n",
      "Using 4 cores with chunksize of 100\n",
      "\n",
      "\n",
      "Setting minimum age to 0 month(s)/year(s)\n",
      "Setting maximum age to 100 month(s)/year(s)\n",
      "Using age step of 1 month(s)/year(s)\n",
      "\n",
      "\n",
      "Using profiling mode: numCpGs\n",
      "---> Profiling top 8 age-related CpGs by absolute Spearman rank\n",
      "---------------------------------------------------------------------\n",
      "\n",
      "\n",
      "----------------------------------------------------------\n",
      "Starting parallel processing of all samples with 4 cores!\n",
      "\n"
     ]
    },
    {
     "data": {
      "application/vnd.jupyter.widget-view+json": {
       "model_id": "4929ade5ccfe44d3acf0b1cd2272a578",
       "version_major": 2,
       "version_minor": 0
      },
      "text/plain": [
       "bdAge progress :   0%|          | 0/46 [00:00<?, ? Age predictions/s]"
      ]
     },
     "metadata": {},
     "output_type": "display_data"
    },
    {
     "name": "stdout",
     "output_type": "stream",
     "text": [
      "\n",
      "\n",
      "\n",
      "Predictions stored in '/Users/lajoyce/Documents/genomics/epiage/BayesAge/data/split/predictions/tau_point_five/'\n",
      "----------------------------------------------------------\n",
      "\n",
      "Time elapsed to generate bdAge results = 4.460 seconds\n",
      "\n",
      "BdAge run complete!\n",
      "Fold 8 Complete!\n",
      "bdAge algorithm starting!\n",
      "\n",
      "----------------------------------------\n",
      "Profiling epigenetic age in 'test_nine' \n",
      "Loading processed CGmap methylation files from '/Users/lajoyce/Documents/genomics/epiage/BayesAge/data/samples_tsv/fold_nine/'...\n",
      "Number of samples to analyze: 45\n",
      "\n",
      "bdAge parameters: \n",
      "---------------------------------------------------------\n",
      "Using reference training data: 9.csv\n",
      "Shape of reference matrix: 46,517 CpGs, 103 metric columns\n",
      "\n",
      "\n",
      "Using 4 cores with chunksize of 100\n",
      "\n",
      "\n",
      "Setting minimum age to 0 month(s)/year(s)\n",
      "Setting maximum age to 100 month(s)/year(s)\n",
      "Using age step of 1 month(s)/year(s)\n",
      "\n",
      "\n",
      "Using profiling mode: numCpGs\n",
      "---> Profiling top 8 age-related CpGs by absolute Spearman rank\n",
      "---------------------------------------------------------------------\n",
      "\n",
      "\n",
      "----------------------------------------------------------\n",
      "Starting parallel processing of all samples with 4 cores!\n",
      "\n"
     ]
    },
    {
     "data": {
      "application/vnd.jupyter.widget-view+json": {
       "model_id": "de32e8c3d2064f1c9190449edb698f38",
       "version_major": 2,
       "version_minor": 0
      },
      "text/plain": [
       "bdAge progress :   0%|          | 0/45 [00:00<?, ? Age predictions/s]"
      ]
     },
     "metadata": {},
     "output_type": "display_data"
    },
    {
     "name": "stdout",
     "output_type": "stream",
     "text": [
      "\n",
      "\n",
      "\n",
      "Predictions stored in '/Users/lajoyce/Documents/genomics/epiage/BayesAge/data/split/predictions/tau_point_five/'\n",
      "----------------------------------------------------------\n",
      "\n",
      "Time elapsed to generate bdAge results = 4.368 seconds\n",
      "\n",
      "BdAge run complete!\n",
      "Fold 9 Complete!\n",
      "bdAge algorithm starting!\n",
      "\n",
      "----------------------------------------\n",
      "Profiling epigenetic age in 'test_ten' \n",
      "Loading processed CGmap methylation files from '/Users/lajoyce/Documents/genomics/epiage/BayesAge/data/samples_tsv/fold_ten/'...\n",
      "Number of samples to analyze: 45\n",
      "\n",
      "bdAge parameters: \n",
      "---------------------------------------------------------\n",
      "Using reference training data: 10.csv\n",
      "Shape of reference matrix: 46,517 CpGs, 103 metric columns\n",
      "\n",
      "\n",
      "Using 4 cores with chunksize of 100\n",
      "\n",
      "\n",
      "Setting minimum age to 0 month(s)/year(s)\n",
      "Setting maximum age to 100 month(s)/year(s)\n",
      "Using age step of 1 month(s)/year(s)\n",
      "\n",
      "\n",
      "Using profiling mode: numCpGs\n",
      "---> Profiling top 8 age-related CpGs by absolute Spearman rank\n",
      "---------------------------------------------------------------------\n",
      "\n",
      "\n",
      "----------------------------------------------------------\n",
      "Starting parallel processing of all samples with 4 cores!\n",
      "\n"
     ]
    },
    {
     "data": {
      "application/vnd.jupyter.widget-view+json": {
       "model_id": "b4b8523e71364b2fb6eec104a60ee1c5",
       "version_major": 2,
       "version_minor": 0
      },
      "text/plain": [
       "bdAge progress :   0%|          | 0/45 [00:00<?, ? Age predictions/s]"
      ]
     },
     "metadata": {},
     "output_type": "display_data"
    },
    {
     "name": "stdout",
     "output_type": "stream",
     "text": [
      "\n",
      "\n",
      "\n",
      "Predictions stored in '/Users/lajoyce/Documents/genomics/epiage/BayesAge/data/split/predictions/tau_point_five/'\n",
      "----------------------------------------------------------\n",
      "\n",
      "Time elapsed to generate bdAge results = 4.429 seconds\n",
      "\n",
      "BdAge run complete!\n",
      "Fold 10 Complete!\n"
     ]
    }
   ],
   "source": [
    "bdAge(sample_dir_or_dict=\"/Users/lajoyce/Documents/genomics/epiage/BayesAge/data/samples_tsv/fold_one/\",\n",
    "        sample_set_name=\"test_one\",\n",
    "        reference_data=\"/Users/lajoyce/Documents/genomics/epiage/BayesAge/data/split/reference/tau_point_five/1.csv\",\n",
    "        output_path=\"/Users/lajoyce/Documents/genomics/epiage/BayesAge/data/split/predictions/tau_point_five/\",\n",
    "        selection_mode=\"numCpGs\",\n",
    "        CpG_parameter=8,\n",
    "        min_age=0,\n",
    "        max_age=100,\n",
    "        age_step=1,\n",
    "        n_cores = 4,\n",
    "        chunksize = 100)\n",
    "    \n",
    "print(\"Fold 1 Complete!\")  \n",
    "\n",
    "\n",
    "bdAge(sample_dir_or_dict=\"/Users/lajoyce/Documents/genomics/epiage/BayesAge/data/samples_tsv/fold_two/\",\n",
    "        sample_set_name=f\"test_two\",\n",
    "        reference_data=\"/Users/lajoyce/Documents/genomics/epiage/BayesAge/data/split/reference/tau_point_five/2.csv\",\n",
    "        output_path=\"/Users/lajoyce/Documents/genomics/epiage/BayesAge/data/split/predictions/tau_point_five/\",\n",
    "        selection_mode=\"numCpGs\",\n",
    "        CpG_parameter=8,\n",
    "        min_age=0,\n",
    "        max_age=100,\n",
    "        age_step=1,\n",
    "        n_cores = 4,\n",
    "        chunksize = 100)\n",
    "\n",
    "print(\"Fold 2 Complete!\")  \n",
    "\n",
    "\n",
    "bdAge(sample_dir_or_dict=\"/Users/lajoyce/Documents/genomics/epiage/BayesAge/data/samples_tsv/fold_three/\",\n",
    "        sample_set_name=\"test_three\",\n",
    "        reference_data=\"/Users/lajoyce/Documents/genomics/epiage/BayesAge/data/split/reference/tau_point_five/3.csv\",\n",
    "        output_path=\"/Users/lajoyce/Documents/genomics/epiage/BayesAge/data/split/predictions/tau_point_five/\",\n",
    "        selection_mode=\"numCpGs\",\n",
    "        CpG_parameter=8,\n",
    "        min_age=0,\n",
    "        max_age=100,\n",
    "        age_step=1,\n",
    "        n_cores = 4,\n",
    "        chunksize = 100)\n",
    "\n",
    "print(\"Fold 3 Complete!\")  \n",
    "\n",
    "bdAge(sample_dir_or_dict=\"/Users/lajoyce/Documents/genomics/epiage/BayesAge/data/samples_tsv/fold_four/\",\n",
    "        sample_set_name=\"test_four\",\n",
    "        reference_data=\"/Users/lajoyce/Documents/genomics/epiage/BayesAge/data/split/reference/tau_point_five/4.csv\",\n",
    "        output_path=\"/Users/lajoyce/Documents/genomics/epiage/BayesAge/data/split/predictions/tau_point_five/\",\n",
    "        selection_mode=\"numCpGs\",\n",
    "        CpG_parameter=8,\n",
    "        min_age=0,\n",
    "        max_age=100,\n",
    "        age_step=1,\n",
    "        n_cores = 4,\n",
    "        chunksize = 100)\n",
    "\n",
    "print(\"Fold 4 Complete!\")  \n",
    "\n",
    "bdAge(sample_dir_or_dict=\"/Users/lajoyce/Documents/genomics/epiage/BayesAge/data/samples_tsv/fold_five/\",\n",
    "        sample_set_name=\"test_five\",\n",
    "        reference_data=\"/Users/lajoyce/Documents/genomics/epiage/BayesAge/data/split/reference/tau_point_five/5.csv\",\n",
    "        output_path=\"/Users/lajoyce/Documents/genomics/epiage/BayesAge/data/split/predictions/tau_point_five/\",\n",
    "        selection_mode=\"numCpGs\",\n",
    "        CpG_parameter=8,\n",
    "        min_age=0,\n",
    "        max_age=100,\n",
    "        age_step=1,\n",
    "        n_cores = 4,\n",
    "        chunksize = 100)\n",
    "\n",
    "print(\"Fold 5 Complete!\")  \n",
    "\n",
    "bdAge(sample_dir_or_dict=\"/Users/lajoyce/Documents/genomics/epiage/BayesAge/data/samples_tsv/fold_six/\",\n",
    "        sample_set_name=\"test_six\",\n",
    "        reference_data=\"/Users/lajoyce/Documents/genomics/epiage/BayesAge/data/split/reference/tau_point_five/6.csv\",\n",
    "        output_path=\"/Users/lajoyce/Documents/genomics/epiage/BayesAge/data/split/predictions/tau_point_five/\",\n",
    "        selection_mode=\"numCpGs\",\n",
    "        CpG_parameter=8,\n",
    "        min_age=0,\n",
    "        max_age=100,\n",
    "        age_step=1,\n",
    "        n_cores = 4,\n",
    "        chunksize = 100)\n",
    "\n",
    "print(\"Fold 6 Complete!\")  \n",
    "\n",
    "bdAge(sample_dir_or_dict=\"/Users/lajoyce/Documents/genomics/epiage/BayesAge/data/samples_tsv/fold_seven/\",\n",
    "        sample_set_name=\"test_seven\",\n",
    "        reference_data=\"/Users/lajoyce/Documents/genomics/epiage/BayesAge/data/split/reference/tau_point_five/7.csv\",\n",
    "        output_path=\"/Users/lajoyce/Documents/genomics/epiage/BayesAge/data/split/predictions/tau_point_five/\",\n",
    "        selection_mode=\"numCpGs\",\n",
    "        CpG_parameter=8,\n",
    "        min_age=0,\n",
    "        max_age=100,\n",
    "        age_step=1,\n",
    "        n_cores = 4,\n",
    "        chunksize = 100)\n",
    "\n",
    "print(\"Fold 7 Complete!\")  \n",
    "\n",
    "bdAge(sample_dir_or_dict=\"/Users/lajoyce/Documents/genomics/epiage/BayesAge/data/samples_tsv/fold_eight/\",\n",
    "        sample_set_name=\"test_eight\",\n",
    "        reference_data=\"/Users/lajoyce/Documents/genomics/epiage/BayesAge/data/split/reference/tau_point_five/8.csv\",\n",
    "        output_path=\"/Users/lajoyce/Documents/genomics/epiage/BayesAge/data/split/predictions/tau_point_five/\",\n",
    "        selection_mode=\"numCpGs\",\n",
    "        CpG_parameter=8,\n",
    "        min_age=0,\n",
    "        max_age=100,\n",
    "        age_step=1,\n",
    "        n_cores = 4,\n",
    "        chunksize = 100)\n",
    "\n",
    "print(\"Fold 8 Complete!\")  \n",
    "\n",
    "bdAge(sample_dir_or_dict=\"/Users/lajoyce/Documents/genomics/epiage/BayesAge/data/samples_tsv/fold_nine/\",\n",
    "        sample_set_name=\"test_nine\",\n",
    "        reference_data=\"/Users/lajoyce/Documents/genomics/epiage/BayesAge/data/split/reference/tau_point_five/9.csv\",\n",
    "        output_path=\"/Users/lajoyce/Documents/genomics/epiage/BayesAge/data/split/predictions/tau_point_five/\",\n",
    "        selection_mode=\"numCpGs\",\n",
    "        CpG_parameter=8,\n",
    "        min_age=0,\n",
    "        max_age=100,\n",
    "        age_step=1,\n",
    "        n_cores = 4,\n",
    "        chunksize = 100)\n",
    "\n",
    "print(\"Fold 9 Complete!\")  \n",
    "\n",
    "bdAge(sample_dir_or_dict=\"/Users/lajoyce/Documents/genomics/epiage/BayesAge/data/samples_tsv/fold_ten/\",\n",
    "        sample_set_name=\"test_ten\",\n",
    "        reference_data=\"/Users/lajoyce/Documents/genomics/epiage/BayesAge/data/split/reference/tau_point_five/10.csv\",\n",
    "        output_path=\"/Users/lajoyce/Documents/genomics/epiage/BayesAge/data/split/predictions/tau_point_five/\",\n",
    "        selection_mode=\"numCpGs\",\n",
    "        CpG_parameter=8,\n",
    "        min_age=0,\n",
    "        max_age=100,\n",
    "        age_step=1,\n",
    "        n_cores = 4,\n",
    "        chunksize = 100)\n",
    "    \n",
    "print(\"Fold 10 Complete!\")  "
   ]
  },
  {
   "cell_type": "markdown",
   "metadata": {},
   "source": [
    "### Tau = 0.9"
   ]
  },
  {
   "cell_type": "code",
   "execution_count": 15,
   "metadata": {},
   "outputs": [
    {
     "name": "stdout",
     "output_type": "stream",
     "text": [
      "bdAge algorithm starting!\n",
      "\n",
      "----------------------------------------\n",
      "Profiling epigenetic age in 'test_one' \n",
      "Loading processed CGmap methylation files from '/Users/lajoyce/Documents/genomics/epiage/BayesAge/data/samples_tsv/fold_one/'...\n",
      "Number of samples to analyze: 46\n",
      "\n",
      "bdAge parameters: \n",
      "---------------------------------------------------------\n",
      "Using reference training data: 1.csv\n",
      "Shape of reference matrix: 46,517 CpGs, 103 metric columns\n",
      "\n",
      "\n",
      "Using 4 cores with chunksize of 100\n",
      "\n",
      "\n",
      "Setting minimum age to 0 month(s)/year(s)\n",
      "Setting maximum age to 100 month(s)/year(s)\n",
      "Using age step of 1 month(s)/year(s)\n",
      "\n",
      "\n",
      "Using profiling mode: numCpGs\n",
      "---> Profiling top 8 age-related CpGs by absolute Spearman rank\n",
      "---------------------------------------------------------------------\n",
      "\n",
      "\n",
      "----------------------------------------------------------\n",
      "Starting parallel processing of all samples with 4 cores!\n",
      "\n"
     ]
    },
    {
     "data": {
      "application/vnd.jupyter.widget-view+json": {
       "model_id": "3b219b999b384326a5710ca32b8af00c",
       "version_major": 2,
       "version_minor": 0
      },
      "text/plain": [
       "bdAge progress :   0%|          | 0/46 [00:00<?, ? Age predictions/s]"
      ]
     },
     "metadata": {},
     "output_type": "display_data"
    },
    {
     "name": "stdout",
     "output_type": "stream",
     "text": [
      "\n",
      "\n",
      "\n",
      "Predictions stored in '/Users/lajoyce/Documents/genomics/epiage/BayesAge/data/split/predictions/tau_point_nine/'\n",
      "----------------------------------------------------------\n",
      "\n",
      "Time elapsed to generate bdAge results = 4.861 seconds\n",
      "\n",
      "BdAge run complete!\n",
      "Fold 1 Complete!\n",
      "bdAge algorithm starting!\n",
      "\n",
      "----------------------------------------\n",
      "Profiling epigenetic age in 'test_two' \n",
      "Loading processed CGmap methylation files from '/Users/lajoyce/Documents/genomics/epiage/BayesAge/data/samples_tsv/fold_two/'...\n",
      "Number of samples to analyze: 46\n",
      "\n",
      "bdAge parameters: \n",
      "---------------------------------------------------------\n",
      "Using reference training data: 2.csv\n",
      "Shape of reference matrix: 46,517 CpGs, 103 metric columns\n",
      "\n",
      "\n",
      "Using 4 cores with chunksize of 100\n",
      "\n",
      "\n",
      "Setting minimum age to 0 month(s)/year(s)\n",
      "Setting maximum age to 100 month(s)/year(s)\n",
      "Using age step of 1 month(s)/year(s)\n",
      "\n",
      "\n",
      "Using profiling mode: numCpGs\n",
      "---> Profiling top 8 age-related CpGs by absolute Spearman rank\n",
      "---------------------------------------------------------------------\n",
      "\n",
      "\n",
      "----------------------------------------------------------\n",
      "Starting parallel processing of all samples with 4 cores!\n",
      "\n"
     ]
    },
    {
     "data": {
      "application/vnd.jupyter.widget-view+json": {
       "model_id": "2559fee52c924796a67a2fb30a957b74",
       "version_major": 2,
       "version_minor": 0
      },
      "text/plain": [
       "bdAge progress :   0%|          | 0/46 [00:00<?, ? Age predictions/s]"
      ]
     },
     "metadata": {},
     "output_type": "display_data"
    },
    {
     "name": "stdout",
     "output_type": "stream",
     "text": [
      "\n",
      "\n",
      "\n",
      "Predictions stored in '/Users/lajoyce/Documents/genomics/epiage/BayesAge/data/split/predictions/tau_point_nine/'\n",
      "----------------------------------------------------------\n",
      "\n",
      "Time elapsed to generate bdAge results = 4.314 seconds\n",
      "\n",
      "BdAge run complete!\n",
      "Fold 2 Complete!\n",
      "bdAge algorithm starting!\n",
      "\n",
      "----------------------------------------\n",
      "Profiling epigenetic age in 'test_three' \n",
      "Loading processed CGmap methylation files from '/Users/lajoyce/Documents/genomics/epiage/BayesAge/data/samples_tsv/fold_three/'...\n",
      "Number of samples to analyze: 46\n",
      "\n",
      "bdAge parameters: \n",
      "---------------------------------------------------------\n",
      "Using reference training data: 3.csv\n",
      "Shape of reference matrix: 46,517 CpGs, 103 metric columns\n",
      "\n",
      "\n",
      "Using 4 cores with chunksize of 100\n",
      "\n",
      "\n",
      "Setting minimum age to 0 month(s)/year(s)\n",
      "Setting maximum age to 100 month(s)/year(s)\n",
      "Using age step of 1 month(s)/year(s)\n",
      "\n",
      "\n",
      "Using profiling mode: numCpGs\n",
      "---> Profiling top 8 age-related CpGs by absolute Spearman rank\n",
      "---------------------------------------------------------------------\n",
      "\n",
      "\n",
      "----------------------------------------------------------\n",
      "Starting parallel processing of all samples with 4 cores!\n",
      "\n"
     ]
    },
    {
     "data": {
      "application/vnd.jupyter.widget-view+json": {
       "model_id": "06de74c0b3d241248c614a12194e3590",
       "version_major": 2,
       "version_minor": 0
      },
      "text/plain": [
       "bdAge progress :   0%|          | 0/46 [00:00<?, ? Age predictions/s]"
      ]
     },
     "metadata": {},
     "output_type": "display_data"
    },
    {
     "name": "stdout",
     "output_type": "stream",
     "text": [
      "\n",
      "\n",
      "\n",
      "Predictions stored in '/Users/lajoyce/Documents/genomics/epiage/BayesAge/data/split/predictions/tau_point_nine/'\n",
      "----------------------------------------------------------\n",
      "\n",
      "Time elapsed to generate bdAge results = 4.296 seconds\n",
      "\n",
      "BdAge run complete!\n",
      "Fold 3 Complete!\n",
      "bdAge algorithm starting!\n",
      "\n",
      "----------------------------------------\n",
      "Profiling epigenetic age in 'test_four' \n",
      "Loading processed CGmap methylation files from '/Users/lajoyce/Documents/genomics/epiage/BayesAge/data/samples_tsv/fold_four/'...\n",
      "Number of samples to analyze: 46\n",
      "\n",
      "bdAge parameters: \n",
      "---------------------------------------------------------\n",
      "Using reference training data: 4.csv\n",
      "Shape of reference matrix: 46,517 CpGs, 103 metric columns\n",
      "\n",
      "\n",
      "Using 4 cores with chunksize of 100\n",
      "\n",
      "\n",
      "Setting minimum age to 0 month(s)/year(s)\n",
      "Setting maximum age to 100 month(s)/year(s)\n",
      "Using age step of 1 month(s)/year(s)\n",
      "\n",
      "\n",
      "Using profiling mode: numCpGs\n",
      "---> Profiling top 8 age-related CpGs by absolute Spearman rank\n",
      "---------------------------------------------------------------------\n",
      "\n",
      "\n",
      "----------------------------------------------------------\n",
      "Starting parallel processing of all samples with 4 cores!\n",
      "\n"
     ]
    },
    {
     "data": {
      "application/vnd.jupyter.widget-view+json": {
       "model_id": "e92b185f4238412ab1cfc1a384293a94",
       "version_major": 2,
       "version_minor": 0
      },
      "text/plain": [
       "bdAge progress :   0%|          | 0/46 [00:00<?, ? Age predictions/s]"
      ]
     },
     "metadata": {},
     "output_type": "display_data"
    },
    {
     "name": "stdout",
     "output_type": "stream",
     "text": [
      "\n",
      "\n",
      "\n",
      "Predictions stored in '/Users/lajoyce/Documents/genomics/epiage/BayesAge/data/split/predictions/tau_point_nine/'\n",
      "----------------------------------------------------------\n",
      "\n",
      "Time elapsed to generate bdAge results = 4.302 seconds\n",
      "\n",
      "BdAge run complete!\n",
      "Fold 4 Complete!\n",
      "bdAge algorithm starting!\n",
      "\n",
      "----------------------------------------\n",
      "Profiling epigenetic age in 'test_five' \n",
      "Loading processed CGmap methylation files from '/Users/lajoyce/Documents/genomics/epiage/BayesAge/data/samples_tsv/fold_five/'...\n",
      "Number of samples to analyze: 46\n",
      "\n",
      "bdAge parameters: \n",
      "---------------------------------------------------------\n",
      "Using reference training data: 5.csv\n",
      "Shape of reference matrix: 46,517 CpGs, 103 metric columns\n",
      "\n",
      "\n",
      "Using 4 cores with chunksize of 100\n",
      "\n",
      "\n",
      "Setting minimum age to 0 month(s)/year(s)\n",
      "Setting maximum age to 100 month(s)/year(s)\n",
      "Using age step of 1 month(s)/year(s)\n",
      "\n",
      "\n",
      "Using profiling mode: numCpGs\n",
      "---> Profiling top 8 age-related CpGs by absolute Spearman rank\n",
      "---------------------------------------------------------------------\n",
      "\n",
      "\n",
      "----------------------------------------------------------\n",
      "Starting parallel processing of all samples with 4 cores!\n",
      "\n"
     ]
    },
    {
     "data": {
      "application/vnd.jupyter.widget-view+json": {
       "model_id": "1b17037760aa43beb2bbb38c313b8a32",
       "version_major": 2,
       "version_minor": 0
      },
      "text/plain": [
       "bdAge progress :   0%|          | 0/46 [00:00<?, ? Age predictions/s]"
      ]
     },
     "metadata": {},
     "output_type": "display_data"
    },
    {
     "name": "stdout",
     "output_type": "stream",
     "text": [
      "\n",
      "\n",
      "\n",
      "Predictions stored in '/Users/lajoyce/Documents/genomics/epiage/BayesAge/data/split/predictions/tau_point_nine/'\n",
      "----------------------------------------------------------\n",
      "\n",
      "Time elapsed to generate bdAge results = 4.627 seconds\n",
      "\n",
      "BdAge run complete!\n",
      "Fold 5 Complete!\n",
      "bdAge algorithm starting!\n",
      "\n",
      "----------------------------------------\n",
      "Profiling epigenetic age in 'test_six' \n",
      "Loading processed CGmap methylation files from '/Users/lajoyce/Documents/genomics/epiage/BayesAge/data/samples_tsv/fold_six/'...\n",
      "Number of samples to analyze: 46\n",
      "\n",
      "bdAge parameters: \n",
      "---------------------------------------------------------\n",
      "Using reference training data: 6.csv\n",
      "Shape of reference matrix: 46,517 CpGs, 103 metric columns\n",
      "\n",
      "\n",
      "Using 4 cores with chunksize of 100\n",
      "\n",
      "\n",
      "Setting minimum age to 0 month(s)/year(s)\n",
      "Setting maximum age to 100 month(s)/year(s)\n",
      "Using age step of 1 month(s)/year(s)\n",
      "\n",
      "\n",
      "Using profiling mode: numCpGs\n",
      "---> Profiling top 8 age-related CpGs by absolute Spearman rank\n",
      "---------------------------------------------------------------------\n",
      "\n",
      "\n",
      "----------------------------------------------------------\n",
      "Starting parallel processing of all samples with 4 cores!\n",
      "\n"
     ]
    },
    {
     "data": {
      "application/vnd.jupyter.widget-view+json": {
       "model_id": "061efab654f34a1ea0f592196e403d44",
       "version_major": 2,
       "version_minor": 0
      },
      "text/plain": [
       "bdAge progress :   0%|          | 0/46 [00:00<?, ? Age predictions/s]"
      ]
     },
     "metadata": {},
     "output_type": "display_data"
    },
    {
     "name": "stdout",
     "output_type": "stream",
     "text": [
      "\n",
      "\n",
      "\n",
      "Predictions stored in '/Users/lajoyce/Documents/genomics/epiage/BayesAge/data/split/predictions/tau_point_nine/'\n",
      "----------------------------------------------------------\n",
      "\n",
      "Time elapsed to generate bdAge results = 4.458 seconds\n",
      "\n",
      "BdAge run complete!\n",
      "Fold 6 Complete!\n",
      "bdAge algorithm starting!\n",
      "\n",
      "----------------------------------------\n",
      "Profiling epigenetic age in 'test_seven' \n",
      "Loading processed CGmap methylation files from '/Users/lajoyce/Documents/genomics/epiage/BayesAge/data/samples_tsv/fold_seven/'...\n",
      "Number of samples to analyze: 46\n",
      "\n",
      "bdAge parameters: \n",
      "---------------------------------------------------------\n",
      "Using reference training data: 7.csv\n",
      "Shape of reference matrix: 46,517 CpGs, 103 metric columns\n",
      "\n",
      "\n",
      "Using 4 cores with chunksize of 100\n",
      "\n",
      "\n",
      "Setting minimum age to 0 month(s)/year(s)\n",
      "Setting maximum age to 100 month(s)/year(s)\n",
      "Using age step of 1 month(s)/year(s)\n",
      "\n",
      "\n",
      "Using profiling mode: numCpGs\n",
      "---> Profiling top 8 age-related CpGs by absolute Spearman rank\n",
      "---------------------------------------------------------------------\n",
      "\n",
      "\n",
      "----------------------------------------------------------\n",
      "Starting parallel processing of all samples with 4 cores!\n",
      "\n"
     ]
    },
    {
     "data": {
      "application/vnd.jupyter.widget-view+json": {
       "model_id": "770fea10d5b84f8ea49272dc6a2d0219",
       "version_major": 2,
       "version_minor": 0
      },
      "text/plain": [
       "bdAge progress :   0%|          | 0/46 [00:00<?, ? Age predictions/s]"
      ]
     },
     "metadata": {},
     "output_type": "display_data"
    },
    {
     "name": "stdout",
     "output_type": "stream",
     "text": [
      "\n",
      "\n",
      "\n",
      "Predictions stored in '/Users/lajoyce/Documents/genomics/epiage/BayesAge/data/split/predictions/tau_point_nine/'\n",
      "----------------------------------------------------------\n",
      "\n",
      "Time elapsed to generate bdAge results = 4.476 seconds\n",
      "\n",
      "BdAge run complete!\n",
      "Fold 7 Complete!\n",
      "bdAge algorithm starting!\n",
      "\n",
      "----------------------------------------\n",
      "Profiling epigenetic age in 'test_eight' \n",
      "Loading processed CGmap methylation files from '/Users/lajoyce/Documents/genomics/epiage/BayesAge/data/samples_tsv/fold_eight/'...\n",
      "Number of samples to analyze: 46\n",
      "\n",
      "bdAge parameters: \n",
      "---------------------------------------------------------\n",
      "Using reference training data: 8.csv\n",
      "Shape of reference matrix: 46,517 CpGs, 103 metric columns\n",
      "\n",
      "\n",
      "Using 4 cores with chunksize of 100\n",
      "\n",
      "\n",
      "Setting minimum age to 0 month(s)/year(s)\n",
      "Setting maximum age to 100 month(s)/year(s)\n",
      "Using age step of 1 month(s)/year(s)\n",
      "\n",
      "\n",
      "Using profiling mode: numCpGs\n",
      "---> Profiling top 8 age-related CpGs by absolute Spearman rank\n",
      "---------------------------------------------------------------------\n",
      "\n",
      "\n",
      "----------------------------------------------------------\n",
      "Starting parallel processing of all samples with 4 cores!\n",
      "\n"
     ]
    },
    {
     "data": {
      "application/vnd.jupyter.widget-view+json": {
       "model_id": "cebc23ec161846b7a1387926f749d599",
       "version_major": 2,
       "version_minor": 0
      },
      "text/plain": [
       "bdAge progress :   0%|          | 0/46 [00:00<?, ? Age predictions/s]"
      ]
     },
     "metadata": {},
     "output_type": "display_data"
    },
    {
     "name": "stdout",
     "output_type": "stream",
     "text": [
      "\n",
      "\n",
      "\n",
      "Predictions stored in '/Users/lajoyce/Documents/genomics/epiage/BayesAge/data/split/predictions/tau_point_nine/'\n",
      "----------------------------------------------------------\n",
      "\n",
      "Time elapsed to generate bdAge results = 4.428 seconds\n",
      "\n",
      "BdAge run complete!\n",
      "Fold 8 Complete!\n",
      "bdAge algorithm starting!\n",
      "\n",
      "----------------------------------------\n",
      "Profiling epigenetic age in 'test_nine' \n",
      "Loading processed CGmap methylation files from '/Users/lajoyce/Documents/genomics/epiage/BayesAge/data/samples_tsv/fold_nine/'...\n",
      "Number of samples to analyze: 45\n",
      "\n",
      "bdAge parameters: \n",
      "---------------------------------------------------------\n",
      "Using reference training data: 9.csv\n",
      "Shape of reference matrix: 46,517 CpGs, 103 metric columns\n",
      "\n",
      "\n",
      "Using 4 cores with chunksize of 100\n",
      "\n",
      "\n",
      "Setting minimum age to 0 month(s)/year(s)\n",
      "Setting maximum age to 100 month(s)/year(s)\n",
      "Using age step of 1 month(s)/year(s)\n",
      "\n",
      "\n",
      "Using profiling mode: numCpGs\n",
      "---> Profiling top 8 age-related CpGs by absolute Spearman rank\n",
      "---------------------------------------------------------------------\n",
      "\n",
      "\n",
      "----------------------------------------------------------\n",
      "Starting parallel processing of all samples with 4 cores!\n",
      "\n"
     ]
    },
    {
     "data": {
      "application/vnd.jupyter.widget-view+json": {
       "model_id": "a977cf182ac242c4bd9aeef6815b1e74",
       "version_major": 2,
       "version_minor": 0
      },
      "text/plain": [
       "bdAge progress :   0%|          | 0/45 [00:00<?, ? Age predictions/s]"
      ]
     },
     "metadata": {},
     "output_type": "display_data"
    },
    {
     "name": "stdout",
     "output_type": "stream",
     "text": [
      "\n",
      "\n",
      "\n",
      "Predictions stored in '/Users/lajoyce/Documents/genomics/epiage/BayesAge/data/split/predictions/tau_point_nine/'\n",
      "----------------------------------------------------------\n",
      "\n",
      "Time elapsed to generate bdAge results = 4.349 seconds\n",
      "\n",
      "BdAge run complete!\n",
      "Fold 9 Complete!\n",
      "bdAge algorithm starting!\n",
      "\n",
      "----------------------------------------\n",
      "Profiling epigenetic age in 'test_ten' \n",
      "Loading processed CGmap methylation files from '/Users/lajoyce/Documents/genomics/epiage/BayesAge/data/samples_tsv/fold_ten/'...\n",
      "Number of samples to analyze: 45\n",
      "\n",
      "bdAge parameters: \n",
      "---------------------------------------------------------\n",
      "Using reference training data: 10.csv\n",
      "Shape of reference matrix: 46,517 CpGs, 103 metric columns\n",
      "\n",
      "\n",
      "Using 4 cores with chunksize of 100\n",
      "\n",
      "\n",
      "Setting minimum age to 0 month(s)/year(s)\n",
      "Setting maximum age to 100 month(s)/year(s)\n",
      "Using age step of 1 month(s)/year(s)\n",
      "\n",
      "\n",
      "Using profiling mode: numCpGs\n",
      "---> Profiling top 8 age-related CpGs by absolute Spearman rank\n",
      "---------------------------------------------------------------------\n",
      "\n",
      "\n",
      "----------------------------------------------------------\n",
      "Starting parallel processing of all samples with 4 cores!\n",
      "\n"
     ]
    },
    {
     "data": {
      "application/vnd.jupyter.widget-view+json": {
       "model_id": "fb4bdea65e6b4528add51f7e072bf5be",
       "version_major": 2,
       "version_minor": 0
      },
      "text/plain": [
       "bdAge progress :   0%|          | 0/45 [00:00<?, ? Age predictions/s]"
      ]
     },
     "metadata": {},
     "output_type": "display_data"
    },
    {
     "name": "stdout",
     "output_type": "stream",
     "text": [
      "\n",
      "\n",
      "\n",
      "Predictions stored in '/Users/lajoyce/Documents/genomics/epiage/BayesAge/data/split/predictions/tau_point_nine/'\n",
      "----------------------------------------------------------\n",
      "\n",
      "Time elapsed to generate bdAge results = 4.409 seconds\n",
      "\n",
      "BdAge run complete!\n",
      "Fold 10 Complete!\n"
     ]
    }
   ],
   "source": [
    "bdAge(sample_dir_or_dict=\"/Users/lajoyce/Documents/genomics/epiage/BayesAge/data/samples_tsv/fold_one/\",\n",
    "        sample_set_name=\"test_one\",\n",
    "        reference_data=\"/Users/lajoyce/Documents/genomics/epiage/BayesAge/data/split/reference/tau_point_nine/1.csv\",\n",
    "        output_path=\"/Users/lajoyce/Documents/genomics/epiage/BayesAge/data/split/predictions/tau_point_nine/\",\n",
    "        selection_mode=\"numCpGs\",\n",
    "        CpG_parameter=8,\n",
    "        min_age=0,\n",
    "        max_age=100,\n",
    "        age_step=1,\n",
    "        n_cores = 4,\n",
    "        chunksize = 100)\n",
    "    \n",
    "print(\"Fold 1 Complete!\")  \n",
    "\n",
    "bdAge(sample_dir_or_dict=\"/Users/lajoyce/Documents/genomics/epiage/BayesAge/data/samples_tsv/fold_two/\",\n",
    "        sample_set_name=\"test_two\",\n",
    "        reference_data=\"/Users/lajoyce/Documents/genomics/epiage/BayesAge/data/split/reference/tau_point_nine/2.csv\",\n",
    "        output_path=\"/Users/lajoyce/Documents/genomics/epiage/BayesAge/data/split/predictions/tau_point_nine/\",\n",
    "        selection_mode=\"numCpGs\",\n",
    "        CpG_parameter=8,\n",
    "        min_age=0,\n",
    "        max_age=100,\n",
    "        age_step=1,\n",
    "        n_cores = 4,\n",
    "        chunksize = 100)\n",
    "\n",
    "print(\"Fold 2 Complete!\")  \n",
    "\n",
    "bdAge(sample_dir_or_dict=\"/Users/lajoyce/Documents/genomics/epiage/BayesAge/data/samples_tsv/fold_three/\",\n",
    "        sample_set_name=\"test_three\",\n",
    "        reference_data=\"/Users/lajoyce/Documents/genomics/epiage/BayesAge/data/split/reference/tau_point_nine/3.csv\",\n",
    "        output_path=\"/Users/lajoyce/Documents/genomics/epiage/BayesAge/data/split/predictions/tau_point_nine/\",\n",
    "        selection_mode=\"numCpGs\",\n",
    "        CpG_parameter=8,\n",
    "        min_age=0,\n",
    "        max_age=100,\n",
    "        age_step=1,\n",
    "        n_cores = 4,\n",
    "        chunksize = 100)\n",
    "\n",
    "print(\"Fold 3 Complete!\")  \n",
    " \n",
    "bdAge(sample_dir_or_dict=\"/Users/lajoyce/Documents/genomics/epiage/BayesAge/data/samples_tsv/fold_four/\",\n",
    "        sample_set_name=\"test_four\",\n",
    "        reference_data=\"/Users/lajoyce/Documents/genomics/epiage/BayesAge/data/split/reference/tau_point_nine/4.csv\",\n",
    "        output_path=\"/Users/lajoyce/Documents/genomics/epiage/BayesAge/data/split/predictions/tau_point_nine/\",\n",
    "        selection_mode=\"numCpGs\",\n",
    "        CpG_parameter=8,\n",
    "        min_age=0,\n",
    "        max_age=100,\n",
    "        age_step=1,\n",
    "        n_cores = 4,\n",
    "        chunksize = 100)\n",
    "\n",
    "print(\"Fold 4 Complete!\")  \n",
    "\n",
    "bdAge(sample_dir_or_dict=\"/Users/lajoyce/Documents/genomics/epiage/BayesAge/data/samples_tsv/fold_five/\",\n",
    "        sample_set_name=\"test_five\",\n",
    "        reference_data=\"/Users/lajoyce/Documents/genomics/epiage/BayesAge/data/split/reference/tau_point_nine/5.csv\",\n",
    "        output_path=\"/Users/lajoyce/Documents/genomics/epiage/BayesAge/data/split/predictions/tau_point_nine/\",\n",
    "        selection_mode=\"numCpGs\",\n",
    "        CpG_parameter=8,\n",
    "        min_age=0,\n",
    "        max_age=100,\n",
    "        age_step=1,\n",
    "        n_cores = 4,\n",
    "        chunksize = 100)\n",
    "\n",
    "print(\"Fold 5 Complete!\")  \n",
    "\n",
    "bdAge(sample_dir_or_dict=\"/Users/lajoyce/Documents/genomics/epiage/BayesAge/data/samples_tsv/fold_six/\",\n",
    "        sample_set_name=\"test_six\",\n",
    "        reference_data=\"/Users/lajoyce/Documents/genomics/epiage/BayesAge/data/split/reference/tau_point_nine/6.csv\",\n",
    "        output_path=\"/Users/lajoyce/Documents/genomics/epiage/BayesAge/data/split/predictions/tau_point_nine/\",\n",
    "        selection_mode=\"numCpGs\",\n",
    "        CpG_parameter=8,\n",
    "        min_age=0,\n",
    "        max_age=100,\n",
    "        age_step=1,\n",
    "        n_cores = 4,\n",
    "        chunksize = 100)\n",
    "\n",
    "print(\"Fold 6 Complete!\")  \n",
    "\n",
    "\n",
    "bdAge(sample_dir_or_dict=\"/Users/lajoyce/Documents/genomics/epiage/BayesAge/data/samples_tsv/fold_seven/\",\n",
    "        sample_set_name=f\"test_seven\",\n",
    "        reference_data=\"/Users/lajoyce/Documents/genomics/epiage/BayesAge/data/split/reference/tau_point_nine/7.csv\",\n",
    "        output_path=\"/Users/lajoyce/Documents/genomics/epiage/BayesAge/data/split/predictions/tau_point_nine/\",\n",
    "        selection_mode=\"numCpGs\",\n",
    "        CpG_parameter=8,\n",
    "        min_age=0,\n",
    "        max_age=100,\n",
    "        age_step=1,\n",
    "        n_cores = 4,\n",
    "        chunksize = 100)\n",
    "\n",
    "print(\"Fold 7 Complete!\")  \n",
    "\n",
    "\n",
    "bdAge(sample_dir_or_dict=\"/Users/lajoyce/Documents/genomics/epiage/BayesAge/data/samples_tsv/fold_eight/\",\n",
    "        sample_set_name=f\"test_eight\",\n",
    "        reference_data=\"/Users/lajoyce/Documents/genomics/epiage/BayesAge/data/split/reference/tau_point_nine/8.csv\",\n",
    "        output_path=\"/Users/lajoyce/Documents/genomics/epiage/BayesAge/data/split/predictions/tau_point_nine/\",\n",
    "        selection_mode=\"numCpGs\",\n",
    "        CpG_parameter=8,\n",
    "        min_age=0,\n",
    "        max_age=100,\n",
    "        age_step=1,\n",
    "        n_cores = 4,\n",
    "        chunksize = 100)\n",
    "\n",
    "print(\"Fold 8 Complete!\")  \n",
    "\n",
    "bdAge(sample_dir_or_dict=\"/Users/lajoyce/Documents/genomics/epiage/BayesAge/data/samples_tsv/fold_nine/\",\n",
    "        sample_set_name=\"test_nine\",\n",
    "        reference_data=\"/Users/lajoyce/Documents/genomics/epiage/BayesAge/data/split/reference/tau_point_nine/9.csv\",\n",
    "        output_path=\"/Users/lajoyce/Documents/genomics/epiage/BayesAge/data/split/predictions/tau_point_nine/\",\n",
    "        selection_mode=\"numCpGs\",\n",
    "        CpG_parameter=8,\n",
    "        min_age=0,\n",
    "        max_age=100,\n",
    "        age_step=1,\n",
    "        n_cores = 4,\n",
    "        chunksize = 100)\n",
    "\n",
    "print(\"Fold 9 Complete!\")  \n",
    "\n",
    "bdAge(sample_dir_or_dict=\"/Users/lajoyce/Documents/genomics/epiage/BayesAge/data/samples_tsv/fold_ten/\",\n",
    "        sample_set_name=\"test_ten\",\n",
    "        reference_data=\"/Users/lajoyce/Documents/genomics/epiage/BayesAge/data/split/reference/tau_point_nine/10.csv\",\n",
    "        output_path=\"/Users/lajoyce/Documents/genomics/epiage/BayesAge/data/split/predictions/tau_point_nine/\",\n",
    "        selection_mode=\"numCpGs\",\n",
    "        CpG_parameter=8,\n",
    "        min_age=0,\n",
    "        max_age=100,\n",
    "        age_step=1,\n",
    "        n_cores = 4,\n",
    "        chunksize = 100)\n",
    "    \n",
    "print(\"Fold 10 Complete!\")  "
   ]
  },
  {
   "cell_type": "markdown",
   "metadata": {},
   "source": [
    "### Tau = 1.0"
   ]
  },
  {
   "cell_type": "code",
   "execution_count": 16,
   "metadata": {},
   "outputs": [
    {
     "name": "stdout",
     "output_type": "stream",
     "text": [
      "bdAge algorithm starting!\n",
      "\n",
      "----------------------------------------\n",
      "Profiling epigenetic age in 'test_one' \n",
      "Loading processed CGmap methylation files from '/Users/lajoyce/Documents/genomics/epiage/BayesAge/data/samples_tsv/fold_one/'...\n",
      "Number of samples to analyze: 46\n",
      "\n",
      "bdAge parameters: \n",
      "---------------------------------------------------------\n",
      "Using reference training data: 1.csv\n",
      "Shape of reference matrix: 46,517 CpGs, 103 metric columns\n",
      "\n",
      "\n",
      "Using 4 cores with chunksize of 100\n",
      "\n",
      "\n",
      "Setting minimum age to 0 month(s)/year(s)\n",
      "Setting maximum age to 100 month(s)/year(s)\n",
      "Using age step of 1 month(s)/year(s)\n",
      "\n",
      "\n",
      "Using profiling mode: numCpGs\n",
      "---> Profiling top 8 age-related CpGs by absolute Spearman rank\n",
      "---------------------------------------------------------------------\n",
      "\n",
      "\n",
      "----------------------------------------------------------\n",
      "Starting parallel processing of all samples with 4 cores!\n",
      "\n"
     ]
    },
    {
     "data": {
      "application/vnd.jupyter.widget-view+json": {
       "model_id": "95f424609d6e42e482af758ae5b1a0f7",
       "version_major": 2,
       "version_minor": 0
      },
      "text/plain": [
       "bdAge progress :   0%|          | 0/46 [00:00<?, ? Age predictions/s]"
      ]
     },
     "metadata": {},
     "output_type": "display_data"
    },
    {
     "name": "stdout",
     "output_type": "stream",
     "text": [
      "\n",
      "\n",
      "\n",
      "Predictions stored in '/Users/lajoyce/Documents/genomics/epiage/BayesAge/data/split/predictions/tau_one/'\n",
      "----------------------------------------------------------\n",
      "\n",
      "Time elapsed to generate bdAge results = 4.992 seconds\n",
      "\n",
      "BdAge run complete!\n",
      "Fold 1 Complete!\n",
      "bdAge algorithm starting!\n",
      "\n",
      "----------------------------------------\n",
      "Profiling epigenetic age in 'test_two' \n",
      "Loading processed CGmap methylation files from '/Users/lajoyce/Documents/genomics/epiage/BayesAge/data/samples_tsv/fold_two/'...\n",
      "Number of samples to analyze: 46\n",
      "\n",
      "bdAge parameters: \n",
      "---------------------------------------------------------\n",
      "Using reference training data: 2.csv\n",
      "Shape of reference matrix: 46,517 CpGs, 103 metric columns\n",
      "\n",
      "\n",
      "Using 4 cores with chunksize of 100\n",
      "\n",
      "\n",
      "Setting minimum age to 0 month(s)/year(s)\n",
      "Setting maximum age to 100 month(s)/year(s)\n",
      "Using age step of 1 month(s)/year(s)\n",
      "\n",
      "\n",
      "Using profiling mode: numCpGs\n",
      "---> Profiling top 8 age-related CpGs by absolute Spearman rank\n",
      "---------------------------------------------------------------------\n",
      "\n",
      "\n",
      "----------------------------------------------------------\n",
      "Starting parallel processing of all samples with 4 cores!\n",
      "\n"
     ]
    },
    {
     "data": {
      "application/vnd.jupyter.widget-view+json": {
       "model_id": "193f99e3d2a240bcbde4a621a9204c21",
       "version_major": 2,
       "version_minor": 0
      },
      "text/plain": [
       "bdAge progress :   0%|          | 0/46 [00:00<?, ? Age predictions/s]"
      ]
     },
     "metadata": {},
     "output_type": "display_data"
    },
    {
     "name": "stdout",
     "output_type": "stream",
     "text": [
      "\n",
      "\n",
      "\n",
      "Predictions stored in '/Users/lajoyce/Documents/genomics/epiage/BayesAge/data/split/predictions/tau_one/'\n",
      "----------------------------------------------------------\n",
      "\n",
      "Time elapsed to generate bdAge results = 4.475 seconds\n",
      "\n",
      "BdAge run complete!\n",
      "Fold 2 Complete!\n",
      "bdAge algorithm starting!\n",
      "\n",
      "----------------------------------------\n",
      "Profiling epigenetic age in 'test_three' \n",
      "Loading processed CGmap methylation files from '/Users/lajoyce/Documents/genomics/epiage/BayesAge/data/samples_tsv/fold_three/'...\n",
      "Number of samples to analyze: 46\n",
      "\n",
      "bdAge parameters: \n",
      "---------------------------------------------------------\n",
      "Using reference training data: 3.csv\n",
      "Shape of reference matrix: 46,517 CpGs, 103 metric columns\n",
      "\n",
      "\n",
      "Using 4 cores with chunksize of 100\n",
      "\n",
      "\n",
      "Setting minimum age to 0 month(s)/year(s)\n",
      "Setting maximum age to 100 month(s)/year(s)\n",
      "Using age step of 1 month(s)/year(s)\n",
      "\n",
      "\n",
      "Using profiling mode: numCpGs\n",
      "---> Profiling top 8 age-related CpGs by absolute Spearman rank\n",
      "---------------------------------------------------------------------\n",
      "\n",
      "\n",
      "----------------------------------------------------------\n",
      "Starting parallel processing of all samples with 4 cores!\n",
      "\n"
     ]
    },
    {
     "data": {
      "application/vnd.jupyter.widget-view+json": {
       "model_id": "f42b65ca2dae45e594b340e10fa8b958",
       "version_major": 2,
       "version_minor": 0
      },
      "text/plain": [
       "bdAge progress :   0%|          | 0/46 [00:00<?, ? Age predictions/s]"
      ]
     },
     "metadata": {},
     "output_type": "display_data"
    },
    {
     "name": "stdout",
     "output_type": "stream",
     "text": [
      "\n",
      "\n",
      "\n",
      "Predictions stored in '/Users/lajoyce/Documents/genomics/epiage/BayesAge/data/split/predictions/tau_one/'\n",
      "----------------------------------------------------------\n",
      "\n",
      "Time elapsed to generate bdAge results = 4.294 seconds\n",
      "\n",
      "BdAge run complete!\n",
      "Fold 3 Complete!\n",
      "bdAge algorithm starting!\n",
      "\n",
      "----------------------------------------\n",
      "Profiling epigenetic age in 'test_four' \n",
      "Loading processed CGmap methylation files from '/Users/lajoyce/Documents/genomics/epiage/BayesAge/data/samples_tsv/fold_four/'...\n",
      "Number of samples to analyze: 46\n",
      "\n",
      "bdAge parameters: \n",
      "---------------------------------------------------------\n",
      "Using reference training data: 4.csv\n",
      "Shape of reference matrix: 46,517 CpGs, 103 metric columns\n",
      "\n",
      "\n",
      "Using 4 cores with chunksize of 100\n",
      "\n",
      "\n",
      "Setting minimum age to 0 month(s)/year(s)\n",
      "Setting maximum age to 100 month(s)/year(s)\n",
      "Using age step of 1 month(s)/year(s)\n",
      "\n",
      "\n",
      "Using profiling mode: numCpGs\n",
      "---> Profiling top 8 age-related CpGs by absolute Spearman rank\n",
      "---------------------------------------------------------------------\n",
      "\n",
      "\n",
      "----------------------------------------------------------\n",
      "Starting parallel processing of all samples with 4 cores!\n",
      "\n"
     ]
    },
    {
     "data": {
      "application/vnd.jupyter.widget-view+json": {
       "model_id": "cf470ce9e8bb4ef4ac060ed86492c69e",
       "version_major": 2,
       "version_minor": 0
      },
      "text/plain": [
       "bdAge progress :   0%|          | 0/46 [00:00<?, ? Age predictions/s]"
      ]
     },
     "metadata": {},
     "output_type": "display_data"
    },
    {
     "name": "stdout",
     "output_type": "stream",
     "text": [
      "\n",
      "\n",
      "\n",
      "Predictions stored in '/Users/lajoyce/Documents/genomics/epiage/BayesAge/data/split/predictions/tau_one/'\n",
      "----------------------------------------------------------\n",
      "\n",
      "Time elapsed to generate bdAge results = 4.387 seconds\n",
      "\n",
      "BdAge run complete!\n",
      "Fold 4 Complete!\n",
      "bdAge algorithm starting!\n",
      "\n",
      "----------------------------------------\n",
      "Profiling epigenetic age in 'test_five' \n",
      "Loading processed CGmap methylation files from '/Users/lajoyce/Documents/genomics/epiage/BayesAge/data/samples_tsv/fold_five/'...\n",
      "Number of samples to analyze: 46\n",
      "\n",
      "bdAge parameters: \n",
      "---------------------------------------------------------\n",
      "Using reference training data: 5.csv\n",
      "Shape of reference matrix: 46,517 CpGs, 103 metric columns\n",
      "\n",
      "\n",
      "Using 4 cores with chunksize of 100\n",
      "\n",
      "\n",
      "Setting minimum age to 0 month(s)/year(s)\n",
      "Setting maximum age to 100 month(s)/year(s)\n",
      "Using age step of 1 month(s)/year(s)\n",
      "\n",
      "\n",
      "Using profiling mode: numCpGs\n",
      "---> Profiling top 8 age-related CpGs by absolute Spearman rank\n",
      "---------------------------------------------------------------------\n",
      "\n",
      "\n",
      "----------------------------------------------------------\n",
      "Starting parallel processing of all samples with 4 cores!\n",
      "\n"
     ]
    },
    {
     "data": {
      "application/vnd.jupyter.widget-view+json": {
       "model_id": "504a6c16ffbd48fb8cb701d87b8f0e4c",
       "version_major": 2,
       "version_minor": 0
      },
      "text/plain": [
       "bdAge progress :   0%|          | 0/46 [00:00<?, ? Age predictions/s]"
      ]
     },
     "metadata": {},
     "output_type": "display_data"
    },
    {
     "name": "stdout",
     "output_type": "stream",
     "text": [
      "\n",
      "\n",
      "\n",
      "Predictions stored in '/Users/lajoyce/Documents/genomics/epiage/BayesAge/data/split/predictions/tau_one/'\n",
      "----------------------------------------------------------\n",
      "\n",
      "Time elapsed to generate bdAge results = 4.547 seconds\n",
      "\n",
      "BdAge run complete!\n",
      "Fold 5 Complete!\n",
      "bdAge algorithm starting!\n",
      "\n",
      "----------------------------------------\n",
      "Profiling epigenetic age in 'test_six' \n",
      "Loading processed CGmap methylation files from '/Users/lajoyce/Documents/genomics/epiage/BayesAge/data/samples_tsv/fold_six/'...\n",
      "Number of samples to analyze: 46\n",
      "\n",
      "bdAge parameters: \n",
      "---------------------------------------------------------\n",
      "Using reference training data: 6.csv\n",
      "Shape of reference matrix: 46,517 CpGs, 103 metric columns\n",
      "\n",
      "\n",
      "Using 4 cores with chunksize of 100\n",
      "\n",
      "\n",
      "Setting minimum age to 0 month(s)/year(s)\n",
      "Setting maximum age to 100 month(s)/year(s)\n",
      "Using age step of 1 month(s)/year(s)\n",
      "\n",
      "\n",
      "Using profiling mode: numCpGs\n",
      "---> Profiling top 8 age-related CpGs by absolute Spearman rank\n",
      "---------------------------------------------------------------------\n",
      "\n",
      "\n",
      "----------------------------------------------------------\n",
      "Starting parallel processing of all samples with 4 cores!\n",
      "\n"
     ]
    },
    {
     "data": {
      "application/vnd.jupyter.widget-view+json": {
       "model_id": "f7fe146176984e5ab08d25c8e7157a57",
       "version_major": 2,
       "version_minor": 0
      },
      "text/plain": [
       "bdAge progress :   0%|          | 0/46 [00:00<?, ? Age predictions/s]"
      ]
     },
     "metadata": {},
     "output_type": "display_data"
    },
    {
     "name": "stdout",
     "output_type": "stream",
     "text": [
      "\n",
      "\n",
      "\n",
      "Predictions stored in '/Users/lajoyce/Documents/genomics/epiage/BayesAge/data/split/predictions/tau_one/'\n",
      "----------------------------------------------------------\n",
      "\n",
      "Time elapsed to generate bdAge results = 4.413 seconds\n",
      "\n",
      "BdAge run complete!\n",
      "Fold 6 Complete!\n",
      "bdAge algorithm starting!\n",
      "\n",
      "----------------------------------------\n",
      "Profiling epigenetic age in 'test_seven' \n",
      "Loading processed CGmap methylation files from '/Users/lajoyce/Documents/genomics/epiage/BayesAge/data/samples_tsv/fold_seven/'...\n",
      "Number of samples to analyze: 46\n",
      "\n",
      "bdAge parameters: \n",
      "---------------------------------------------------------\n",
      "Using reference training data: 7.csv\n",
      "Shape of reference matrix: 46,517 CpGs, 103 metric columns\n",
      "\n",
      "\n",
      "Using 4 cores with chunksize of 100\n",
      "\n",
      "\n",
      "Setting minimum age to 0 month(s)/year(s)\n",
      "Setting maximum age to 100 month(s)/year(s)\n",
      "Using age step of 1 month(s)/year(s)\n",
      "\n",
      "\n",
      "Using profiling mode: numCpGs\n",
      "---> Profiling top 8 age-related CpGs by absolute Spearman rank\n",
      "---------------------------------------------------------------------\n",
      "\n",
      "\n",
      "----------------------------------------------------------\n",
      "Starting parallel processing of all samples with 4 cores!\n",
      "\n"
     ]
    },
    {
     "data": {
      "application/vnd.jupyter.widget-view+json": {
       "model_id": "1a4d68ac322545a6aa62771f65cb8348",
       "version_major": 2,
       "version_minor": 0
      },
      "text/plain": [
       "bdAge progress :   0%|          | 0/46 [00:00<?, ? Age predictions/s]"
      ]
     },
     "metadata": {},
     "output_type": "display_data"
    },
    {
     "name": "stdout",
     "output_type": "stream",
     "text": [
      "\n",
      "\n",
      "\n",
      "Predictions stored in '/Users/lajoyce/Documents/genomics/epiage/BayesAge/data/split/predictions/tau_one/'\n",
      "----------------------------------------------------------\n",
      "\n",
      "Time elapsed to generate bdAge results = 4.389 seconds\n",
      "\n",
      "BdAge run complete!\n",
      "Fold 7 Complete!\n",
      "bdAge algorithm starting!\n",
      "\n",
      "----------------------------------------\n",
      "Profiling epigenetic age in 'test_eight' \n",
      "Loading processed CGmap methylation files from '/Users/lajoyce/Documents/genomics/epiage/BayesAge/data/samples_tsv/fold_eight/'...\n",
      "Number of samples to analyze: 46\n",
      "\n",
      "bdAge parameters: \n",
      "---------------------------------------------------------\n",
      "Using reference training data: 8.csv\n",
      "Shape of reference matrix: 46,517 CpGs, 103 metric columns\n",
      "\n",
      "\n",
      "Using 4 cores with chunksize of 100\n",
      "\n",
      "\n",
      "Setting minimum age to 0 month(s)/year(s)\n",
      "Setting maximum age to 100 month(s)/year(s)\n",
      "Using age step of 1 month(s)/year(s)\n",
      "\n",
      "\n",
      "Using profiling mode: numCpGs\n",
      "---> Profiling top 8 age-related CpGs by absolute Spearman rank\n",
      "---------------------------------------------------------------------\n",
      "\n",
      "\n",
      "----------------------------------------------------------\n",
      "Starting parallel processing of all samples with 4 cores!\n",
      "\n"
     ]
    },
    {
     "data": {
      "application/vnd.jupyter.widget-view+json": {
       "model_id": "8dfc2ce57b564b00bff731cc03fa0867",
       "version_major": 2,
       "version_minor": 0
      },
      "text/plain": [
       "bdAge progress :   0%|          | 0/46 [00:00<?, ? Age predictions/s]"
      ]
     },
     "metadata": {},
     "output_type": "display_data"
    },
    {
     "name": "stdout",
     "output_type": "stream",
     "text": [
      "\n",
      "\n",
      "\n",
      "Predictions stored in '/Users/lajoyce/Documents/genomics/epiage/BayesAge/data/split/predictions/tau_one/'\n",
      "----------------------------------------------------------\n",
      "\n",
      "Time elapsed to generate bdAge results = 4.457 seconds\n",
      "\n",
      "BdAge run complete!\n",
      "Fold 8 Complete!\n",
      "bdAge algorithm starting!\n",
      "\n",
      "----------------------------------------\n",
      "Profiling epigenetic age in 'test_nine' \n",
      "Loading processed CGmap methylation files from '/Users/lajoyce/Documents/genomics/epiage/BayesAge/data/samples_tsv/fold_nine/'...\n",
      "Number of samples to analyze: 45\n",
      "\n",
      "bdAge parameters: \n",
      "---------------------------------------------------------\n",
      "Using reference training data: 9.csv\n",
      "Shape of reference matrix: 46,517 CpGs, 103 metric columns\n",
      "\n",
      "\n",
      "Using 4 cores with chunksize of 100\n",
      "\n",
      "\n",
      "Setting minimum age to 0 month(s)/year(s)\n",
      "Setting maximum age to 100 month(s)/year(s)\n",
      "Using age step of 1 month(s)/year(s)\n",
      "\n",
      "\n",
      "Using profiling mode: numCpGs\n",
      "---> Profiling top 8 age-related CpGs by absolute Spearman rank\n",
      "---------------------------------------------------------------------\n",
      "\n",
      "\n",
      "----------------------------------------------------------\n",
      "Starting parallel processing of all samples with 4 cores!\n",
      "\n"
     ]
    },
    {
     "data": {
      "application/vnd.jupyter.widget-view+json": {
       "model_id": "17c9b40e7e31489e9537dc04ad438845",
       "version_major": 2,
       "version_minor": 0
      },
      "text/plain": [
       "bdAge progress :   0%|          | 0/45 [00:00<?, ? Age predictions/s]"
      ]
     },
     "metadata": {},
     "output_type": "display_data"
    },
    {
     "name": "stdout",
     "output_type": "stream",
     "text": [
      "\n",
      "\n",
      "\n",
      "Predictions stored in '/Users/lajoyce/Documents/genomics/epiage/BayesAge/data/split/predictions/tau_one/'\n",
      "----------------------------------------------------------\n",
      "\n",
      "Time elapsed to generate bdAge results = 4.406 seconds\n",
      "\n",
      "BdAge run complete!\n",
      "Fold 9 Complete!\n",
      "bdAge algorithm starting!\n",
      "\n",
      "----------------------------------------\n",
      "Profiling epigenetic age in 'test_ten' \n",
      "Loading processed CGmap methylation files from '/Users/lajoyce/Documents/genomics/epiage/BayesAge/data/samples_tsv/fold_ten/'...\n",
      "Number of samples to analyze: 45\n",
      "\n",
      "bdAge parameters: \n",
      "---------------------------------------------------------\n",
      "Using reference training data: 10.csv\n",
      "Shape of reference matrix: 46,517 CpGs, 103 metric columns\n",
      "\n",
      "\n",
      "Using 4 cores with chunksize of 100\n",
      "\n",
      "\n",
      "Setting minimum age to 0 month(s)/year(s)\n",
      "Setting maximum age to 100 month(s)/year(s)\n",
      "Using age step of 1 month(s)/year(s)\n",
      "\n",
      "\n",
      "Using profiling mode: numCpGs\n",
      "---> Profiling top 8 age-related CpGs by absolute Spearman rank\n",
      "---------------------------------------------------------------------\n",
      "\n",
      "\n",
      "----------------------------------------------------------\n",
      "Starting parallel processing of all samples with 4 cores!\n",
      "\n"
     ]
    },
    {
     "data": {
      "application/vnd.jupyter.widget-view+json": {
       "model_id": "b35de65ac197411ea62a4df697d7b7fb",
       "version_major": 2,
       "version_minor": 0
      },
      "text/plain": [
       "bdAge progress :   0%|          | 0/45 [00:00<?, ? Age predictions/s]"
      ]
     },
     "metadata": {},
     "output_type": "display_data"
    },
    {
     "name": "stdout",
     "output_type": "stream",
     "text": [
      "\n",
      "\n",
      "\n",
      "Predictions stored in '/Users/lajoyce/Documents/genomics/epiage/BayesAge/data/split/predictions/tau_one/'\n",
      "----------------------------------------------------------\n",
      "\n",
      "Time elapsed to generate bdAge results = 4.252 seconds\n",
      "\n",
      "BdAge run complete!\n",
      "Fold 10 Complete!\n"
     ]
    }
   ],
   "source": [
    "bdAge(sample_dir_or_dict=\"/Users/lajoyce/Documents/genomics/epiage/BayesAge/data/samples_tsv/fold_one/\",\n",
    "        sample_set_name=f\"test_one\",\n",
    "        reference_data=\"/Users/lajoyce/Documents/genomics/epiage/BayesAge/data/split/reference/tau_one/1.csv\",\n",
    "        output_path=\"/Users/lajoyce/Documents/genomics/epiage/BayesAge/data/split/predictions/tau_one/\",\n",
    "        selection_mode=\"numCpGs\",\n",
    "        CpG_parameter=8,\n",
    "        min_age=0,\n",
    "        max_age=100,\n",
    "        age_step=1,\n",
    "        n_cores = 4,\n",
    "        chunksize = 100)\n",
    "    \n",
    "print(\"Fold 1 Complete!\")  \n",
    "\n",
    "bdAge(sample_dir_or_dict=\"/Users/lajoyce/Documents/genomics/epiage/BayesAge/data/samples_tsv/fold_two/\",\n",
    "        sample_set_name=\"test_two\",\n",
    "        reference_data=\"/Users/lajoyce/Documents/genomics/epiage/BayesAge/data/split/reference/tau_one/2.csv\",\n",
    "        output_path=\"/Users/lajoyce/Documents/genomics/epiage/BayesAge/data/split/predictions/tau_one/\",\n",
    "        selection_mode=\"numCpGs\",\n",
    "        CpG_parameter=8,\n",
    "        min_age=0,\n",
    "        max_age=100,\n",
    "        age_step=1,\n",
    "        n_cores = 4,\n",
    "        chunksize = 100)\n",
    "\n",
    "print(\"Fold 2 Complete!\")  \n",
    "\n",
    "bdAge(sample_dir_or_dict=\"/Users/lajoyce/Documents/genomics/epiage/BayesAge/data/samples_tsv/fold_three/\",\n",
    "        sample_set_name=\"test_three\",\n",
    "        reference_data=\"/Users/lajoyce/Documents/genomics/epiage/BayesAge/data/split/reference/tau_one/3.csv\",\n",
    "        output_path=\"/Users/lajoyce/Documents/genomics/epiage/BayesAge/data/split/predictions/tau_one/\",\n",
    "        selection_mode=\"numCpGs\",\n",
    "        CpG_parameter=8,\n",
    "        min_age=0,\n",
    "        max_age=100,\n",
    "        age_step=1,\n",
    "        n_cores = 4,\n",
    "        chunksize = 100)\n",
    "\n",
    "print(\"Fold 3 Complete!\")  \n",
    "\n",
    "bdAge(sample_dir_or_dict=\"/Users/lajoyce/Documents/genomics/epiage/BayesAge/data/samples_tsv/fold_four/\",\n",
    "        sample_set_name=\"test_four\",\n",
    "        reference_data=\"/Users/lajoyce/Documents/genomics/epiage/BayesAge/data/split/reference/tau_one/4.csv\",\n",
    "        output_path=\"/Users/lajoyce/Documents/genomics/epiage/BayesAge/data/split/predictions/tau_one/\",\n",
    "        selection_mode=\"numCpGs\",\n",
    "        CpG_parameter=8,\n",
    "        min_age=0,\n",
    "        max_age=100,\n",
    "        age_step=1,\n",
    "        n_cores = 4,\n",
    "        chunksize = 100)\n",
    "\n",
    "print(\"Fold 4 Complete!\")  \n",
    "\n",
    "bdAge(sample_dir_or_dict=\"/Users/lajoyce/Documents/genomics/epiage/BayesAge/data/samples_tsv/fold_five/\",\n",
    "        sample_set_name=\"test_five\",\n",
    "        reference_data=\"/Users/lajoyce/Documents/genomics/epiage/BayesAge/data/split/reference/tau_one/5.csv\",\n",
    "        output_path=\"/Users/lajoyce/Documents/genomics/epiage/BayesAge/data/split/predictions/tau_one/\",\n",
    "        selection_mode=\"numCpGs\",\n",
    "        CpG_parameter=8,\n",
    "        min_age=0,\n",
    "        max_age=100,\n",
    "        age_step=1,\n",
    "        n_cores = 4,\n",
    "        chunksize = 100)\n",
    "\n",
    "print(\"Fold 5 Complete!\")  \n",
    "\n",
    "bdAge(sample_dir_or_dict=\"/Users/lajoyce/Documents/genomics/epiage/BayesAge/data/samples_tsv/fold_six/\",\n",
    "        sample_set_name=f\"test_six\",\n",
    "        reference_data=\"/Users/lajoyce/Documents/genomics/epiage/BayesAge/data/split/reference/tau_one/6.csv\",\n",
    "        output_path=\"/Users/lajoyce/Documents/genomics/epiage/BayesAge/data/split/predictions/tau_one/\",\n",
    "        selection_mode=\"numCpGs\",\n",
    "        CpG_parameter=8,\n",
    "        min_age=0,\n",
    "        max_age=100,\n",
    "        age_step=1,\n",
    "        n_cores = 4,\n",
    "        chunksize = 100)\n",
    "\n",
    "print(\"Fold 6 Complete!\")  \n",
    "\n",
    "bdAge(sample_dir_or_dict=\"/Users/lajoyce/Documents/genomics/epiage/BayesAge/data/samples_tsv/fold_seven/\",\n",
    "        sample_set_name=f\"test_seven\",\n",
    "        reference_data=\"/Users/lajoyce/Documents/genomics/epiage/BayesAge/data/split/reference/tau_one/7.csv\",\n",
    "        output_path=\"/Users/lajoyce/Documents/genomics/epiage/BayesAge/data/split/predictions/tau_one/\",\n",
    "        selection_mode=\"numCpGs\",\n",
    "        CpG_parameter=8,\n",
    "        min_age=0,\n",
    "        max_age=100,\n",
    "        age_step=1,\n",
    "        n_cores = 4,\n",
    "        chunksize = 100)\n",
    "\n",
    "print(\"Fold 7 Complete!\")  \n",
    "\n",
    "bdAge(sample_dir_or_dict=\"/Users/lajoyce/Documents/genomics/epiage/BayesAge/data/samples_tsv/fold_eight/\",\n",
    "        sample_set_name=f\"test_eight\",\n",
    "        reference_data=\"/Users/lajoyce/Documents/genomics/epiage/BayesAge/data/split/reference/tau_one/8.csv\",\n",
    "        output_path=\"/Users/lajoyce/Documents/genomics/epiage/BayesAge/data/split/predictions/tau_one/\",\n",
    "        selection_mode=\"numCpGs\",\n",
    "        CpG_parameter=8,\n",
    "        min_age=0,\n",
    "        max_age=100,\n",
    "        age_step=1,\n",
    "        n_cores = 4,\n",
    "        chunksize = 100)\n",
    "\n",
    "print(\"Fold 8 Complete!\")  \n",
    "\n",
    "bdAge(sample_dir_or_dict=\"/Users/lajoyce/Documents/genomics/epiage/BayesAge/data/samples_tsv/fold_nine/\",\n",
    "        sample_set_name=\"test_nine\",\n",
    "        reference_data=\"/Users/lajoyce/Documents/genomics/epiage/BayesAge/data/split/reference/tau_one/9.csv\",\n",
    "        output_path=\"/Users/lajoyce/Documents/genomics/epiage/BayesAge/data/split/predictions/tau_one/\",\n",
    "        selection_mode=\"numCpGs\",\n",
    "        CpG_parameter=8,\n",
    "        min_age=0,\n",
    "        max_age=100,\n",
    "        age_step=1,\n",
    "        n_cores = 4,\n",
    "        chunksize = 100)\n",
    "\n",
    "print(\"Fold 9 Complete!\")  \n",
    "\n",
    "bdAge(sample_dir_or_dict=\"/Users/lajoyce/Documents/genomics/epiage/BayesAge/data/samples_tsv/fold_ten/\",\n",
    "        sample_set_name=\"test_ten\",\n",
    "        reference_data=\"/Users/lajoyce/Documents/genomics/epiage/BayesAge/data/split/reference/tau_one/10.csv\",\n",
    "        output_path=\"/Users/lajoyce/Documents/genomics/epiage/BayesAge/data/split/predictions/tau_one/\",\n",
    "        selection_mode=\"numCpGs\",\n",
    "        CpG_parameter=8,\n",
    "        min_age=0,\n",
    "        max_age=100,\n",
    "        age_step=1,\n",
    "        n_cores = 4,\n",
    "        chunksize = 100)\n",
    "    \n",
    "print(\"Fold 10 Complete!\")  "
   ]
  },
  {
   "cell_type": "markdown",
   "metadata": {},
   "source": [
    "## Multiple Tau Value Results Analysis"
   ]
  },
  {
   "cell_type": "markdown",
   "metadata": {},
   "source": [
    "### Tau = 0.1"
   ]
  },
  {
   "cell_type": "code",
   "execution_count": 17,
   "metadata": {},
   "outputs": [],
   "source": [
    "import os\n",
    "os.getcwd()\n",
    "import pandas as pd"
   ]
  },
  {
   "cell_type": "code",
   "execution_count": 18,
   "metadata": {},
   "outputs": [],
   "source": [
    "os.chdir(\"/Users/lajoyce/Documents/genomics/epiage/BayesAge/data/split/predictions/tau_point_one\")"
   ]
  },
  {
   "cell_type": "code",
   "execution_count": 19,
   "metadata": {},
   "outputs": [
    {
     "name": "stdout",
     "output_type": "stream",
     "text": [
      "10\n"
     ]
    }
   ],
   "source": [
    "ls = [f for f in os.listdir('.') if f.endswith('.tsv')] \n",
    "\n",
    "#print(ls)\n",
    "print(len(ls))"
   ]
  },
  {
   "cell_type": "code",
   "execution_count": 20,
   "metadata": {},
   "outputs": [],
   "source": [
    "datas = []\n",
    "\n",
    "for filename in ls:\n",
    "    dataframe = pd.read_csv(filename, index_col=None, header=0, sep='\\t')\n",
    "    datas.append(dataframe)\n",
    "\n",
    "frame = pd.concat(datas, axis=0, ignore_index=True)\n",
    "\n",
    "#print(frame)"
   ]
  },
  {
   "cell_type": "code",
   "execution_count": 21,
   "metadata": {},
   "outputs": [
    {
     "data": {
      "text/plain": [
       "(458, 13)"
      ]
     },
     "execution_count": 21,
     "metadata": {},
     "output_type": "execute_result"
    }
   ],
   "source": [
    "frame.shape"
   ]
  },
  {
   "cell_type": "code",
   "execution_count": 22,
   "metadata": {},
   "outputs": [
    {
     "data": {
      "text/plain": [
       "0"
      ]
     },
     "execution_count": 22,
     "metadata": {},
     "output_type": "execute_result"
    }
   ],
   "source": [
    "frame.isna().sum().sum()"
   ]
  },
  {
   "cell_type": "code",
   "execution_count": 23,
   "metadata": {},
   "outputs": [
    {
     "data": {
      "text/html": [
       "<div>\n",
       "<style scoped>\n",
       "    .dataframe tbody tr th:only-of-type {\n",
       "        vertical-align: middle;\n",
       "    }\n",
       "\n",
       "    .dataframe tbody tr th {\n",
       "        vertical-align: top;\n",
       "    }\n",
       "\n",
       "    .dataframe thead th {\n",
       "        text-align: right;\n",
       "    }\n",
       "</style>\n",
       "<table border=\"1\" class=\"dataframe\">\n",
       "  <thead>\n",
       "    <tr style=\"text-align: right;\">\n",
       "      <th></th>\n",
       "      <th>Sample</th>\n",
       "      <th>Predicted Age</th>\n",
       "      <th>Mean Meth Count</th>\n",
       "      <th>Mean Coverage</th>\n",
       "      <th>Sample Coverage</th>\n",
       "      <th>Intersections</th>\n",
       "      <th>Ages Tested</th>\n",
       "      <th>Age Likelihood</th>\n",
       "      <th>Selected CpGs</th>\n",
       "      <th>Number CpGs</th>\n",
       "      <th>Correlations</th>\n",
       "      <th>Methylation Count</th>\n",
       "      <th>Coverage Count</th>\n",
       "    </tr>\n",
       "  </thead>\n",
       "  <tbody>\n",
       "    <tr>\n",
       "      <th>453</th>\n",
       "      <td>Turk-12R</td>\n",
       "      <td>16.0</td>\n",
       "      <td>32.845110</td>\n",
       "      <td>138.806608</td>\n",
       "      <td>46517</td>\n",
       "      <td>46517</td>\n",
       "      <td>[0.0, 1.0, 2.0, 3.0, 4.0, 5.0, 6.0, 7.0, 8.0, ...</td>\n",
       "      <td>[-330.2957945949005, -263.3094812296299, -217....</td>\n",
       "      <td>['chr7_8442747', 'chr5_16179182', 'chr5_161791...</td>\n",
       "      <td>8</td>\n",
       "      <td>[0.7718110307234421, 0.7604329485691321, 0.745...</td>\n",
       "      <td>[42, 32, 22, 14, 17, 15, 26, 37]</td>\n",
       "      <td>[144, 107, 118, 149, 149, 104, 123, 144]</td>\n",
       "    </tr>\n",
       "    <tr>\n",
       "      <th>454</th>\n",
       "      <td>Turk-15R</td>\n",
       "      <td>86.0</td>\n",
       "      <td>53.798160</td>\n",
       "      <td>226.647699</td>\n",
       "      <td>46517</td>\n",
       "      <td>46517</td>\n",
       "      <td>[0.0, 1.0, 2.0, 3.0, 4.0, 5.0, 6.0, 7.0, 8.0, ...</td>\n",
       "      <td>[-2667.6290914400433, -2321.9585878047847, -20...</td>\n",
       "      <td>['chr7_8442747', 'chr5_16179182', 'chr5_161791...</td>\n",
       "      <td>8</td>\n",
       "      <td>[0.7718110307234421, 0.7604329485691321, 0.745...</td>\n",
       "      <td>[109, 139, 126, 101, 114, 98, 86, 140]</td>\n",
       "      <td>[182, 189, 191, 212, 210, 170, 185, 208]</td>\n",
       "    </tr>\n",
       "    <tr>\n",
       "      <th>455</th>\n",
       "      <td>Turk-21</td>\n",
       "      <td>56.0</td>\n",
       "      <td>44.225229</td>\n",
       "      <td>185.661672</td>\n",
       "      <td>46517</td>\n",
       "      <td>46517</td>\n",
       "      <td>[0.0, 1.0, 2.0, 3.0, 4.0, 5.0, 6.0, 7.0, 8.0, ...</td>\n",
       "      <td>[-890.9989576706946, -754.0143071143938, -658....</td>\n",
       "      <td>['chr7_8442747', 'chr5_16179182', 'chr5_161791...</td>\n",
       "      <td>8</td>\n",
       "      <td>[0.7718110307234421, 0.7604329485691321, 0.745...</td>\n",
       "      <td>[60, 67, 47, 40, 33, 26, 40, 66]</td>\n",
       "      <td>[123, 114, 117, 140, 141, 103, 115, 136]</td>\n",
       "    </tr>\n",
       "    <tr>\n",
       "      <th>456</th>\n",
       "      <td>Turk-C26</td>\n",
       "      <td>29.0</td>\n",
       "      <td>39.455898</td>\n",
       "      <td>166.758475</td>\n",
       "      <td>46517</td>\n",
       "      <td>46517</td>\n",
       "      <td>[0.0, 1.0, 2.0, 3.0, 4.0, 5.0, 6.0, 7.0, 8.0, ...</td>\n",
       "      <td>[-443.0424850858969, -356.35739205653203, -296...</td>\n",
       "      <td>['chr7_8442747', 'chr5_16179182', 'chr5_161791...</td>\n",
       "      <td>8</td>\n",
       "      <td>[0.7718110307234421, 0.7604329485691321, 0.745...</td>\n",
       "      <td>[38, 42, 28, 23, 22, 22, 32, 54]</td>\n",
       "      <td>[123, 124, 134, 179, 179, 117, 177, 180]</td>\n",
       "    </tr>\n",
       "    <tr>\n",
       "      <th>457</th>\n",
       "      <td>Turk-C33</td>\n",
       "      <td>42.0</td>\n",
       "      <td>55.931100</td>\n",
       "      <td>230.154610</td>\n",
       "      <td>46517</td>\n",
       "      <td>46517</td>\n",
       "      <td>[0.0, 1.0, 2.0, 3.0, 4.0, 5.0, 6.0, 7.0, 8.0, ...</td>\n",
       "      <td>[-1058.4092632872387, -880.4538773256528, -756...</td>\n",
       "      <td>['chr7_8442747', 'chr5_16179182', 'chr5_161791...</td>\n",
       "      <td>8</td>\n",
       "      <td>[0.7718110307234421, 0.7604329485691321, 0.745...</td>\n",
       "      <td>[74, 73, 68, 38, 41, 59, 49, 97]</td>\n",
       "      <td>[184, 155, 172, 236, 236, 142, 228, 235]</td>\n",
       "    </tr>\n",
       "  </tbody>\n",
       "</table>\n",
       "</div>"
      ],
      "text/plain": [
       "       Sample  Predicted Age  Mean Meth Count  Mean Coverage  Sample Coverage  \\\n",
       "453  Turk-12R           16.0        32.845110     138.806608            46517   \n",
       "454  Turk-15R           86.0        53.798160     226.647699            46517   \n",
       "455   Turk-21           56.0        44.225229     185.661672            46517   \n",
       "456  Turk-C26           29.0        39.455898     166.758475            46517   \n",
       "457  Turk-C33           42.0        55.931100     230.154610            46517   \n",
       "\n",
       "     Intersections                                        Ages Tested  \\\n",
       "453          46517  [0.0, 1.0, 2.0, 3.0, 4.0, 5.0, 6.0, 7.0, 8.0, ...   \n",
       "454          46517  [0.0, 1.0, 2.0, 3.0, 4.0, 5.0, 6.0, 7.0, 8.0, ...   \n",
       "455          46517  [0.0, 1.0, 2.0, 3.0, 4.0, 5.0, 6.0, 7.0, 8.0, ...   \n",
       "456          46517  [0.0, 1.0, 2.0, 3.0, 4.0, 5.0, 6.0, 7.0, 8.0, ...   \n",
       "457          46517  [0.0, 1.0, 2.0, 3.0, 4.0, 5.0, 6.0, 7.0, 8.0, ...   \n",
       "\n",
       "                                        Age Likelihood  \\\n",
       "453  [-330.2957945949005, -263.3094812296299, -217....   \n",
       "454  [-2667.6290914400433, -2321.9585878047847, -20...   \n",
       "455  [-890.9989576706946, -754.0143071143938, -658....   \n",
       "456  [-443.0424850858969, -356.35739205653203, -296...   \n",
       "457  [-1058.4092632872387, -880.4538773256528, -756...   \n",
       "\n",
       "                                         Selected CpGs  Number CpGs  \\\n",
       "453  ['chr7_8442747', 'chr5_16179182', 'chr5_161791...            8   \n",
       "454  ['chr7_8442747', 'chr5_16179182', 'chr5_161791...            8   \n",
       "455  ['chr7_8442747', 'chr5_16179182', 'chr5_161791...            8   \n",
       "456  ['chr7_8442747', 'chr5_16179182', 'chr5_161791...            8   \n",
       "457  ['chr7_8442747', 'chr5_16179182', 'chr5_161791...            8   \n",
       "\n",
       "                                          Correlations  \\\n",
       "453  [0.7718110307234421, 0.7604329485691321, 0.745...   \n",
       "454  [0.7718110307234421, 0.7604329485691321, 0.745...   \n",
       "455  [0.7718110307234421, 0.7604329485691321, 0.745...   \n",
       "456  [0.7718110307234421, 0.7604329485691321, 0.745...   \n",
       "457  [0.7718110307234421, 0.7604329485691321, 0.745...   \n",
       "\n",
       "                          Methylation Count  \\\n",
       "453        [42, 32, 22, 14, 17, 15, 26, 37]   \n",
       "454  [109, 139, 126, 101, 114, 98, 86, 140]   \n",
       "455        [60, 67, 47, 40, 33, 26, 40, 66]   \n",
       "456        [38, 42, 28, 23, 22, 22, 32, 54]   \n",
       "457        [74, 73, 68, 38, 41, 59, 49, 97]   \n",
       "\n",
       "                               Coverage Count  \n",
       "453  [144, 107, 118, 149, 149, 104, 123, 144]  \n",
       "454  [182, 189, 191, 212, 210, 170, 185, 208]  \n",
       "455  [123, 114, 117, 140, 141, 103, 115, 136]  \n",
       "456  [123, 124, 134, 179, 179, 117, 177, 180]  \n",
       "457  [184, 155, 172, 236, 236, 142, 228, 235]  "
      ]
     },
     "execution_count": 23,
     "metadata": {},
     "output_type": "execute_result"
    }
   ],
   "source": [
    "frame.tail(5)"
   ]
  },
  {
   "cell_type": "code",
   "execution_count": 24,
   "metadata": {},
   "outputs": [],
   "source": [
    "os.chdir(\"/Users/lajoyce/Documents/genomics/epiage/458_sample/\")"
   ]
  },
  {
   "cell_type": "code",
   "execution_count": 25,
   "metadata": {},
   "outputs": [
    {
     "data": {
      "text/plain": [
       "(458, 46519)"
      ]
     },
     "execution_count": 25,
     "metadata": {},
     "output_type": "execute_result"
    }
   ],
   "source": [
    "df = pd.read_csv(\"sample_458_age.csv\", sep = \"\\t\", low_memory=False)\n",
    "\n",
    "df.shape"
   ]
  },
  {
   "cell_type": "code",
   "execution_count": 29,
   "metadata": {},
   "outputs": [
    {
     "data": {
      "text/html": [
       "<div>\n",
       "<style scoped>\n",
       "    .dataframe tbody tr th:only-of-type {\n",
       "        vertical-align: middle;\n",
       "    }\n",
       "\n",
       "    .dataframe tbody tr th {\n",
       "        vertical-align: top;\n",
       "    }\n",
       "\n",
       "    .dataframe thead th {\n",
       "        text-align: right;\n",
       "    }\n",
       "</style>\n",
       "<table border=\"1\" class=\"dataframe\">\n",
       "  <thead>\n",
       "    <tr style=\"text-align: right;\">\n",
       "      <th></th>\n",
       "      <th>sampleID</th>\n",
       "      <th>chr1_100424052</th>\n",
       "      <th>chr1_100424116</th>\n",
       "      <th>chr1_100718749</th>\n",
       "      <th>chr1_100718777</th>\n",
       "      <th>chr1_100719693</th>\n",
       "      <th>chr1_100719742</th>\n",
       "      <th>chr1_100719744</th>\n",
       "      <th>chr1_100719756</th>\n",
       "      <th>chr1_100719847</th>\n",
       "      <th>...</th>\n",
       "      <th>chrX_70133602</th>\n",
       "      <th>chrX_70133614</th>\n",
       "      <th>chrX_72573198</th>\n",
       "      <th>chrX_72573200</th>\n",
       "      <th>chrX_72573216</th>\n",
       "      <th>chrX_91434796</th>\n",
       "      <th>chrX_91434801</th>\n",
       "      <th>chrX_91434803</th>\n",
       "      <th>chrX_91434826</th>\n",
       "      <th>Age</th>\n",
       "    </tr>\n",
       "  </thead>\n",
       "  <tbody>\n",
       "    <tr>\n",
       "      <th>0</th>\n",
       "      <td>P41019081704087</td>\n",
       "      <td>0.093842</td>\n",
       "      <td>0.026515</td>\n",
       "      <td>0.006906</td>\n",
       "      <td>0.174535</td>\n",
       "      <td>0.319149</td>\n",
       "      <td>0.697318</td>\n",
       "      <td>0.483591</td>\n",
       "      <td>0.336207</td>\n",
       "      <td>0.306792</td>\n",
       "      <td>...</td>\n",
       "      <td>0.003676</td>\n",
       "      <td>0.000000</td>\n",
       "      <td>0.002294</td>\n",
       "      <td>0.008830</td>\n",
       "      <td>0.001996</td>\n",
       "      <td>0.000000</td>\n",
       "      <td>0.018405</td>\n",
       "      <td>0.011905</td>\n",
       "      <td>0.045161</td>\n",
       "      <td>34.0</td>\n",
       "    </tr>\n",
       "    <tr>\n",
       "      <th>1</th>\n",
       "      <td>P41019081704090</td>\n",
       "      <td>0.010256</td>\n",
       "      <td>0.000000</td>\n",
       "      <td>0.000000</td>\n",
       "      <td>0.235808</td>\n",
       "      <td>0.460432</td>\n",
       "      <td>0.796334</td>\n",
       "      <td>0.675676</td>\n",
       "      <td>0.520737</td>\n",
       "      <td>0.512941</td>\n",
       "      <td>...</td>\n",
       "      <td>0.442708</td>\n",
       "      <td>0.423913</td>\n",
       "      <td>0.216117</td>\n",
       "      <td>0.282609</td>\n",
       "      <td>0.081356</td>\n",
       "      <td>0.189944</td>\n",
       "      <td>0.182796</td>\n",
       "      <td>0.126316</td>\n",
       "      <td>0.225806</td>\n",
       "      <td>46.0</td>\n",
       "    </tr>\n",
       "    <tr>\n",
       "      <th>2</th>\n",
       "      <td>P41019081704100</td>\n",
       "      <td>0.325843</td>\n",
       "      <td>0.010204</td>\n",
       "      <td>0.038961</td>\n",
       "      <td>0.226776</td>\n",
       "      <td>0.682594</td>\n",
       "      <td>0.790660</td>\n",
       "      <td>0.724473</td>\n",
       "      <td>0.550918</td>\n",
       "      <td>0.646091</td>\n",
       "      <td>...</td>\n",
       "      <td>0.423963</td>\n",
       "      <td>0.228856</td>\n",
       "      <td>0.211356</td>\n",
       "      <td>0.389571</td>\n",
       "      <td>0.167082</td>\n",
       "      <td>0.127072</td>\n",
       "      <td>0.237838</td>\n",
       "      <td>0.088083</td>\n",
       "      <td>0.148352</td>\n",
       "      <td>47.0</td>\n",
       "    </tr>\n",
       "  </tbody>\n",
       "</table>\n",
       "<p>3 rows × 46519 columns</p>\n",
       "</div>"
      ],
      "text/plain": [
       "          sampleID  chr1_100424052  chr1_100424116  chr1_100718749  \\\n",
       "0  P41019081704087        0.093842        0.026515        0.006906   \n",
       "1  P41019081704090        0.010256        0.000000        0.000000   \n",
       "2  P41019081704100        0.325843        0.010204        0.038961   \n",
       "\n",
       "   chr1_100718777  chr1_100719693  chr1_100719742  chr1_100719744  \\\n",
       "0        0.174535        0.319149        0.697318        0.483591   \n",
       "1        0.235808        0.460432        0.796334        0.675676   \n",
       "2        0.226776        0.682594        0.790660        0.724473   \n",
       "\n",
       "   chr1_100719756  chr1_100719847  ...  chrX_70133602  chrX_70133614  \\\n",
       "0        0.336207        0.306792  ...       0.003676       0.000000   \n",
       "1        0.520737        0.512941  ...       0.442708       0.423913   \n",
       "2        0.550918        0.646091  ...       0.423963       0.228856   \n",
       "\n",
       "   chrX_72573198  chrX_72573200  chrX_72573216  chrX_91434796  chrX_91434801  \\\n",
       "0       0.002294       0.008830       0.001996       0.000000       0.018405   \n",
       "1       0.216117       0.282609       0.081356       0.189944       0.182796   \n",
       "2       0.211356       0.389571       0.167082       0.127072       0.237838   \n",
       "\n",
       "   chrX_91434803  chrX_91434826   Age  \n",
       "0       0.011905       0.045161  34.0  \n",
       "1       0.126316       0.225806  46.0  \n",
       "2       0.088083       0.148352  47.0  \n",
       "\n",
       "[3 rows x 46519 columns]"
      ]
     },
     "execution_count": 29,
     "metadata": {},
     "output_type": "execute_result"
    }
   ],
   "source": [
    "df.head(3)"
   ]
  },
  {
   "cell_type": "code",
   "execution_count": 26,
   "metadata": {},
   "outputs": [
    {
     "name": "stdout",
     "output_type": "stream",
     "text": [
      "458\n"
     ]
    }
   ],
   "source": [
    "map_dict = dict(zip(df[\"sampleID\"], df[\"Age\"]))\n",
    "\n",
    "print(len(map_dict))"
   ]
  },
  {
   "cell_type": "code",
   "execution_count": 27,
   "metadata": {},
   "outputs": [],
   "source": [
    "dataframe = frame.loc[:, [\"Sample\", \"Predicted Age\"]]"
   ]
  },
  {
   "cell_type": "code",
   "execution_count": 28,
   "metadata": {},
   "outputs": [
    {
     "data": {
      "text/html": [
       "<div>\n",
       "<style scoped>\n",
       "    .dataframe tbody tr th:only-of-type {\n",
       "        vertical-align: middle;\n",
       "    }\n",
       "\n",
       "    .dataframe tbody tr th {\n",
       "        vertical-align: top;\n",
       "    }\n",
       "\n",
       "    .dataframe thead th {\n",
       "        text-align: right;\n",
       "    }\n",
       "</style>\n",
       "<table border=\"1\" class=\"dataframe\">\n",
       "  <thead>\n",
       "    <tr style=\"text-align: right;\">\n",
       "      <th></th>\n",
       "      <th>Sample</th>\n",
       "      <th>Predicted Age</th>\n",
       "    </tr>\n",
       "  </thead>\n",
       "  <tbody>\n",
       "    <tr>\n",
       "      <th>0</th>\n",
       "      <td>140279</td>\n",
       "      <td>65.0</td>\n",
       "    </tr>\n",
       "    <tr>\n",
       "      <th>1</th>\n",
       "      <td>140333</td>\n",
       "      <td>64.0</td>\n",
       "    </tr>\n",
       "    <tr>\n",
       "      <th>2</th>\n",
       "      <td>140375</td>\n",
       "      <td>31.0</td>\n",
       "    </tr>\n",
       "  </tbody>\n",
       "</table>\n",
       "</div>"
      ],
      "text/plain": [
       "   Sample  Predicted Age\n",
       "0  140279           65.0\n",
       "1  140333           64.0\n",
       "2  140375           31.0"
      ]
     },
     "execution_count": 28,
     "metadata": {},
     "output_type": "execute_result"
    }
   ],
   "source": [
    "dataframe.head(3)"
   ]
  },
  {
   "cell_type": "code",
   "execution_count": 31,
   "metadata": {},
   "outputs": [],
   "source": [
    "dataframe = dataframe.rename(columns = {\"Sample\": \"sampleID\"})"
   ]
  },
  {
   "cell_type": "code",
   "execution_count": 32,
   "metadata": {},
   "outputs": [],
   "source": [
    "dataframe[\"realage\"] = dataframe[\"sampleID\"].map(map_dict)"
   ]
  },
  {
   "cell_type": "code",
   "execution_count": 38,
   "metadata": {},
   "outputs": [
    {
     "data": {
      "text/plain": [
       "0"
      ]
     },
     "execution_count": 38,
     "metadata": {},
     "output_type": "execute_result"
    }
   ],
   "source": [
    "dataframe.isna().sum().sum()"
   ]
  },
  {
   "cell_type": "code",
   "execution_count": 35,
   "metadata": {},
   "outputs": [
    {
     "data": {
      "text/html": [
       "<div>\n",
       "<style scoped>\n",
       "    .dataframe tbody tr th:only-of-type {\n",
       "        vertical-align: middle;\n",
       "    }\n",
       "\n",
       "    .dataframe tbody tr th {\n",
       "        vertical-align: top;\n",
       "    }\n",
       "\n",
       "    .dataframe thead th {\n",
       "        text-align: right;\n",
       "    }\n",
       "</style>\n",
       "<table border=\"1\" class=\"dataframe\">\n",
       "  <thead>\n",
       "    <tr style=\"text-align: right;\">\n",
       "      <th></th>\n",
       "      <th>sampleID</th>\n",
       "      <th>Predicted Age</th>\n",
       "      <th>realage</th>\n",
       "    </tr>\n",
       "  </thead>\n",
       "  <tbody>\n",
       "    <tr>\n",
       "      <th>453</th>\n",
       "      <td>Turk-12R</td>\n",
       "      <td>16.0</td>\n",
       "      <td>19.0</td>\n",
       "    </tr>\n",
       "    <tr>\n",
       "      <th>454</th>\n",
       "      <td>Turk-15R</td>\n",
       "      <td>86.0</td>\n",
       "      <td>83.0</td>\n",
       "    </tr>\n",
       "    <tr>\n",
       "      <th>455</th>\n",
       "      <td>Turk-21</td>\n",
       "      <td>56.0</td>\n",
       "      <td>60.0</td>\n",
       "    </tr>\n",
       "    <tr>\n",
       "      <th>456</th>\n",
       "      <td>Turk-C26</td>\n",
       "      <td>29.0</td>\n",
       "      <td>23.0</td>\n",
       "    </tr>\n",
       "    <tr>\n",
       "      <th>457</th>\n",
       "      <td>Turk-C33</td>\n",
       "      <td>42.0</td>\n",
       "      <td>40.0</td>\n",
       "    </tr>\n",
       "  </tbody>\n",
       "</table>\n",
       "</div>"
      ],
      "text/plain": [
       "     sampleID  Predicted Age  realage\n",
       "453  Turk-12R           16.0     19.0\n",
       "454  Turk-15R           86.0     83.0\n",
       "455   Turk-21           56.0     60.0\n",
       "456  Turk-C26           29.0     23.0\n",
       "457  Turk-C33           42.0     40.0"
      ]
     },
     "execution_count": 35,
     "metadata": {},
     "output_type": "execute_result"
    }
   ],
   "source": [
    "dataframe.tail(5)"
   ]
  },
  {
   "cell_type": "code",
   "execution_count": 36,
   "metadata": {},
   "outputs": [],
   "source": [
    "data = dataframe[dataframe.isna().any(axis=1)]"
   ]
  },
  {
   "cell_type": "code",
   "execution_count": 37,
   "metadata": {},
   "outputs": [],
   "source": [
    "data[\"sampleID\"] = data[\"sampleID\"].astype(object).astype(int)"
   ]
  },
  {
   "cell_type": "markdown",
   "metadata": {},
   "source": [
    "### Plot Using Matplotlib"
   ]
  },
  {
   "cell_type": "code",
   "execution_count": 39,
   "metadata": {},
   "outputs": [],
   "source": [
    "#Plot using matplotlib\n",
    "\n",
    "import matplotlib.pyplot as plt\n",
    "\n",
    "import numpy as np\n",
    "\n",
    "import statsmodels.api as sm\n",
    "\n",
    "import seaborn as sns"
   ]
  },
  {
   "cell_type": "code",
   "execution_count": 40,
   "metadata": {},
   "outputs": [
    {
     "name": "stdout",
     "output_type": "stream",
     "text": [
      "const      1.780863\n",
      "realage    0.966982\n",
      "dtype: float64\n",
      "                            OLS Regression Results                            \n",
      "==============================================================================\n",
      "Dep. Variable:          Predicted Age   R-squared:                       0.787\n",
      "Model:                            OLS   Adj. R-squared:                  0.786\n",
      "Method:                 Least Squares   F-statistic:                     1681.\n",
      "Date:                Fri, 22 Dec 2023   Prob (F-statistic):          4.65e-155\n",
      "Time:                        13:28:09   Log-Likelihood:                -1648.8\n",
      "No. Observations:                 458   AIC:                             3302.\n",
      "Df Residuals:                     456   BIC:                             3310.\n",
      "Df Model:                           1                                         \n",
      "Covariance Type:            nonrobust                                         \n",
      "==============================================================================\n",
      "                 coef    std err          t      P>|t|      [0.025      0.975]\n",
      "------------------------------------------------------------------------------\n",
      "const          1.7809      1.353      1.316      0.189      -0.879       4.440\n",
      "realage        0.9670      0.024     41.001      0.000       0.921       1.013\n",
      "==============================================================================\n",
      "Omnibus:                        2.251   Durbin-Watson:                   1.803\n",
      "Prob(Omnibus):                  0.324   Jarque-Bera (JB):                2.033\n",
      "Skew:                           0.121   Prob(JB):                        0.362\n",
      "Kurtosis:                       3.220   Cond. No.                         187.\n",
      "==============================================================================\n",
      "\n",
      "Notes:\n",
      "[1] Standard Errors assume that the covariance matrix of the errors is correctly specified.\n"
     ]
    }
   ],
   "source": [
    "x = dataframe[\"realage\"]\n",
    "\n",
    "y = dataframe[\"Predicted Age\"]\n",
    "\n",
    "model = sm.OLS(y, sm.add_constant(x))\n",
    "\n",
    "results = model.fit()\n",
    "\n",
    "print(results.params)\n",
    "print(results.summary())"
   ]
  },
  {
   "cell_type": "code",
   "execution_count": 41,
   "metadata": {},
   "outputs": [],
   "source": [
    "delta_age = y - x"
   ]
  },
  {
   "cell_type": "code",
   "execution_count": 42,
   "metadata": {},
   "outputs": [],
   "source": [
    "import statsmodels.api as sm\n",
    "lowess = sm.nonparametric.lowess"
   ]
  },
  {
   "cell_type": "code",
   "execution_count": null,
   "metadata": {},
   "outputs": [],
   "source": [
    "lowess_fit = lowess(delta_age, x, frac = 0.9)"
   ]
  },
  {
   "cell_type": "code",
   "execution_count": 43,
   "metadata": {},
   "outputs": [
    {
     "name": "stdout",
     "output_type": "stream",
     "text": [
      "Mean absolute error: 6.864497816593885\n"
     ]
    }
   ],
   "source": [
    "actual = dataframe['realage'].tolist()\n",
    "predicted = dataframe['Predicted Age'].tolist()\n",
    "\n",
    "#print(actual, predicted)\n",
    "\n",
    "n = 458\n",
    "sum = 0\n",
    "\n",
    "for i in range(n):\n",
    "    sum += abs(actual[i] - predicted[i])\n",
    "\n",
    "error = sum/n\n",
    "\n",
    "#display\n",
    "\n",
    "print(\"Mean absolute error: \" + str(error))"
   ]
  },
  {
   "cell_type": "markdown",
   "metadata": {},
   "source": [
    "### Tau = 0.3"
   ]
  },
  {
   "cell_type": "code",
   "execution_count": 44,
   "metadata": {},
   "outputs": [],
   "source": [
    "import os\n",
    "os.getcwd()\n",
    "import pandas as pd"
   ]
  },
  {
   "cell_type": "code",
   "execution_count": 45,
   "metadata": {},
   "outputs": [],
   "source": [
    "os.chdir(\"/Users/lajoyce/Documents/genomics/epiage/BayesAge/data/split/predictions/tau_point_three\")"
   ]
  },
  {
   "cell_type": "code",
   "execution_count": 46,
   "metadata": {},
   "outputs": [
    {
     "name": "stdout",
     "output_type": "stream",
     "text": [
      "10\n"
     ]
    }
   ],
   "source": [
    "ls = [f for f in os.listdir('.') if f.endswith('.tsv')] \n",
    "\n",
    "#print(ls)\n",
    "print(len(ls))"
   ]
  },
  {
   "cell_type": "code",
   "execution_count": 47,
   "metadata": {},
   "outputs": [],
   "source": [
    "datas = []\n",
    "\n",
    "for filename in ls:\n",
    "    dataframe = pd.read_csv(filename, index_col=None, header=0, sep='\\t')\n",
    "    datas.append(dataframe)\n",
    "\n",
    "frame = pd.concat(datas, axis=0, ignore_index=True)\n",
    "\n",
    "#print(frame)"
   ]
  },
  {
   "cell_type": "code",
   "execution_count": 48,
   "metadata": {},
   "outputs": [
    {
     "data": {
      "text/plain": [
       "0"
      ]
     },
     "execution_count": 48,
     "metadata": {},
     "output_type": "execute_result"
    }
   ],
   "source": [
    "frame.isna().sum().sum()"
   ]
  },
  {
   "cell_type": "code",
   "execution_count": 49,
   "metadata": {},
   "outputs": [],
   "source": [
    "os.chdir(\"/Users/lajoyce/Documents/genomics/epiage/458_sample/\")"
   ]
  },
  {
   "cell_type": "code",
   "execution_count": 50,
   "metadata": {},
   "outputs": [
    {
     "data": {
      "text/plain": [
       "(458, 46519)"
      ]
     },
     "execution_count": 50,
     "metadata": {},
     "output_type": "execute_result"
    }
   ],
   "source": [
    "df = pd.read_csv(\"sample_458_age.csv\", sep = \"\\t\", low_memory=False)\n",
    "\n",
    "df.shape"
   ]
  },
  {
   "cell_type": "code",
   "execution_count": 51,
   "metadata": {},
   "outputs": [
    {
     "data": {
      "text/html": [
       "<div>\n",
       "<style scoped>\n",
       "    .dataframe tbody tr th:only-of-type {\n",
       "        vertical-align: middle;\n",
       "    }\n",
       "\n",
       "    .dataframe tbody tr th {\n",
       "        vertical-align: top;\n",
       "    }\n",
       "\n",
       "    .dataframe thead th {\n",
       "        text-align: right;\n",
       "    }\n",
       "</style>\n",
       "<table border=\"1\" class=\"dataframe\">\n",
       "  <thead>\n",
       "    <tr style=\"text-align: right;\">\n",
       "      <th></th>\n",
       "      <th>sampleID</th>\n",
       "      <th>chr1_100424052</th>\n",
       "      <th>chr1_100424116</th>\n",
       "      <th>chr1_100718749</th>\n",
       "      <th>chr1_100718777</th>\n",
       "      <th>chr1_100719693</th>\n",
       "      <th>chr1_100719742</th>\n",
       "      <th>chr1_100719744</th>\n",
       "      <th>chr1_100719756</th>\n",
       "      <th>chr1_100719847</th>\n",
       "      <th>...</th>\n",
       "      <th>chrX_70133602</th>\n",
       "      <th>chrX_70133614</th>\n",
       "      <th>chrX_72573198</th>\n",
       "      <th>chrX_72573200</th>\n",
       "      <th>chrX_72573216</th>\n",
       "      <th>chrX_91434796</th>\n",
       "      <th>chrX_91434801</th>\n",
       "      <th>chrX_91434803</th>\n",
       "      <th>chrX_91434826</th>\n",
       "      <th>Age</th>\n",
       "    </tr>\n",
       "  </thead>\n",
       "  <tbody>\n",
       "    <tr>\n",
       "      <th>0</th>\n",
       "      <td>P41019081704087</td>\n",
       "      <td>0.093842</td>\n",
       "      <td>0.026515</td>\n",
       "      <td>0.006906</td>\n",
       "      <td>0.174535</td>\n",
       "      <td>0.319149</td>\n",
       "      <td>0.697318</td>\n",
       "      <td>0.483591</td>\n",
       "      <td>0.336207</td>\n",
       "      <td>0.306792</td>\n",
       "      <td>...</td>\n",
       "      <td>0.003676</td>\n",
       "      <td>0.000000</td>\n",
       "      <td>0.002294</td>\n",
       "      <td>0.008830</td>\n",
       "      <td>0.001996</td>\n",
       "      <td>0.000000</td>\n",
       "      <td>0.018405</td>\n",
       "      <td>0.011905</td>\n",
       "      <td>0.045161</td>\n",
       "      <td>34.0</td>\n",
       "    </tr>\n",
       "    <tr>\n",
       "      <th>1</th>\n",
       "      <td>P41019081704090</td>\n",
       "      <td>0.010256</td>\n",
       "      <td>0.000000</td>\n",
       "      <td>0.000000</td>\n",
       "      <td>0.235808</td>\n",
       "      <td>0.460432</td>\n",
       "      <td>0.796334</td>\n",
       "      <td>0.675676</td>\n",
       "      <td>0.520737</td>\n",
       "      <td>0.512941</td>\n",
       "      <td>...</td>\n",
       "      <td>0.442708</td>\n",
       "      <td>0.423913</td>\n",
       "      <td>0.216117</td>\n",
       "      <td>0.282609</td>\n",
       "      <td>0.081356</td>\n",
       "      <td>0.189944</td>\n",
       "      <td>0.182796</td>\n",
       "      <td>0.126316</td>\n",
       "      <td>0.225806</td>\n",
       "      <td>46.0</td>\n",
       "    </tr>\n",
       "    <tr>\n",
       "      <th>2</th>\n",
       "      <td>P41019081704100</td>\n",
       "      <td>0.325843</td>\n",
       "      <td>0.010204</td>\n",
       "      <td>0.038961</td>\n",
       "      <td>0.226776</td>\n",
       "      <td>0.682594</td>\n",
       "      <td>0.790660</td>\n",
       "      <td>0.724473</td>\n",
       "      <td>0.550918</td>\n",
       "      <td>0.646091</td>\n",
       "      <td>...</td>\n",
       "      <td>0.423963</td>\n",
       "      <td>0.228856</td>\n",
       "      <td>0.211356</td>\n",
       "      <td>0.389571</td>\n",
       "      <td>0.167082</td>\n",
       "      <td>0.127072</td>\n",
       "      <td>0.237838</td>\n",
       "      <td>0.088083</td>\n",
       "      <td>0.148352</td>\n",
       "      <td>47.0</td>\n",
       "    </tr>\n",
       "  </tbody>\n",
       "</table>\n",
       "<p>3 rows × 46519 columns</p>\n",
       "</div>"
      ],
      "text/plain": [
       "          sampleID  chr1_100424052  chr1_100424116  chr1_100718749  \\\n",
       "0  P41019081704087        0.093842        0.026515        0.006906   \n",
       "1  P41019081704090        0.010256        0.000000        0.000000   \n",
       "2  P41019081704100        0.325843        0.010204        0.038961   \n",
       "\n",
       "   chr1_100718777  chr1_100719693  chr1_100719742  chr1_100719744  \\\n",
       "0        0.174535        0.319149        0.697318        0.483591   \n",
       "1        0.235808        0.460432        0.796334        0.675676   \n",
       "2        0.226776        0.682594        0.790660        0.724473   \n",
       "\n",
       "   chr1_100719756  chr1_100719847  ...  chrX_70133602  chrX_70133614  \\\n",
       "0        0.336207        0.306792  ...       0.003676       0.000000   \n",
       "1        0.520737        0.512941  ...       0.442708       0.423913   \n",
       "2        0.550918        0.646091  ...       0.423963       0.228856   \n",
       "\n",
       "   chrX_72573198  chrX_72573200  chrX_72573216  chrX_91434796  chrX_91434801  \\\n",
       "0       0.002294       0.008830       0.001996       0.000000       0.018405   \n",
       "1       0.216117       0.282609       0.081356       0.189944       0.182796   \n",
       "2       0.211356       0.389571       0.167082       0.127072       0.237838   \n",
       "\n",
       "   chrX_91434803  chrX_91434826   Age  \n",
       "0       0.011905       0.045161  34.0  \n",
       "1       0.126316       0.225806  46.0  \n",
       "2       0.088083       0.148352  47.0  \n",
       "\n",
       "[3 rows x 46519 columns]"
      ]
     },
     "execution_count": 51,
     "metadata": {},
     "output_type": "execute_result"
    }
   ],
   "source": [
    "df.head(3)"
   ]
  },
  {
   "cell_type": "code",
   "execution_count": 52,
   "metadata": {},
   "outputs": [
    {
     "name": "stdout",
     "output_type": "stream",
     "text": [
      "458\n"
     ]
    }
   ],
   "source": [
    "map_dict = dict(zip(df[\"sampleID\"], df[\"Age\"]))\n",
    "\n",
    "print(len(map_dict))"
   ]
  },
  {
   "cell_type": "code",
   "execution_count": 53,
   "metadata": {},
   "outputs": [],
   "source": [
    "dataframe = frame.loc[:, [\"Sample\", \"Predicted Age\"]]"
   ]
  },
  {
   "cell_type": "code",
   "execution_count": 54,
   "metadata": {},
   "outputs": [],
   "source": [
    "dataframe = dataframe.rename(columns = {\"Sample\": \"sampleID\"})"
   ]
  },
  {
   "cell_type": "code",
   "execution_count": 55,
   "metadata": {},
   "outputs": [],
   "source": [
    "dataframe[\"realage\"] = dataframe[\"sampleID\"].map(map_dict)"
   ]
  },
  {
   "cell_type": "code",
   "execution_count": 56,
   "metadata": {},
   "outputs": [
    {
     "data": {
      "text/plain": [
       "0"
      ]
     },
     "execution_count": 56,
     "metadata": {},
     "output_type": "execute_result"
    }
   ],
   "source": [
    "dataframe.isna().sum().sum()"
   ]
  },
  {
   "cell_type": "code",
   "execution_count": 57,
   "metadata": {},
   "outputs": [
    {
     "data": {
      "text/html": [
       "<div>\n",
       "<style scoped>\n",
       "    .dataframe tbody tr th:only-of-type {\n",
       "        vertical-align: middle;\n",
       "    }\n",
       "\n",
       "    .dataframe tbody tr th {\n",
       "        vertical-align: top;\n",
       "    }\n",
       "\n",
       "    .dataframe thead th {\n",
       "        text-align: right;\n",
       "    }\n",
       "</style>\n",
       "<table border=\"1\" class=\"dataframe\">\n",
       "  <thead>\n",
       "    <tr style=\"text-align: right;\">\n",
       "      <th></th>\n",
       "      <th>sampleID</th>\n",
       "      <th>Predicted Age</th>\n",
       "      <th>realage</th>\n",
       "    </tr>\n",
       "  </thead>\n",
       "  <tbody>\n",
       "    <tr>\n",
       "      <th>453</th>\n",
       "      <td>Turk-12R</td>\n",
       "      <td>23.0</td>\n",
       "      <td>19.0</td>\n",
       "    </tr>\n",
       "    <tr>\n",
       "      <th>454</th>\n",
       "      <td>Turk-15R</td>\n",
       "      <td>88.0</td>\n",
       "      <td>83.0</td>\n",
       "    </tr>\n",
       "    <tr>\n",
       "      <th>455</th>\n",
       "      <td>Turk-21</td>\n",
       "      <td>58.0</td>\n",
       "      <td>60.0</td>\n",
       "    </tr>\n",
       "    <tr>\n",
       "      <th>456</th>\n",
       "      <td>Turk-C26</td>\n",
       "      <td>27.0</td>\n",
       "      <td>23.0</td>\n",
       "    </tr>\n",
       "    <tr>\n",
       "      <th>457</th>\n",
       "      <td>Turk-C33</td>\n",
       "      <td>45.0</td>\n",
       "      <td>40.0</td>\n",
       "    </tr>\n",
       "  </tbody>\n",
       "</table>\n",
       "</div>"
      ],
      "text/plain": [
       "     sampleID  Predicted Age  realage\n",
       "453  Turk-12R           23.0     19.0\n",
       "454  Turk-15R           88.0     83.0\n",
       "455   Turk-21           58.0     60.0\n",
       "456  Turk-C26           27.0     23.0\n",
       "457  Turk-C33           45.0     40.0"
      ]
     },
     "execution_count": 57,
     "metadata": {},
     "output_type": "execute_result"
    }
   ],
   "source": [
    "dataframe.tail(5)"
   ]
  },
  {
   "cell_type": "code",
   "execution_count": 58,
   "metadata": {},
   "outputs": [],
   "source": [
    "data = dataframe[dataframe.isna().any(axis=1)]"
   ]
  },
  {
   "cell_type": "code",
   "execution_count": 59,
   "metadata": {},
   "outputs": [],
   "source": [
    "data[\"sampleID\"] = data[\"sampleID\"].astype(object).astype(int)"
   ]
  },
  {
   "cell_type": "code",
   "execution_count": 60,
   "metadata": {},
   "outputs": [
    {
     "name": "stdout",
     "output_type": "stream",
     "text": [
      "const      1.398093\n",
      "realage    0.976788\n",
      "dtype: float64\n",
      "                            OLS Regression Results                            \n",
      "==============================================================================\n",
      "Dep. Variable:          Predicted Age   R-squared:                       0.786\n",
      "Model:                            OLS   Adj. R-squared:                  0.786\n",
      "Method:                 Least Squares   F-statistic:                     1678.\n",
      "Date:                Fri, 22 Dec 2023   Prob (F-statistic):          6.50e-155\n",
      "Time:                        13:51:09   Log-Likelihood:                -1653.8\n",
      "No. Observations:                 458   AIC:                             3312.\n",
      "Df Residuals:                     456   BIC:                             3320.\n",
      "Df Model:                           1                                         \n",
      "Covariance Type:            nonrobust                                         \n",
      "==============================================================================\n",
      "                 coef    std err          t      P>|t|      [0.025      0.975]\n",
      "------------------------------------------------------------------------------\n",
      "const          1.3981      1.368      1.022      0.307      -1.291       4.087\n",
      "realage        0.9768      0.024     40.963      0.000       0.930       1.024\n",
      "==============================================================================\n",
      "Omnibus:                        4.788   Durbin-Watson:                   1.846\n",
      "Prob(Omnibus):                  0.091   Jarque-Bera (JB):                4.628\n",
      "Skew:                           0.204   Prob(JB):                       0.0989\n",
      "Kurtosis:                       3.277   Cond. No.                         187.\n",
      "==============================================================================\n",
      "\n",
      "Notes:\n",
      "[1] Standard Errors assume that the covariance matrix of the errors is correctly specified.\n"
     ]
    }
   ],
   "source": [
    "x = dataframe[\"realage\"]\n",
    "\n",
    "y = dataframe[\"Predicted Age\"]\n",
    "\n",
    "model = sm.OLS(y, sm.add_constant(x))\n",
    "\n",
    "results = model.fit()\n",
    "\n",
    "print(results.params)\n",
    "print(results.summary())"
   ]
  },
  {
   "cell_type": "code",
   "execution_count": 61,
   "metadata": {},
   "outputs": [
    {
     "name": "stdout",
     "output_type": "stream",
     "text": [
      "Mean absolute error: 6.975720524017467\n"
     ]
    }
   ],
   "source": [
    "actual = dataframe['realage'].tolist()\n",
    "predicted = dataframe['Predicted Age'].tolist()\n",
    "\n",
    "#print(actual, predicted)\n",
    "\n",
    "n = 458\n",
    "sum = 0\n",
    "\n",
    "for i in range(n):\n",
    "    sum += abs(actual[i] - predicted[i])\n",
    "\n",
    "error = sum/n\n",
    "\n",
    "#display\n",
    "\n",
    "print(\"Mean absolute error: \" + str(error))"
   ]
  },
  {
   "cell_type": "markdown",
   "metadata": {},
   "source": [
    "### Tau = 0.5"
   ]
  },
  {
   "cell_type": "code",
   "execution_count": 62,
   "metadata": {},
   "outputs": [],
   "source": [
    "import os\n",
    "os.getcwd()\n",
    "import pandas as pd"
   ]
  },
  {
   "cell_type": "code",
   "execution_count": 63,
   "metadata": {},
   "outputs": [],
   "source": [
    "os.chdir(\"/Users/lajoyce/Documents/genomics/epiage/BayesAge/data/split/predictions/tau_point_five\")"
   ]
  },
  {
   "cell_type": "code",
   "execution_count": 64,
   "metadata": {},
   "outputs": [
    {
     "name": "stdout",
     "output_type": "stream",
     "text": [
      "10\n"
     ]
    }
   ],
   "source": [
    "ls = [f for f in os.listdir('.') if f.endswith('.tsv')] \n",
    "\n",
    "#print(ls)\n",
    "print(len(ls))"
   ]
  },
  {
   "cell_type": "code",
   "execution_count": 65,
   "metadata": {},
   "outputs": [],
   "source": [
    "datas = []\n",
    "\n",
    "for filename in ls:\n",
    "    dataframe = pd.read_csv(filename, index_col=None, header=0, sep='\\t')\n",
    "    datas.append(dataframe)\n",
    "\n",
    "frame = pd.concat(datas, axis=0, ignore_index=True)\n",
    "\n",
    "#print(frame)"
   ]
  },
  {
   "cell_type": "code",
   "execution_count": 66,
   "metadata": {},
   "outputs": [
    {
     "data": {
      "text/plain": [
       "0"
      ]
     },
     "execution_count": 66,
     "metadata": {},
     "output_type": "execute_result"
    }
   ],
   "source": [
    "frame.isna().sum().sum()"
   ]
  },
  {
   "cell_type": "code",
   "execution_count": 67,
   "metadata": {},
   "outputs": [],
   "source": [
    "os.chdir(\"/Users/lajoyce/Documents/genomics/epiage/458_sample/\")"
   ]
  },
  {
   "cell_type": "code",
   "execution_count": 68,
   "metadata": {},
   "outputs": [
    {
     "data": {
      "text/plain": [
       "(458, 46519)"
      ]
     },
     "execution_count": 68,
     "metadata": {},
     "output_type": "execute_result"
    }
   ],
   "source": [
    "df = pd.read_csv(\"sample_458_age.csv\", sep = \"\\t\", low_memory=False)\n",
    "\n",
    "df.shape"
   ]
  },
  {
   "cell_type": "code",
   "execution_count": 69,
   "metadata": {},
   "outputs": [
    {
     "name": "stdout",
     "output_type": "stream",
     "text": [
      "458\n"
     ]
    }
   ],
   "source": [
    "map_dict = dict(zip(df[\"sampleID\"], df[\"Age\"]))\n",
    "\n",
    "print(len(map_dict))"
   ]
  },
  {
   "cell_type": "code",
   "execution_count": 70,
   "metadata": {},
   "outputs": [],
   "source": [
    "dataframe = frame.loc[:, [\"Sample\", \"Predicted Age\"]]"
   ]
  },
  {
   "cell_type": "code",
   "execution_count": 71,
   "metadata": {},
   "outputs": [],
   "source": [
    "dataframe = dataframe.rename(columns = {\"Sample\": \"sampleID\"})"
   ]
  },
  {
   "cell_type": "code",
   "execution_count": 72,
   "metadata": {},
   "outputs": [],
   "source": [
    "dataframe[\"realage\"] = dataframe[\"sampleID\"].map(map_dict)"
   ]
  },
  {
   "cell_type": "code",
   "execution_count": 73,
   "metadata": {},
   "outputs": [
    {
     "data": {
      "text/plain": [
       "0"
      ]
     },
     "execution_count": 73,
     "metadata": {},
     "output_type": "execute_result"
    }
   ],
   "source": [
    "dataframe.isna().sum().sum()"
   ]
  },
  {
   "cell_type": "code",
   "execution_count": 74,
   "metadata": {},
   "outputs": [
    {
     "name": "stdout",
     "output_type": "stream",
     "text": [
      "const      1.303445\n",
      "realage    0.981199\n",
      "dtype: float64\n",
      "                            OLS Regression Results                            \n",
      "==============================================================================\n",
      "Dep. Variable:          Predicted Age   R-squared:                       0.784\n",
      "Model:                            OLS   Adj. R-squared:                  0.783\n",
      "Method:                 Least Squares   F-statistic:                     1653.\n",
      "Date:                Fri, 22 Dec 2023   Prob (F-statistic):          9.77e-154\n",
      "Time:                        13:55:08   Log-Likelihood:                -1659.4\n",
      "No. Observations:                 458   AIC:                             3323.\n",
      "Df Residuals:                     456   BIC:                             3331.\n",
      "Df Model:                           1                                         \n",
      "Covariance Type:            nonrobust                                         \n",
      "==============================================================================\n",
      "                 coef    std err          t      P>|t|      [0.025      0.975]\n",
      "------------------------------------------------------------------------------\n",
      "const          1.3034      1.385      0.941      0.347      -1.418       4.025\n",
      "realage        0.9812      0.024     40.654      0.000       0.934       1.029\n",
      "==============================================================================\n",
      "Omnibus:                       10.306   Durbin-Watson:                   1.817\n",
      "Prob(Omnibus):                  0.006   Jarque-Bera (JB):               10.984\n",
      "Skew:                           0.300   Prob(JB):                      0.00412\n",
      "Kurtosis:                       3.465   Cond. No.                         187.\n",
      "==============================================================================\n",
      "\n",
      "Notes:\n",
      "[1] Standard Errors assume that the covariance matrix of the errors is correctly specified.\n"
     ]
    }
   ],
   "source": [
    "x = dataframe[\"realage\"]\n",
    "\n",
    "y = dataframe[\"Predicted Age\"]\n",
    "\n",
    "model = sm.OLS(y, sm.add_constant(x))\n",
    "\n",
    "results = model.fit()\n",
    "\n",
    "print(results.params)\n",
    "print(results.summary())"
   ]
  },
  {
   "cell_type": "code",
   "execution_count": 75,
   "metadata": {},
   "outputs": [
    {
     "name": "stdout",
     "output_type": "stream",
     "text": [
      "Mean absolute error: 6.987860262008733\n"
     ]
    }
   ],
   "source": [
    "actual = dataframe['realage'].tolist()\n",
    "predicted = dataframe['Predicted Age'].tolist()\n",
    "\n",
    "#print(actual, predicted)\n",
    "\n",
    "n = 458\n",
    "sum = 0\n",
    "\n",
    "for i in range(n):\n",
    "    sum += abs(actual[i] - predicted[i])\n",
    "\n",
    "error = sum/n\n",
    "\n",
    "#display\n",
    "\n",
    "print(\"Mean absolute error: \" + str(error))"
   ]
  },
  {
   "cell_type": "markdown",
   "metadata": {},
   "source": [
    "### Tau = 0.9"
   ]
  },
  {
   "cell_type": "code",
   "execution_count": 76,
   "metadata": {},
   "outputs": [],
   "source": [
    "import os\n",
    "os.getcwd()\n",
    "import pandas as pd"
   ]
  },
  {
   "cell_type": "code",
   "execution_count": 77,
   "metadata": {},
   "outputs": [],
   "source": [
    "os.chdir(\"/Users/lajoyce/Documents/genomics/epiage/BayesAge/data/split/predictions/tau_point_nine\")"
   ]
  },
  {
   "cell_type": "code",
   "execution_count": 78,
   "metadata": {},
   "outputs": [
    {
     "name": "stdout",
     "output_type": "stream",
     "text": [
      "10\n"
     ]
    }
   ],
   "source": [
    "ls = [f for f in os.listdir('.') if f.endswith('.tsv')] \n",
    "\n",
    "#print(ls)\n",
    "print(len(ls))"
   ]
  },
  {
   "cell_type": "code",
   "execution_count": 79,
   "metadata": {},
   "outputs": [],
   "source": [
    "datas = []\n",
    "\n",
    "for filename in ls:\n",
    "    dataframe = pd.read_csv(filename, index_col=None, header=0, sep='\\t')\n",
    "    datas.append(dataframe)\n",
    "\n",
    "frame = pd.concat(datas, axis=0, ignore_index=True)\n",
    "\n",
    "#print(frame)"
   ]
  },
  {
   "cell_type": "code",
   "execution_count": 80,
   "metadata": {},
   "outputs": [
    {
     "data": {
      "text/plain": [
       "0"
      ]
     },
     "execution_count": 80,
     "metadata": {},
     "output_type": "execute_result"
    }
   ],
   "source": [
    "frame.isna().sum().sum()"
   ]
  },
  {
   "cell_type": "code",
   "execution_count": 81,
   "metadata": {},
   "outputs": [],
   "source": [
    "os.chdir(\"/Users/lajoyce/Documents/genomics/epiage/458_sample/\")"
   ]
  },
  {
   "cell_type": "code",
   "execution_count": 82,
   "metadata": {},
   "outputs": [
    {
     "data": {
      "text/plain": [
       "(458, 46519)"
      ]
     },
     "execution_count": 82,
     "metadata": {},
     "output_type": "execute_result"
    }
   ],
   "source": [
    "df = pd.read_csv(\"sample_458_age.csv\", sep = \"\\t\", low_memory=False)\n",
    "\n",
    "df.shape"
   ]
  },
  {
   "cell_type": "code",
   "execution_count": 83,
   "metadata": {},
   "outputs": [
    {
     "name": "stdout",
     "output_type": "stream",
     "text": [
      "458\n"
     ]
    }
   ],
   "source": [
    "map_dict = dict(zip(df[\"sampleID\"], df[\"Age\"]))\n",
    "\n",
    "print(len(map_dict))"
   ]
  },
  {
   "cell_type": "code",
   "execution_count": 84,
   "metadata": {},
   "outputs": [],
   "source": [
    "dataframe = frame.loc[:, [\"Sample\", \"Predicted Age\"]]"
   ]
  },
  {
   "cell_type": "code",
   "execution_count": 85,
   "metadata": {},
   "outputs": [],
   "source": [
    "dataframe = dataframe.rename(columns = {\"Sample\": \"sampleID\"})"
   ]
  },
  {
   "cell_type": "code",
   "execution_count": 86,
   "metadata": {},
   "outputs": [],
   "source": [
    "dataframe[\"realage\"] = dataframe[\"sampleID\"].map(map_dict)"
   ]
  },
  {
   "cell_type": "code",
   "execution_count": 88,
   "metadata": {},
   "outputs": [
    {
     "data": {
      "text/html": [
       "<div>\n",
       "<style scoped>\n",
       "    .dataframe tbody tr th:only-of-type {\n",
       "        vertical-align: middle;\n",
       "    }\n",
       "\n",
       "    .dataframe tbody tr th {\n",
       "        vertical-align: top;\n",
       "    }\n",
       "\n",
       "    .dataframe thead th {\n",
       "        text-align: right;\n",
       "    }\n",
       "</style>\n",
       "<table border=\"1\" class=\"dataframe\">\n",
       "  <thead>\n",
       "    <tr style=\"text-align: right;\">\n",
       "      <th></th>\n",
       "      <th>sampleID</th>\n",
       "      <th>Predicted Age</th>\n",
       "      <th>realage</th>\n",
       "    </tr>\n",
       "  </thead>\n",
       "  <tbody>\n",
       "    <tr>\n",
       "      <th>189</th>\n",
       "      <td>Neonate1045</td>\n",
       "      <td>0.0</td>\n",
       "      <td>0.0</td>\n",
       "    </tr>\n",
       "  </tbody>\n",
       "</table>\n",
       "</div>"
      ],
      "text/plain": [
       "        sampleID  Predicted Age  realage\n",
       "189  Neonate1045            0.0      0.0"
      ]
     },
     "execution_count": 88,
     "metadata": {},
     "output_type": "execute_result"
    }
   ],
   "source": [
    "dataframe[dataframe[\"sampleID\"] == \"Neonate1045\"]"
   ]
  },
  {
   "cell_type": "code",
   "execution_count": 89,
   "metadata": {},
   "outputs": [
    {
     "name": "stdout",
     "output_type": "stream",
     "text": [
      "const      1.082392\n",
      "realage    0.992321\n",
      "dtype: float64\n",
      "                            OLS Regression Results                            \n",
      "==============================================================================\n",
      "Dep. Variable:          Predicted Age   R-squared:                       0.774\n",
      "Model:                            OLS   Adj. R-squared:                  0.774\n",
      "Method:                 Least Squares   F-statistic:                     1563.\n",
      "Date:                Fri, 22 Dec 2023   Prob (F-statistic):          1.96e-149\n",
      "Time:                        14:04:05   Log-Likelihood:                -1677.3\n",
      "No. Observations:                 458   AIC:                             3359.\n",
      "Df Residuals:                     456   BIC:                             3367.\n",
      "Df Model:                           1                                         \n",
      "Covariance Type:            nonrobust                                         \n",
      "==============================================================================\n",
      "                 coef    std err          t      P>|t|      [0.025      0.975]\n",
      "------------------------------------------------------------------------------\n",
      "const          1.0824      1.440      0.752      0.453      -1.748       3.913\n",
      "realage        0.9923      0.025     39.537      0.000       0.943       1.042\n",
      "==============================================================================\n",
      "Omnibus:                       21.750   Durbin-Watson:                   1.828\n",
      "Prob(Omnibus):                  0.000   Jarque-Bera (JB):               26.211\n",
      "Skew:                           0.451   Prob(JB):                     2.03e-06\n",
      "Kurtosis:                       3.747   Cond. No.                         187.\n",
      "==============================================================================\n",
      "\n",
      "Notes:\n",
      "[1] Standard Errors assume that the covariance matrix of the errors is correctly specified.\n"
     ]
    }
   ],
   "source": [
    "x = dataframe[\"realage\"]\n",
    "\n",
    "y = dataframe[\"Predicted Age\"]\n",
    "\n",
    "model = sm.OLS(y, sm.add_constant(x))\n",
    "\n",
    "results = model.fit()\n",
    "\n",
    "print(results.params)\n",
    "print(results.summary())"
   ]
  },
  {
   "cell_type": "code",
   "execution_count": 90,
   "metadata": {},
   "outputs": [
    {
     "name": "stdout",
     "output_type": "stream",
     "text": [
      "Mean absolute error: 7.181004366812227\n"
     ]
    }
   ],
   "source": [
    "actual = dataframe['realage'].tolist()\n",
    "predicted = dataframe['Predicted Age'].tolist()\n",
    "\n",
    "#print(actual, predicted)\n",
    "\n",
    "n = 458\n",
    "sum = 0\n",
    "\n",
    "for i in range(n):\n",
    "    sum += abs(actual[i] - predicted[i])\n",
    "\n",
    "error = sum/n\n",
    "\n",
    "#display\n",
    "\n",
    "print(\"Mean absolute error: \" + str(error))"
   ]
  },
  {
   "cell_type": "markdown",
   "metadata": {},
   "source": [
    "### Tau = 1.0"
   ]
  },
  {
   "cell_type": "code",
   "execution_count": 91,
   "metadata": {},
   "outputs": [],
   "source": [
    "import os\n",
    "os.getcwd()\n",
    "import pandas as pd"
   ]
  },
  {
   "cell_type": "code",
   "execution_count": 92,
   "metadata": {},
   "outputs": [],
   "source": [
    "os.chdir(\"/Users/lajoyce/Documents/genomics/epiage/BayesAge/data/split/predictions/tau_one\")"
   ]
  },
  {
   "cell_type": "code",
   "execution_count": 93,
   "metadata": {},
   "outputs": [
    {
     "name": "stdout",
     "output_type": "stream",
     "text": [
      "10\n"
     ]
    }
   ],
   "source": [
    "ls = [f for f in os.listdir('.') if f.endswith('.tsv')] \n",
    "\n",
    "#print(ls)\n",
    "print(len(ls))"
   ]
  },
  {
   "cell_type": "code",
   "execution_count": 94,
   "metadata": {},
   "outputs": [],
   "source": [
    "datas = []\n",
    "\n",
    "for filename in ls:\n",
    "    dataframe = pd.read_csv(filename, index_col=None, header=0, sep='\\t')\n",
    "    datas.append(dataframe)\n",
    "\n",
    "frame = pd.concat(datas, axis=0, ignore_index=True)\n",
    "\n",
    "#print(frame)"
   ]
  },
  {
   "cell_type": "code",
   "execution_count": 95,
   "metadata": {},
   "outputs": [],
   "source": [
    "os.chdir(\"/Users/lajoyce/Documents/genomics/epiage/458_sample/\")"
   ]
  },
  {
   "cell_type": "code",
   "execution_count": 96,
   "metadata": {},
   "outputs": [
    {
     "data": {
      "text/plain": [
       "(458, 46519)"
      ]
     },
     "execution_count": 96,
     "metadata": {},
     "output_type": "execute_result"
    }
   ],
   "source": [
    "df = pd.read_csv(\"sample_458_age.csv\", sep = \"\\t\", low_memory=False)\n",
    "\n",
    "df.shape"
   ]
  },
  {
   "cell_type": "code",
   "execution_count": 97,
   "metadata": {},
   "outputs": [
    {
     "name": "stdout",
     "output_type": "stream",
     "text": [
      "458\n"
     ]
    }
   ],
   "source": [
    "map_dict = dict(zip(df[\"sampleID\"], df[\"Age\"]))\n",
    "\n",
    "print(len(map_dict))"
   ]
  },
  {
   "cell_type": "code",
   "execution_count": 98,
   "metadata": {},
   "outputs": [],
   "source": [
    "dataframe = frame.loc[:, [\"Sample\", \"Predicted Age\"]]\n",
    "\n",
    "dataframe = dataframe.rename(columns = {\"Sample\": \"sampleID\"})\n",
    "\n",
    "dataframe[\"realage\"] = dataframe[\"sampleID\"].map(map_dict)"
   ]
  },
  {
   "cell_type": "code",
   "execution_count": 99,
   "metadata": {},
   "outputs": [
    {
     "data": {
      "text/plain": [
       "0"
      ]
     },
     "execution_count": 99,
     "metadata": {},
     "output_type": "execute_result"
    }
   ],
   "source": [
    "dataframe.isna().sum().sum()"
   ]
  },
  {
   "cell_type": "code",
   "execution_count": 100,
   "metadata": {},
   "outputs": [
    {
     "name": "stdout",
     "output_type": "stream",
     "text": [
      "const      1.466584\n",
      "realage    0.986966\n",
      "dtype: float64\n",
      "                            OLS Regression Results                            \n",
      "==============================================================================\n",
      "Dep. Variable:          Predicted Age   R-squared:                       0.774\n",
      "Model:                            OLS   Adj. R-squared:                  0.773\n",
      "Method:                 Least Squares   F-statistic:                     1557.\n",
      "Date:                Fri, 22 Dec 2023   Prob (F-statistic):          3.82e-149\n",
      "Time:                        14:07:57   Log-Likelihood:                -1675.7\n",
      "No. Observations:                 458   AIC:                             3355.\n",
      "Df Residuals:                     456   BIC:                             3364.\n",
      "Df Model:                           1                                         \n",
      "Covariance Type:            nonrobust                                         \n",
      "==============================================================================\n",
      "                 coef    std err          t      P>|t|      [0.025      0.975]\n",
      "------------------------------------------------------------------------------\n",
      "const          1.4666      1.435      1.022      0.307      -1.354       4.287\n",
      "realage        0.9870      0.025     39.462      0.000       0.938       1.036\n",
      "==============================================================================\n",
      "Omnibus:                       24.172   Durbin-Watson:                   1.831\n",
      "Prob(Omnibus):                  0.000   Jarque-Bera (JB):               29.555\n",
      "Skew:                           0.482   Prob(JB):                     3.82e-07\n",
      "Kurtosis:                       3.786   Cond. No.                         187.\n",
      "==============================================================================\n",
      "\n",
      "Notes:\n",
      "[1] Standard Errors assume that the covariance matrix of the errors is correctly specified.\n"
     ]
    }
   ],
   "source": [
    "x = dataframe[\"realage\"]\n",
    "\n",
    "y = dataframe[\"Predicted Age\"]\n",
    "\n",
    "model = sm.OLS(y, sm.add_constant(x))\n",
    "\n",
    "results = model.fit()\n",
    "\n",
    "print(results.params)\n",
    "print(results.summary())"
   ]
  },
  {
   "cell_type": "code",
   "execution_count": 101,
   "metadata": {},
   "outputs": [
    {
     "name": "stdout",
     "output_type": "stream",
     "text": [
      "Mean absolute error: 7.145676855895196\n"
     ]
    }
   ],
   "source": [
    "actual = dataframe['realage'].tolist()\n",
    "predicted = dataframe['Predicted Age'].tolist()\n",
    "\n",
    "#print(actual, predicted)\n",
    "\n",
    "n = 458\n",
    "sum = 0\n",
    "\n",
    "for i in range(n):\n",
    "    sum += abs(actual[i] - predicted[i])\n",
    "\n",
    "error = sum/n\n",
    "\n",
    "#display\n",
    "\n",
    "print(\"Mean absolute error: \" + str(error))"
   ]
  },
  {
   "cell_type": "code",
   "execution_count": null,
   "metadata": {},
   "outputs": [],
   "source": []
  }
 ],
 "metadata": {
  "kernelspec": {
   "display_name": "epiage",
   "language": "python",
   "name": "python3"
  },
  "language_info": {
   "codemirror_mode": {
    "name": "ipython",
    "version": 3
   },
   "file_extension": ".py",
   "mimetype": "text/x-python",
   "name": "python",
   "nbconvert_exporter": "python",
   "pygments_lexer": "ipython3",
   "version": "3.9.6"
  }
 },
 "nbformat": 4,
 "nbformat_minor": 2
}
