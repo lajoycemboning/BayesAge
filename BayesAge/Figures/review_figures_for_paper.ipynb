{
 "cells": [
  {
   "cell_type": "code",
   "execution_count": 1,
   "metadata": {},
   "outputs": [],
   "source": [
    "import pandas as pd\n",
    "import matplotlib.pyplot as plt\n",
    "import numpy as np\n",
    "import os\n",
    "#import numpy as np\n",
    "import statsmodels.api as sm\n",
    "lowess = sm.nonparametric.lowess"
   ]
  },
  {
   "cell_type": "code",
   "execution_count": 2,
   "metadata": {},
   "outputs": [
    {
     "data": {
      "text/plain": [
       "'/Users/lajoyce/Documents/genomics/epiage/BayesAge'"
      ]
     },
     "execution_count": 2,
     "metadata": {},
     "output_type": "execute_result"
    }
   ],
   "source": [
    "os.getcwd()"
   ]
  },
  {
   "cell_type": "code",
   "execution_count": 3,
   "metadata": {},
   "outputs": [
    {
     "name": "stderr",
     "output_type": "stream",
     "text": [
      "/var/folders/bz/x865_p_5033ds1dp07zb8qn00000gn/T/ipykernel_79189/2738422727.py:1: DtypeWarning: Columns (0) have mixed types. Specify dtype option on import or set low_memory=False.\n",
      "  df = pd.read_csv(\"/Users/lajoyce/Documents/genomics/epiage/BayesAge/data/sample_458_age.csv\", sep = \"\\t\")\n"
     ]
    },
    {
     "data": {
      "text/html": [
       "<div>\n",
       "<style scoped>\n",
       "    .dataframe tbody tr th:only-of-type {\n",
       "        vertical-align: middle;\n",
       "    }\n",
       "\n",
       "    .dataframe tbody tr th {\n",
       "        vertical-align: top;\n",
       "    }\n",
       "\n",
       "    .dataframe thead th {\n",
       "        text-align: right;\n",
       "    }\n",
       "</style>\n",
       "<table border=\"1\" class=\"dataframe\">\n",
       "  <thead>\n",
       "    <tr style=\"text-align: right;\">\n",
       "      <th></th>\n",
       "      <th>sampleID</th>\n",
       "      <th>chr1_100424052</th>\n",
       "      <th>chr1_100424116</th>\n",
       "      <th>chr1_100718749</th>\n",
       "      <th>chr1_100718777</th>\n",
       "      <th>chr1_100719693</th>\n",
       "      <th>chr1_100719742</th>\n",
       "      <th>chr1_100719744</th>\n",
       "      <th>chr1_100719756</th>\n",
       "      <th>chr1_100719847</th>\n",
       "      <th>...</th>\n",
       "      <th>chrX_70133602</th>\n",
       "      <th>chrX_70133614</th>\n",
       "      <th>chrX_72573198</th>\n",
       "      <th>chrX_72573200</th>\n",
       "      <th>chrX_72573216</th>\n",
       "      <th>chrX_91434796</th>\n",
       "      <th>chrX_91434801</th>\n",
       "      <th>chrX_91434803</th>\n",
       "      <th>chrX_91434826</th>\n",
       "      <th>Age</th>\n",
       "    </tr>\n",
       "  </thead>\n",
       "  <tbody>\n",
       "    <tr>\n",
       "      <th>0</th>\n",
       "      <td>P41019081704087</td>\n",
       "      <td>0.093842</td>\n",
       "      <td>0.026515</td>\n",
       "      <td>0.006906</td>\n",
       "      <td>0.174535</td>\n",
       "      <td>0.319149</td>\n",
       "      <td>0.697318</td>\n",
       "      <td>0.483591</td>\n",
       "      <td>0.336207</td>\n",
       "      <td>0.306792</td>\n",
       "      <td>...</td>\n",
       "      <td>0.003676</td>\n",
       "      <td>0.000000</td>\n",
       "      <td>0.002294</td>\n",
       "      <td>0.008830</td>\n",
       "      <td>0.001996</td>\n",
       "      <td>0.000000</td>\n",
       "      <td>0.018405</td>\n",
       "      <td>0.011905</td>\n",
       "      <td>0.045161</td>\n",
       "      <td>34.0</td>\n",
       "    </tr>\n",
       "    <tr>\n",
       "      <th>1</th>\n",
       "      <td>P41019081704090</td>\n",
       "      <td>0.010256</td>\n",
       "      <td>0.000000</td>\n",
       "      <td>0.000000</td>\n",
       "      <td>0.235808</td>\n",
       "      <td>0.460432</td>\n",
       "      <td>0.796334</td>\n",
       "      <td>0.675676</td>\n",
       "      <td>0.520737</td>\n",
       "      <td>0.512941</td>\n",
       "      <td>...</td>\n",
       "      <td>0.442708</td>\n",
       "      <td>0.423913</td>\n",
       "      <td>0.216117</td>\n",
       "      <td>0.282609</td>\n",
       "      <td>0.081356</td>\n",
       "      <td>0.189944</td>\n",
       "      <td>0.182796</td>\n",
       "      <td>0.126316</td>\n",
       "      <td>0.225806</td>\n",
       "      <td>46.0</td>\n",
       "    </tr>\n",
       "    <tr>\n",
       "      <th>2</th>\n",
       "      <td>P41019081704100</td>\n",
       "      <td>0.325843</td>\n",
       "      <td>0.010204</td>\n",
       "      <td>0.038961</td>\n",
       "      <td>0.226776</td>\n",
       "      <td>0.682594</td>\n",
       "      <td>0.790660</td>\n",
       "      <td>0.724473</td>\n",
       "      <td>0.550918</td>\n",
       "      <td>0.646091</td>\n",
       "      <td>...</td>\n",
       "      <td>0.423963</td>\n",
       "      <td>0.228856</td>\n",
       "      <td>0.211356</td>\n",
       "      <td>0.389571</td>\n",
       "      <td>0.167082</td>\n",
       "      <td>0.127072</td>\n",
       "      <td>0.237838</td>\n",
       "      <td>0.088083</td>\n",
       "      <td>0.148352</td>\n",
       "      <td>47.0</td>\n",
       "    </tr>\n",
       "    <tr>\n",
       "      <th>3</th>\n",
       "      <td>P41019081704106</td>\n",
       "      <td>0.117647</td>\n",
       "      <td>0.034274</td>\n",
       "      <td>0.054332</td>\n",
       "      <td>0.157618</td>\n",
       "      <td>0.399802</td>\n",
       "      <td>0.780488</td>\n",
       "      <td>0.532505</td>\n",
       "      <td>0.465587</td>\n",
       "      <td>0.429896</td>\n",
       "      <td>...</td>\n",
       "      <td>0.326284</td>\n",
       "      <td>0.355224</td>\n",
       "      <td>0.244514</td>\n",
       "      <td>0.376582</td>\n",
       "      <td>0.181440</td>\n",
       "      <td>0.132000</td>\n",
       "      <td>0.083019</td>\n",
       "      <td>0.136364</td>\n",
       "      <td>0.094862</td>\n",
       "      <td>38.0</td>\n",
       "    </tr>\n",
       "    <tr>\n",
       "      <th>4</th>\n",
       "      <td>P41019081704108</td>\n",
       "      <td>0.045213</td>\n",
       "      <td>0.006135</td>\n",
       "      <td>0.032438</td>\n",
       "      <td>0.197802</td>\n",
       "      <td>0.350000</td>\n",
       "      <td>0.743935</td>\n",
       "      <td>0.582768</td>\n",
       "      <td>0.435679</td>\n",
       "      <td>0.396048</td>\n",
       "      <td>...</td>\n",
       "      <td>0.418874</td>\n",
       "      <td>0.344068</td>\n",
       "      <td>0.246377</td>\n",
       "      <td>0.378438</td>\n",
       "      <td>0.180915</td>\n",
       "      <td>0.078947</td>\n",
       "      <td>0.080235</td>\n",
       "      <td>0.084778</td>\n",
       "      <td>0.058601</td>\n",
       "      <td>47.0</td>\n",
       "    </tr>\n",
       "  </tbody>\n",
       "</table>\n",
       "<p>5 rows × 46519 columns</p>\n",
       "</div>"
      ],
      "text/plain": [
       "          sampleID  chr1_100424052  chr1_100424116  chr1_100718749  \\\n",
       "0  P41019081704087        0.093842        0.026515        0.006906   \n",
       "1  P41019081704090        0.010256        0.000000        0.000000   \n",
       "2  P41019081704100        0.325843        0.010204        0.038961   \n",
       "3  P41019081704106        0.117647        0.034274        0.054332   \n",
       "4  P41019081704108        0.045213        0.006135        0.032438   \n",
       "\n",
       "   chr1_100718777  chr1_100719693  chr1_100719742  chr1_100719744  \\\n",
       "0        0.174535        0.319149        0.697318        0.483591   \n",
       "1        0.235808        0.460432        0.796334        0.675676   \n",
       "2        0.226776        0.682594        0.790660        0.724473   \n",
       "3        0.157618        0.399802        0.780488        0.532505   \n",
       "4        0.197802        0.350000        0.743935        0.582768   \n",
       "\n",
       "   chr1_100719756  chr1_100719847  ...  chrX_70133602  chrX_70133614  \\\n",
       "0        0.336207        0.306792  ...       0.003676       0.000000   \n",
       "1        0.520737        0.512941  ...       0.442708       0.423913   \n",
       "2        0.550918        0.646091  ...       0.423963       0.228856   \n",
       "3        0.465587        0.429896  ...       0.326284       0.355224   \n",
       "4        0.435679        0.396048  ...       0.418874       0.344068   \n",
       "\n",
       "   chrX_72573198  chrX_72573200  chrX_72573216  chrX_91434796  chrX_91434801  \\\n",
       "0       0.002294       0.008830       0.001996       0.000000       0.018405   \n",
       "1       0.216117       0.282609       0.081356       0.189944       0.182796   \n",
       "2       0.211356       0.389571       0.167082       0.127072       0.237838   \n",
       "3       0.244514       0.376582       0.181440       0.132000       0.083019   \n",
       "4       0.246377       0.378438       0.180915       0.078947       0.080235   \n",
       "\n",
       "   chrX_91434803  chrX_91434826   Age  \n",
       "0       0.011905       0.045161  34.0  \n",
       "1       0.126316       0.225806  46.0  \n",
       "2       0.088083       0.148352  47.0  \n",
       "3       0.136364       0.094862  38.0  \n",
       "4       0.084778       0.058601  47.0  \n",
       "\n",
       "[5 rows x 46519 columns]"
      ]
     },
     "execution_count": 3,
     "metadata": {},
     "output_type": "execute_result"
    }
   ],
   "source": [
    "df = pd.read_csv(\"/Users/lajoyce/Documents/genomics/epiage/BayesAge/data/sample_458_age.csv\", sep = \"\\t\")\n",
    "\n",
    "df.head(5)"
   ]
  },
  {
   "cell_type": "code",
   "execution_count": 10,
   "metadata": {},
   "outputs": [
    {
     "data": {
      "image/png": "[encoded data removed]",
      "text/plain": [
       "<Figure size 640x480 with 1 Axes>"
      ]
     },
     "metadata": {},
     "output_type": "display_data"
    }
   ],
   "source": [
    "plt.hist(df[\"Age\"], bins='auto', color='steelblue', edgecolor='black')\n",
    "\n",
    "# Add labels and title\n",
    "plt.xlabel('Real Age')\n",
    "plt.ylabel('Frequency')\n",
    "plt.title(f'Histogram of Ages')\n",
    "\n",
    "\n",
    "plt.savefig(\"/Users/lajoyce/Documents/genomics/epiage/BayesAge/reviews/histogram_of_ages.png\", dpi = 300, bbox_inches = 'tight')\n",
    "# Show the plot\n",
    "plt.show()"
   ]
  },
  {
   "cell_type": "markdown",
   "metadata": {},
   "source": [
    "### LASSO & EPM Scatter & Residual Plots"
   ]
  },
  {
   "cell_type": "code",
   "execution_count": 12,
   "metadata": {},
   "outputs": [],
   "source": [
    "from PIL import Image\n",
    "import os"
   ]
  },
  {
   "cell_type": "code",
   "execution_count": 13,
   "metadata": {},
   "outputs": [],
   "source": [
    "os.chdir(\"/Users/lajoyce/Desktop/frontiers figures\")"
   ]
  },
  {
   "cell_type": "code",
   "execution_count": 23,
   "metadata": {},
   "outputs": [],
   "source": [
    "image_paths = [\"/Users/lajoyce/Desktop/paper_figs/CV_lasso_scatter_plots.png\",\n",
    "            \"/Users/lajoyce/Desktop/paper_figs/LASSO_residuals_lowess_fit.png\", \n",
    "            \"/Users/lajoyce/Desktop/paper_figs/epigenetic_pacemaker_scatter_plot_top_107_cpg_sites.png\", \n",
    "            \"/Users/lajoyce/Desktop/paper_figs/epigenetic_pacemaker_residual_lowess_fit.png\"]"
   ]
  },
  {
   "cell_type": "code",
   "execution_count": 35,
   "metadata": {},
   "outputs": [],
   "source": [
    "def pad_image(image, target_width, target_height):\n",
    "    # Calculate padding values\n",
    "    left_padding = (target_width - image.width) // 2\n",
    "    top_padding = (target_height - image.height) // 2\n",
    "\n",
    "    # Create a new image with the target dimensions\n",
    "    padded_image = Image.new('RGB', (target_width, target_height), (255, 255, 255))\n",
    "\n",
    "    # Paste the original image onto the padded image\n",
    "    padded_image.paste(image, (left_padding, top_padding))\n",
    "\n",
    "    return padded_image\n",
    "\n",
    "def concatenate_images(image_paths, output_path):\n",
    "    # Open all four images\n",
    "    images = [Image.open(image_path) for image_path in image_paths]\n",
    "\n",
    "    # Find the maximum dimensions among all images\n",
    "    max_width = max(image.width for image in images)\n",
    "    max_height = max(image.height for image in images)\n",
    "\n",
    "    # Pad each image to the maximum dimensions\n",
    "    padded_images = [pad_image(image, max_width, max_height) for image in images]\n",
    "\n",
    "    # Calculate the width and height of the concatenated image\n",
    "    new_width = 2 * max_width\n",
    "    new_height = 2 * max_height\n",
    "\n",
    "    # Create a new image with the calculated dimensions\n",
    "    new_img = Image.new('RGB', (new_width, new_height), (255, 255, 255))\n",
    "\n",
    "    # Paste each padded image onto the new image\n",
    "    for i in range(2):\n",
    "        for j in range(2):\n",
    "            index = i * 2 + j\n",
    "            new_img.paste(padded_images[index], (j * max_width, i * max_height))\n",
    "\n",
    "    # Save the concatenated image\n",
    "    new_img.save(output_path)\n",
    "\n",
    "# Example usage:\n",
    "#image_paths = [\"image1.png\", \"image2.png\", \"image3.png\", \"image4.png\"]\n",
    "concatenate_images(image_paths, \"output.png\")\n"
   ]
  },
  {
   "cell_type": "markdown",
   "metadata": {},
   "source": [
    "# 1 Million Downsampling"
   ]
  },
  {
   "cell_type": "code",
   "execution_count": 36,
   "metadata": {},
   "outputs": [],
   "source": [
    "def pad_image(image, target_width, target_height):\n",
    "    # Calculate padding values\n",
    "    left_padding = (target_width - image.width) // 2\n",
    "    top_padding = (target_height - image.height) // 2\n",
    "\n",
    "    # Create a new image with the target dimensions\n",
    "    padded_image = Image.new('RGB', (target_width, target_height), (255, 255, 255))\n",
    "\n",
    "    # Paste the original image onto the padded image\n",
    "    padded_image.paste(image, (left_padding, top_padding))\n",
    "\n",
    "    return padded_image\n",
    "\n",
    "def concatenate_images(image_paths, output_path):\n",
    "    # Open all eight images\n",
    "    images = [Image.open(image_path) for image_path in image_paths]\n",
    "\n",
    "    # Find the maximum dimensions among all images\n",
    "    max_width = max(image.width for image in images)\n",
    "    max_height = max(image.height for image in images)\n",
    "\n",
    "    # Pad each image to the maximum dimensions\n",
    "    padded_images = [pad_image(image, max_width, max_height) for image in images]\n",
    "\n",
    "    # Calculate the width and height of the concatenated image\n",
    "    new_width = 4 * max_width\n",
    "    new_height = 2 * max_height\n",
    "\n",
    "    # Create a new image with the calculated dimensions\n",
    "    new_img = Image.new('RGB', (new_width, new_height), (255, 255, 255))\n",
    "\n",
    "    # Paste each padded image onto the new image\n",
    "    for i in range(2):\n",
    "        for j in range(4):\n",
    "            index = i * 4 + j\n",
    "            new_img.paste(padded_images[index], (j * max_width, i * max_height))\n",
    "\n",
    "    # Save the concatenated image\n",
    "    new_img.save(output_path)\n"
   ]
  },
  {
   "cell_type": "code",
   "execution_count": 39,
   "metadata": {},
   "outputs": [],
   "source": [
    "# Example usage:\n",
    "image_paths = [\"/Users/lajoyce/Desktop/paper_figs/1million_scAge_458_sample_10_fold_cv_top_8_CpGs_downsampling.png\", \n",
    "               \"/Users/lajoyce/Desktop/paper_figs/BayesAge_1million_downsampling.png\", \n",
    "               \"/Users/lajoyce/Desktop/paper_figs/1million_CV_lasso_scatter_plots.png\",\n",
    "               \"/Users/lajoyce/Desktop/paper_figs/EPM_scatter_plot_top_107_cpg_sites_1million_downsampling.png\",\n",
    "               \"/Users/lajoyce/Desktop/paper_figs/scAge_1million_residuals.png\",\n",
    "               \"/Users/lajoyce/Desktop/paper_figs/BayesAge_1million_downsampling_residuals.png\", \n",
    "                \"/Users/lajoyce/Desktop/paper_figs/LASSO_residuals_1million.png\",\n",
    "                \"/Users/lajoyce/Desktop/paper_figs/EPM_1million_downsampling_residuals.png\"]\n"
   ]
  },
  {
   "cell_type": "code",
   "execution_count": 40,
   "metadata": {},
   "outputs": [],
   "source": [
    "concatenate_images(image_paths, \"scAge_BayesAge_LASSO_EPM.png\")"
   ]
  },
  {
   "cell_type": "markdown",
   "metadata": {},
   "source": [
    "# 100K Downsampling"
   ]
  },
  {
   "cell_type": "code",
   "execution_count": 41,
   "metadata": {},
   "outputs": [],
   "source": [
    "# Example usage:\n",
    "image_paths = [\"/Users/lajoyce/Desktop/paper_figs/hundred_thousand_scAge_458_sample_10_fold_cv_top_8_CpGs_downsampling.png\", \n",
    "               \"/Users/lajoyce/Desktop/paper_figs/BayesAge_100k_downsampling_scatterplot.png\", \n",
    "               \"/Users/lajoyce/Desktop/paper_figs/hundred_thousand_CV_lasso_delta_age.png\",\n",
    "               \"/Users/lajoyce/Desktop/paper_figs/EPM_scatter_plot_top_100_cpg_sites_100k_downsampling.png\",\n",
    "               \"/Users/lajoyce/Desktop/paper_figs/scAge_hundred_thousand_residuals.png\",\n",
    "               \"/Users/lajoyce/Desktop/paper_figs/BayesAge_100K_downsampling_residuals.png\", \n",
    "                \"/Users/lajoyce/Desktop/paper_figs/LASSO_residuals_hundred_thousand.png\",\n",
    "                \"/Users/lajoyce/Desktop/paper_figs/EPM_100k_downsampling_residuals.png\"]"
   ]
  },
  {
   "cell_type": "code",
   "execution_count": 42,
   "metadata": {},
   "outputs": [],
   "source": [
    "concatenate_images(image_paths, \"scAge_BayesAge_LASSO_EPM_100K.png\")"
   ]
  }
 ],
 "metadata": {
  "kernelspec": {
   "display_name": "epiage",
   "language": "python",
   "name": "python3"
  },
  "language_info": {
   "codemirror_mode": {
    "name": "ipython",
    "version": 3
   },
   "file_extension": ".py",
   "mimetype": "text/x-python",
   "name": "python",
   "nbconvert_exporter": "python",
   "pygments_lexer": "ipython3",
   "version": "3.9.6"
  }
 },
 "nbformat": 4,
 "nbformat_minor": 2
}
